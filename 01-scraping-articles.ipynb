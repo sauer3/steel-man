{
 "cells": [
  {
   "cell_type": "markdown",
   "metadata": {},
   "source": [
    "## Scraping Articles\n",
    "This notebook calls the NYT article API for metatadata for a given topic for only OP-ED and editorial articles. Then it scrapes the body of the article into a data frame.  "
   ]
  },
  {
   "cell_type": "code",
   "execution_count": 1,
   "metadata": {
    "ExecuteTime": {
     "end_time": "2020-02-22T22:03:20.713967Z",
     "start_time": "2020-02-22T22:03:20.160592Z"
    }
   },
   "outputs": [],
   "source": [
    "import requests\n",
    "import json\n",
    "import pandas as pd\n",
    "from bs4 import BeautifulSoup as soup\n",
    "import urllib\n",
    "import urllib.robotparser\n",
    "from urllib.request import urlopen\n",
    "import json\n",
    "import time\n",
    "import re"
   ]
  },
  {
   "cell_type": "code",
   "execution_count": 2,
   "metadata": {
    "ExecuteTime": {
     "end_time": "2020-02-22T22:03:21.441502Z",
     "start_time": "2020-02-22T22:03:21.438956Z"
    }
   },
   "outputs": [],
   "source": [
    "api_key = 'GIzRkc7PriEuubEK19fHWqiknOuoB5r8'"
   ]
  },
  {
   "cell_type": "markdown",
   "metadata": {},
   "source": [
    "The Article Search API returns a max of 10 results at a time. The meta node in the response contains the total number of matches (\"hits\") and the current offset. Use the page query parameter to paginate thru results (page=0 for results 1-10, page=1 for 11-20, ...). You can paginate thru up to 100 pages (1,000 results). If you get too many results try filtering by date range."
   ]
  },
  {
   "cell_type": "code",
   "execution_count": 3,
   "metadata": {
    "ExecuteTime": {
     "end_time": "2020-02-22T22:03:25.673473Z",
     "start_time": "2020-02-22T22:03:25.669799Z"
    }
   },
   "outputs": [],
   "source": [
    "# create function to construct url for articles with key words that match the topic keywords\n",
    "\n",
    "def get_url(topics, page):\n",
    "    '''This function creates a url that can be input into an NYT API request \n",
    "    input: \n",
    "        topics: if multiple include as one string eg: topics = 'policy environment'\n",
    "        page: Use the page query parameter to paginate thru results (page=0 for results 1-10, page=1 for 11-20, ...). \n",
    "              You can paginate thru up to 100 pages (1,000 results).\n",
    "    output: a url\n",
    "    '''\n",
    "\n",
    "    head_url = 'https://api.nytimes.com/svc/search/v2/articlesearch.json?'\n",
    "    page = str(page)\n",
    "    url = 'https://api.nytimes.com/svc/search/v2/articlesearch.json?q=' + topics + \\\n",
    "        '&page=' + page + \\\n",
    "        '&fq=news_desk:(\"OpEd\" \"Opinion\" \"Editorial\")&api-key=' + api_key\n",
    "\n",
    "    return url"
   ]
  },
  {
   "cell_type": "code",
   "execution_count": null,
   "metadata": {
    "ExecuteTime": {
     "end_time": "2020-02-22T01:37:58.673019Z",
     "start_time": "2020-02-22T01:37:58.506801Z"
    }
   },
   "outputs": [],
   "source": [
    "# check to see if we can scrape from NYT\n",
    "rp = urllib.robotparser.RobotFileParser()\n",
    "rp.set_url(\"https://www.nytimes.com/robots.txt\")\n",
    "rp.read()\n",
    "rrate = rp.request_rate(\"*\")\n",
    "rp.crawl_delay(\"*\")\n",
    "rp.can_fetch(\"*\", data['web_url'][0])"
   ]
  },
  {
   "cell_type": "markdown",
   "metadata": {},
   "source": [
    "#### polarizing topics\n",
    "- I want to chose polarizing topics to start with so there will be multiple opinions written about in the NYT\n",
    "-  potential subjects to focus on: environment, healthcare, immigration, economy, abortion, taxes, gun control\n",
    "- I'm going to start with immigration to test this model because I think there are a lot of different sub-topics within immigration. "
   ]
  },
  {
   "cell_type": "code",
   "execution_count": 116,
   "metadata": {
    "ExecuteTime": {
     "end_time": "2020-02-24T09:01:27.426662Z",
     "start_time": "2020-02-24T09:01:26.047050Z"
    }
   },
   "outputs": [
    {
     "data": {
      "text/html": [
       "<div>\n",
       "<style scoped>\n",
       "    .dataframe tbody tr th:only-of-type {\n",
       "        vertical-align: middle;\n",
       "    }\n",
       "\n",
       "    .dataframe tbody tr th {\n",
       "        vertical-align: top;\n",
       "    }\n",
       "\n",
       "    .dataframe thead th {\n",
       "        text-align: right;\n",
       "    }\n",
       "</style>\n",
       "<table border=\"1\" class=\"dataframe\">\n",
       "  <thead>\n",
       "    <tr style=\"text-align: right;\">\n",
       "      <th></th>\n",
       "      <th>abstract</th>\n",
       "      <th>web_url</th>\n",
       "      <th>snippet</th>\n",
       "      <th>lead_paragraph</th>\n",
       "      <th>source</th>\n",
       "      <th>headline</th>\n",
       "      <th>pub_date</th>\n",
       "      <th>document_type</th>\n",
       "      <th>news_desk</th>\n",
       "      <th>section_name</th>\n",
       "      <th>byline</th>\n",
       "    </tr>\n",
       "  </thead>\n",
       "  <tbody>\n",
       "    <tr>\n",
       "      <th>0</th>\n",
       "      <td>Mr. Sanders interviews for The New York Times’...</td>\n",
       "      <td>https://www.nytimes.com/interactive/2020/01/13...</td>\n",
       "      <td>Mr. Sanders interviews for The New York Times’...</td>\n",
       "      <td>Mr. Sanders interviews for The New York Times’...</td>\n",
       "      <td>The New York Times</td>\n",
       "      <td>Bernie Sanders Wants to Change Your Mind</td>\n",
       "      <td>2020-01-13T10:00:01+0000</td>\n",
       "      <td>multimedia</td>\n",
       "      <td>Opinion</td>\n",
       "      <td>Opinion</td>\n",
       "      <td>By The Editorial Board</td>\n",
       "    </tr>\n",
       "    <tr>\n",
       "      <th>1</th>\n",
       "      <td>She has big ideas for repairing the American e...</td>\n",
       "      <td>https://www.nytimes.com/2019/03/15/opinion/sun...</td>\n",
       "      <td>She has big ideas for repairing the American e...</td>\n",
       "      <td>Bill Clinton had a consequential presidency wh...</td>\n",
       "      <td>The New York Times</td>\n",
       "      <td>Elizabeth Warren Actually Wants to Fix Capitalism</td>\n",
       "      <td>2019-03-15T19:34:32+0000</td>\n",
       "      <td>article</td>\n",
       "      <td>OpEd</td>\n",
       "      <td>Opinion</td>\n",
       "      <td>By David Leonhardt</td>\n",
       "    </tr>\n",
       "    <tr>\n",
       "      <th>2</th>\n",
       "      <td>A field guide for Democrats desperate to paint...</td>\n",
       "      <td>https://www.nytimes.com/interactive/2017/09/30...</td>\n",
       "      <td>A field guide for Democrats desperate to paint...</td>\n",
       "      <td>A field guide for Democrats desperate to paint...</td>\n",
       "      <td>The New York Times</td>\n",
       "      <td>Who Can Beat Trump in 2020?</td>\n",
       "      <td>2017-09-30T15:43:04+0000</td>\n",
       "      <td>multimedia</td>\n",
       "      <td>Opinion</td>\n",
       "      <td>Opinion</td>\n",
       "      <td>By JASON ZENGERLE</td>\n",
       "    </tr>\n",
       "    <tr>\n",
       "      <th>3</th>\n",
       "      <td>Thousands of readers told us who they think sh...</td>\n",
       "      <td>https://www.nytimes.com/2020/01/17/opinion/dem...</td>\n",
       "      <td>Thousands of readers told us who they think sh...</td>\n",
       "      <td>On Sunday, The New York Times’s editorial boar...</td>\n",
       "      <td>The New York Times</td>\n",
       "      <td>Which Candidate Would You Endorse?</td>\n",
       "      <td>2020-01-17T19:54:10+0000</td>\n",
       "      <td>article</td>\n",
       "      <td>OpEd</td>\n",
       "      <td>Opinion</td>\n",
       "      <td>By Rachel L. Harris and Lisa Tarchak</td>\n",
       "    </tr>\n",
       "    <tr>\n",
       "      <th>4</th>\n",
       "      <td>Mr. Buttigieg interviews for The New York Time...</td>\n",
       "      <td>https://www.nytimes.com/interactive/2020/01/16...</td>\n",
       "      <td>Mr. Buttigieg interviews for The New York Time...</td>\n",
       "      <td>Mr. Buttigieg interviews for The New York Time...</td>\n",
       "      <td>The New York Times</td>\n",
       "      <td>Pete Buttigieg Says He’s More Than a Résumé</td>\n",
       "      <td>2020-01-16T10:00:01+0000</td>\n",
       "      <td>multimedia</td>\n",
       "      <td>Opinion</td>\n",
       "      <td>Opinion</td>\n",
       "      <td>By The Editorial Board</td>\n",
       "    </tr>\n",
       "  </tbody>\n",
       "</table>\n",
       "</div>"
      ],
      "text/plain": [
       "                                            abstract  \\\n",
       "0  Mr. Sanders interviews for The New York Times’...   \n",
       "1  She has big ideas for repairing the American e...   \n",
       "2  A field guide for Democrats desperate to paint...   \n",
       "3  Thousands of readers told us who they think sh...   \n",
       "4  Mr. Buttigieg interviews for The New York Time...   \n",
       "\n",
       "                                             web_url  \\\n",
       "0  https://www.nytimes.com/interactive/2020/01/13...   \n",
       "1  https://www.nytimes.com/2019/03/15/opinion/sun...   \n",
       "2  https://www.nytimes.com/interactive/2017/09/30...   \n",
       "3  https://www.nytimes.com/2020/01/17/opinion/dem...   \n",
       "4  https://www.nytimes.com/interactive/2020/01/16...   \n",
       "\n",
       "                                             snippet  \\\n",
       "0  Mr. Sanders interviews for The New York Times’...   \n",
       "1  She has big ideas for repairing the American e...   \n",
       "2  A field guide for Democrats desperate to paint...   \n",
       "3  Thousands of readers told us who they think sh...   \n",
       "4  Mr. Buttigieg interviews for The New York Time...   \n",
       "\n",
       "                                      lead_paragraph              source  \\\n",
       "0  Mr. Sanders interviews for The New York Times’...  The New York Times   \n",
       "1  Bill Clinton had a consequential presidency wh...  The New York Times   \n",
       "2  A field guide for Democrats desperate to paint...  The New York Times   \n",
       "3  On Sunday, The New York Times’s editorial boar...  The New York Times   \n",
       "4  Mr. Buttigieg interviews for The New York Time...  The New York Times   \n",
       "\n",
       "                                            headline  \\\n",
       "0           Bernie Sanders Wants to Change Your Mind   \n",
       "1  Elizabeth Warren Actually Wants to Fix Capitalism   \n",
       "2                        Who Can Beat Trump in 2020?   \n",
       "3                 Which Candidate Would You Endorse?   \n",
       "4        Pete Buttigieg Says He’s More Than a Résumé   \n",
       "\n",
       "                   pub_date document_type news_desk section_name  \\\n",
       "0  2020-01-13T10:00:01+0000    multimedia   Opinion      Opinion   \n",
       "1  2019-03-15T19:34:32+0000       article      OpEd      Opinion   \n",
       "2  2017-09-30T15:43:04+0000    multimedia   Opinion      Opinion   \n",
       "3  2020-01-17T19:54:10+0000       article      OpEd      Opinion   \n",
       "4  2020-01-16T10:00:01+0000    multimedia   Opinion      Opinion   \n",
       "\n",
       "                                 byline  \n",
       "0                By The Editorial Board  \n",
       "1                    By David Leonhardt  \n",
       "2                     By JASON ZENGERLE  \n",
       "3  By Rachel L. Harris and Lisa Tarchak  \n",
       "4                By The Editorial Board  "
      ]
     },
     "execution_count": 116,
     "metadata": {},
     "output_type": "execute_result"
    }
   ],
   "source": [
    "# Get all article urls and metadata for immigration and put in table\n",
    "url = get_url(topics = 'immigration', page=1)\n",
    "\n",
    "# put first page into data frame\n",
    "r = requests.get(url)\n",
    "data = r.json()['response']['docs']\n",
    "data = pd.DataFrame(data)\n",
    "\n",
    "#Clean up dataframe \n",
    "data = data[['abstract', 'web_url', 'snippet', 'lead_paragraph', 'source',\n",
    "             'headline', 'pub_date', 'document_type', 'news_desk', 'section_name', 'byline']]\n",
    "data['headline'] = [row['main'] for row in data['headline']]\n",
    "data['byline'] = [row['original'] for row in data['byline']]\n",
    "data.head()"
   ]
  },
  {
   "cell_type": "markdown",
   "metadata": {},
   "source": [
    "NYT allows 4,000 requests per day and 10 requests per minute. You should sleep 6 seconds between calls to avoid hitting the per minute rate limit."
   ]
  },
  {
   "cell_type": "code",
   "execution_count": 117,
   "metadata": {
    "ExecuteTime": {
     "end_time": "2020-02-24T09:01:41.550413Z",
     "start_time": "2020-02-24T09:01:32.031252Z"
    }
   },
   "outputs": [
    {
     "name": "stdout",
     "output_type": "stream",
     "text": [
      "2 : 429\n",
      "3 : 429\n",
      "4 : 429\n",
      "5 : 429\n",
      "6 : 429\n",
      "7 : 429\n",
      "8 : 429\n",
      "9 : 429\n",
      "10 : 429\n",
      "11 : 429\n",
      "12 : 429\n",
      "13 : 429\n",
      "14 : 429\n",
      "15 : 429\n",
      "16 : 429\n",
      "17 : 429\n",
      "18 : 429\n",
      "19 : 429\n"
     ]
    },
    {
     "ename": "KeyboardInterrupt",
     "evalue": "",
     "output_type": "error",
     "traceback": [
      "\u001b[0;31m---------------------------------------------------------------------------\u001b[0m",
      "\u001b[0;31mTypeError\u001b[0m                                 Traceback (most recent call last)",
      "\u001b[0;32m~/opt/miniconda3/envs/metis/lib/python3.7/site-packages/urllib3/connectionpool.py\u001b[0m in \u001b[0;36m_make_request\u001b[0;34m(self, conn, method, url, timeout, chunked, **httplib_request_kw)\u001b[0m\n\u001b[1;32m    376\u001b[0m             \u001b[0;32mtry\u001b[0m\u001b[0;34m:\u001b[0m  \u001b[0;31m# Python 2.7, use buffering of HTTP responses\u001b[0m\u001b[0;34m\u001b[0m\u001b[0;34m\u001b[0m\u001b[0m\n\u001b[0;32m--> 377\u001b[0;31m                 \u001b[0mhttplib_response\u001b[0m \u001b[0;34m=\u001b[0m \u001b[0mconn\u001b[0m\u001b[0;34m.\u001b[0m\u001b[0mgetresponse\u001b[0m\u001b[0;34m(\u001b[0m\u001b[0mbuffering\u001b[0m\u001b[0;34m=\u001b[0m\u001b[0;32mTrue\u001b[0m\u001b[0;34m)\u001b[0m\u001b[0;34m\u001b[0m\u001b[0;34m\u001b[0m\u001b[0m\n\u001b[0m\u001b[1;32m    378\u001b[0m             \u001b[0;32mexcept\u001b[0m \u001b[0mTypeError\u001b[0m\u001b[0;34m:\u001b[0m  \u001b[0;31m# Python 3\u001b[0m\u001b[0;34m\u001b[0m\u001b[0;34m\u001b[0m\u001b[0m\n",
      "\u001b[0;31mTypeError\u001b[0m: getresponse() got an unexpected keyword argument 'buffering'",
      "\nDuring handling of the above exception, another exception occurred:\n",
      "\u001b[0;31mKeyboardInterrupt\u001b[0m                         Traceback (most recent call last)",
      "\u001b[0;32m<ipython-input-117-bdb7c1cefd10>\u001b[0m in \u001b[0;36m<module>\u001b[0;34m\u001b[0m\n\u001b[1;32m      6\u001b[0m     \u001b[0murl\u001b[0m \u001b[0;34m=\u001b[0m \u001b[0mget_url\u001b[0m\u001b[0;34m(\u001b[0m\u001b[0mtopics\u001b[0m \u001b[0;34m=\u001b[0m \u001b[0;34m'immigration climate medicare abortion'\u001b[0m\u001b[0;34m,\u001b[0m \u001b[0mpage\u001b[0m\u001b[0;34m=\u001b[0m\u001b[0mpage\u001b[0m\u001b[0;34m)\u001b[0m\u001b[0;34m\u001b[0m\u001b[0;34m\u001b[0m\u001b[0m\n\u001b[1;32m      7\u001b[0m     \u001b[0;31m# fetch response from url\u001b[0m\u001b[0;34m\u001b[0m\u001b[0;34m\u001b[0m\u001b[0;34m\u001b[0m\u001b[0m\n\u001b[0;32m----> 8\u001b[0;31m     \u001b[0mr\u001b[0m \u001b[0;34m=\u001b[0m \u001b[0mrequests\u001b[0m\u001b[0;34m.\u001b[0m\u001b[0mget\u001b[0m\u001b[0;34m(\u001b[0m\u001b[0murl\u001b[0m\u001b[0;34m)\u001b[0m\u001b[0;34m\u001b[0m\u001b[0;34m\u001b[0m\u001b[0m\n\u001b[0m\u001b[1;32m      9\u001b[0m     \u001b[0;32mtry\u001b[0m\u001b[0;34m:\u001b[0m\u001b[0;34m\u001b[0m\u001b[0;34m\u001b[0m\u001b[0m\n\u001b[1;32m     10\u001b[0m         \u001b[0;31m# put data into a data frame\u001b[0m\u001b[0;34m\u001b[0m\u001b[0;34m\u001b[0m\u001b[0;34m\u001b[0m\u001b[0m\n",
      "\u001b[0;32m~/opt/miniconda3/envs/metis/lib/python3.7/site-packages/requests/api.py\u001b[0m in \u001b[0;36mget\u001b[0;34m(url, params, **kwargs)\u001b[0m\n\u001b[1;32m     73\u001b[0m \u001b[0;34m\u001b[0m\u001b[0m\n\u001b[1;32m     74\u001b[0m     \u001b[0mkwargs\u001b[0m\u001b[0;34m.\u001b[0m\u001b[0msetdefault\u001b[0m\u001b[0;34m(\u001b[0m\u001b[0;34m'allow_redirects'\u001b[0m\u001b[0;34m,\u001b[0m \u001b[0;32mTrue\u001b[0m\u001b[0;34m)\u001b[0m\u001b[0;34m\u001b[0m\u001b[0;34m\u001b[0m\u001b[0m\n\u001b[0;32m---> 75\u001b[0;31m     \u001b[0;32mreturn\u001b[0m \u001b[0mrequest\u001b[0m\u001b[0;34m(\u001b[0m\u001b[0;34m'get'\u001b[0m\u001b[0;34m,\u001b[0m \u001b[0murl\u001b[0m\u001b[0;34m,\u001b[0m \u001b[0mparams\u001b[0m\u001b[0;34m=\u001b[0m\u001b[0mparams\u001b[0m\u001b[0;34m,\u001b[0m \u001b[0;34m**\u001b[0m\u001b[0mkwargs\u001b[0m\u001b[0;34m)\u001b[0m\u001b[0;34m\u001b[0m\u001b[0;34m\u001b[0m\u001b[0m\n\u001b[0m\u001b[1;32m     76\u001b[0m \u001b[0;34m\u001b[0m\u001b[0m\n\u001b[1;32m     77\u001b[0m \u001b[0;34m\u001b[0m\u001b[0m\n",
      "\u001b[0;32m~/opt/miniconda3/envs/metis/lib/python3.7/site-packages/requests/api.py\u001b[0m in \u001b[0;36mrequest\u001b[0;34m(method, url, **kwargs)\u001b[0m\n\u001b[1;32m     58\u001b[0m     \u001b[0;31m# cases, and look like a memory leak in others.\u001b[0m\u001b[0;34m\u001b[0m\u001b[0;34m\u001b[0m\u001b[0;34m\u001b[0m\u001b[0m\n\u001b[1;32m     59\u001b[0m     \u001b[0;32mwith\u001b[0m \u001b[0msessions\u001b[0m\u001b[0;34m.\u001b[0m\u001b[0mSession\u001b[0m\u001b[0;34m(\u001b[0m\u001b[0;34m)\u001b[0m \u001b[0;32mas\u001b[0m \u001b[0msession\u001b[0m\u001b[0;34m:\u001b[0m\u001b[0;34m\u001b[0m\u001b[0;34m\u001b[0m\u001b[0m\n\u001b[0;32m---> 60\u001b[0;31m         \u001b[0;32mreturn\u001b[0m \u001b[0msession\u001b[0m\u001b[0;34m.\u001b[0m\u001b[0mrequest\u001b[0m\u001b[0;34m(\u001b[0m\u001b[0mmethod\u001b[0m\u001b[0;34m=\u001b[0m\u001b[0mmethod\u001b[0m\u001b[0;34m,\u001b[0m \u001b[0murl\u001b[0m\u001b[0;34m=\u001b[0m\u001b[0murl\u001b[0m\u001b[0;34m,\u001b[0m \u001b[0;34m**\u001b[0m\u001b[0mkwargs\u001b[0m\u001b[0;34m)\u001b[0m\u001b[0;34m\u001b[0m\u001b[0;34m\u001b[0m\u001b[0m\n\u001b[0m\u001b[1;32m     61\u001b[0m \u001b[0;34m\u001b[0m\u001b[0m\n\u001b[1;32m     62\u001b[0m \u001b[0;34m\u001b[0m\u001b[0m\n",
      "\u001b[0;32m~/opt/miniconda3/envs/metis/lib/python3.7/site-packages/requests/sessions.py\u001b[0m in \u001b[0;36mrequest\u001b[0;34m(self, method, url, params, data, headers, cookies, files, auth, timeout, allow_redirects, proxies, hooks, stream, verify, cert, json)\u001b[0m\n\u001b[1;32m    531\u001b[0m         }\n\u001b[1;32m    532\u001b[0m         \u001b[0msend_kwargs\u001b[0m\u001b[0;34m.\u001b[0m\u001b[0mupdate\u001b[0m\u001b[0;34m(\u001b[0m\u001b[0msettings\u001b[0m\u001b[0;34m)\u001b[0m\u001b[0;34m\u001b[0m\u001b[0;34m\u001b[0m\u001b[0m\n\u001b[0;32m--> 533\u001b[0;31m         \u001b[0mresp\u001b[0m \u001b[0;34m=\u001b[0m \u001b[0mself\u001b[0m\u001b[0;34m.\u001b[0m\u001b[0msend\u001b[0m\u001b[0;34m(\u001b[0m\u001b[0mprep\u001b[0m\u001b[0;34m,\u001b[0m \u001b[0;34m**\u001b[0m\u001b[0msend_kwargs\u001b[0m\u001b[0;34m)\u001b[0m\u001b[0;34m\u001b[0m\u001b[0;34m\u001b[0m\u001b[0m\n\u001b[0m\u001b[1;32m    534\u001b[0m \u001b[0;34m\u001b[0m\u001b[0m\n\u001b[1;32m    535\u001b[0m         \u001b[0;32mreturn\u001b[0m \u001b[0mresp\u001b[0m\u001b[0;34m\u001b[0m\u001b[0;34m\u001b[0m\u001b[0m\n",
      "\u001b[0;32m~/opt/miniconda3/envs/metis/lib/python3.7/site-packages/requests/sessions.py\u001b[0m in \u001b[0;36msend\u001b[0;34m(self, request, **kwargs)\u001b[0m\n\u001b[1;32m    644\u001b[0m \u001b[0;34m\u001b[0m\u001b[0m\n\u001b[1;32m    645\u001b[0m         \u001b[0;31m# Send the request\u001b[0m\u001b[0;34m\u001b[0m\u001b[0;34m\u001b[0m\u001b[0;34m\u001b[0m\u001b[0m\n\u001b[0;32m--> 646\u001b[0;31m         \u001b[0mr\u001b[0m \u001b[0;34m=\u001b[0m \u001b[0madapter\u001b[0m\u001b[0;34m.\u001b[0m\u001b[0msend\u001b[0m\u001b[0;34m(\u001b[0m\u001b[0mrequest\u001b[0m\u001b[0;34m,\u001b[0m \u001b[0;34m**\u001b[0m\u001b[0mkwargs\u001b[0m\u001b[0;34m)\u001b[0m\u001b[0;34m\u001b[0m\u001b[0;34m\u001b[0m\u001b[0m\n\u001b[0m\u001b[1;32m    647\u001b[0m \u001b[0;34m\u001b[0m\u001b[0m\n\u001b[1;32m    648\u001b[0m         \u001b[0;31m# Total elapsed time of the request (approximately)\u001b[0m\u001b[0;34m\u001b[0m\u001b[0;34m\u001b[0m\u001b[0;34m\u001b[0m\u001b[0m\n",
      "\u001b[0;32m~/opt/miniconda3/envs/metis/lib/python3.7/site-packages/requests/adapters.py\u001b[0m in \u001b[0;36msend\u001b[0;34m(self, request, stream, timeout, verify, cert, proxies)\u001b[0m\n\u001b[1;32m    447\u001b[0m                     \u001b[0mdecode_content\u001b[0m\u001b[0;34m=\u001b[0m\u001b[0;32mFalse\u001b[0m\u001b[0;34m,\u001b[0m\u001b[0;34m\u001b[0m\u001b[0;34m\u001b[0m\u001b[0m\n\u001b[1;32m    448\u001b[0m                     \u001b[0mretries\u001b[0m\u001b[0;34m=\u001b[0m\u001b[0mself\u001b[0m\u001b[0;34m.\u001b[0m\u001b[0mmax_retries\u001b[0m\u001b[0;34m,\u001b[0m\u001b[0;34m\u001b[0m\u001b[0;34m\u001b[0m\u001b[0m\n\u001b[0;32m--> 449\u001b[0;31m                     \u001b[0mtimeout\u001b[0m\u001b[0;34m=\u001b[0m\u001b[0mtimeout\u001b[0m\u001b[0;34m\u001b[0m\u001b[0;34m\u001b[0m\u001b[0m\n\u001b[0m\u001b[1;32m    450\u001b[0m                 )\n\u001b[1;32m    451\u001b[0m \u001b[0;34m\u001b[0m\u001b[0m\n",
      "\u001b[0;32m~/opt/miniconda3/envs/metis/lib/python3.7/site-packages/urllib3/connectionpool.py\u001b[0m in \u001b[0;36murlopen\u001b[0;34m(self, method, url, body, headers, retries, redirect, assert_same_host, timeout, pool_timeout, release_conn, chunked, body_pos, **response_kw)\u001b[0m\n\u001b[1;32m    598\u001b[0m                                                   \u001b[0mtimeout\u001b[0m\u001b[0;34m=\u001b[0m\u001b[0mtimeout_obj\u001b[0m\u001b[0;34m,\u001b[0m\u001b[0;34m\u001b[0m\u001b[0;34m\u001b[0m\u001b[0m\n\u001b[1;32m    599\u001b[0m                                                   \u001b[0mbody\u001b[0m\u001b[0;34m=\u001b[0m\u001b[0mbody\u001b[0m\u001b[0;34m,\u001b[0m \u001b[0mheaders\u001b[0m\u001b[0;34m=\u001b[0m\u001b[0mheaders\u001b[0m\u001b[0;34m,\u001b[0m\u001b[0;34m\u001b[0m\u001b[0;34m\u001b[0m\u001b[0m\n\u001b[0;32m--> 600\u001b[0;31m                                                   chunked=chunked)\n\u001b[0m\u001b[1;32m    601\u001b[0m \u001b[0;34m\u001b[0m\u001b[0m\n\u001b[1;32m    602\u001b[0m             \u001b[0;31m# If we're going to release the connection in ``finally:``, then\u001b[0m\u001b[0;34m\u001b[0m\u001b[0;34m\u001b[0m\u001b[0;34m\u001b[0m\u001b[0m\n",
      "\u001b[0;32m~/opt/miniconda3/envs/metis/lib/python3.7/site-packages/urllib3/connectionpool.py\u001b[0m in \u001b[0;36m_make_request\u001b[0;34m(self, conn, method, url, timeout, chunked, **httplib_request_kw)\u001b[0m\n\u001b[1;32m    378\u001b[0m             \u001b[0;32mexcept\u001b[0m \u001b[0mTypeError\u001b[0m\u001b[0;34m:\u001b[0m  \u001b[0;31m# Python 3\u001b[0m\u001b[0;34m\u001b[0m\u001b[0;34m\u001b[0m\u001b[0m\n\u001b[1;32m    379\u001b[0m                 \u001b[0;32mtry\u001b[0m\u001b[0;34m:\u001b[0m\u001b[0;34m\u001b[0m\u001b[0;34m\u001b[0m\u001b[0m\n\u001b[0;32m--> 380\u001b[0;31m                     \u001b[0mhttplib_response\u001b[0m \u001b[0;34m=\u001b[0m \u001b[0mconn\u001b[0m\u001b[0;34m.\u001b[0m\u001b[0mgetresponse\u001b[0m\u001b[0;34m(\u001b[0m\u001b[0;34m)\u001b[0m\u001b[0;34m\u001b[0m\u001b[0;34m\u001b[0m\u001b[0m\n\u001b[0m\u001b[1;32m    381\u001b[0m                 \u001b[0;32mexcept\u001b[0m \u001b[0mException\u001b[0m \u001b[0;32mas\u001b[0m \u001b[0me\u001b[0m\u001b[0;34m:\u001b[0m\u001b[0;34m\u001b[0m\u001b[0;34m\u001b[0m\u001b[0m\n\u001b[1;32m    382\u001b[0m                     \u001b[0;31m# Remove the TypeError from the exception chain in Python 3;\u001b[0m\u001b[0;34m\u001b[0m\u001b[0;34m\u001b[0m\u001b[0;34m\u001b[0m\u001b[0m\n",
      "\u001b[0;32m~/opt/miniconda3/envs/metis/lib/python3.7/http/client.py\u001b[0m in \u001b[0;36mgetresponse\u001b[0;34m(self)\u001b[0m\n\u001b[1;32m   1334\u001b[0m         \u001b[0;32mtry\u001b[0m\u001b[0;34m:\u001b[0m\u001b[0;34m\u001b[0m\u001b[0;34m\u001b[0m\u001b[0m\n\u001b[1;32m   1335\u001b[0m             \u001b[0;32mtry\u001b[0m\u001b[0;34m:\u001b[0m\u001b[0;34m\u001b[0m\u001b[0;34m\u001b[0m\u001b[0m\n\u001b[0;32m-> 1336\u001b[0;31m                 \u001b[0mresponse\u001b[0m\u001b[0;34m.\u001b[0m\u001b[0mbegin\u001b[0m\u001b[0;34m(\u001b[0m\u001b[0;34m)\u001b[0m\u001b[0;34m\u001b[0m\u001b[0;34m\u001b[0m\u001b[0m\n\u001b[0m\u001b[1;32m   1337\u001b[0m             \u001b[0;32mexcept\u001b[0m \u001b[0mConnectionError\u001b[0m\u001b[0;34m:\u001b[0m\u001b[0;34m\u001b[0m\u001b[0;34m\u001b[0m\u001b[0m\n\u001b[1;32m   1338\u001b[0m                 \u001b[0mself\u001b[0m\u001b[0;34m.\u001b[0m\u001b[0mclose\u001b[0m\u001b[0;34m(\u001b[0m\u001b[0;34m)\u001b[0m\u001b[0;34m\u001b[0m\u001b[0;34m\u001b[0m\u001b[0m\n",
      "\u001b[0;32m~/opt/miniconda3/envs/metis/lib/python3.7/http/client.py\u001b[0m in \u001b[0;36mbegin\u001b[0;34m(self)\u001b[0m\n\u001b[1;32m    304\u001b[0m         \u001b[0;31m# read until we get a non-100 response\u001b[0m\u001b[0;34m\u001b[0m\u001b[0;34m\u001b[0m\u001b[0;34m\u001b[0m\u001b[0m\n\u001b[1;32m    305\u001b[0m         \u001b[0;32mwhile\u001b[0m \u001b[0;32mTrue\u001b[0m\u001b[0;34m:\u001b[0m\u001b[0;34m\u001b[0m\u001b[0;34m\u001b[0m\u001b[0m\n\u001b[0;32m--> 306\u001b[0;31m             \u001b[0mversion\u001b[0m\u001b[0;34m,\u001b[0m \u001b[0mstatus\u001b[0m\u001b[0;34m,\u001b[0m \u001b[0mreason\u001b[0m \u001b[0;34m=\u001b[0m \u001b[0mself\u001b[0m\u001b[0;34m.\u001b[0m\u001b[0m_read_status\u001b[0m\u001b[0;34m(\u001b[0m\u001b[0;34m)\u001b[0m\u001b[0;34m\u001b[0m\u001b[0;34m\u001b[0m\u001b[0m\n\u001b[0m\u001b[1;32m    307\u001b[0m             \u001b[0;32mif\u001b[0m \u001b[0mstatus\u001b[0m \u001b[0;34m!=\u001b[0m \u001b[0mCONTINUE\u001b[0m\u001b[0;34m:\u001b[0m\u001b[0;34m\u001b[0m\u001b[0;34m\u001b[0m\u001b[0m\n\u001b[1;32m    308\u001b[0m                 \u001b[0;32mbreak\u001b[0m\u001b[0;34m\u001b[0m\u001b[0;34m\u001b[0m\u001b[0m\n",
      "\u001b[0;32m~/opt/miniconda3/envs/metis/lib/python3.7/http/client.py\u001b[0m in \u001b[0;36m_read_status\u001b[0;34m(self)\u001b[0m\n\u001b[1;32m    265\u001b[0m \u001b[0;34m\u001b[0m\u001b[0m\n\u001b[1;32m    266\u001b[0m     \u001b[0;32mdef\u001b[0m \u001b[0m_read_status\u001b[0m\u001b[0;34m(\u001b[0m\u001b[0mself\u001b[0m\u001b[0;34m)\u001b[0m\u001b[0;34m:\u001b[0m\u001b[0;34m\u001b[0m\u001b[0;34m\u001b[0m\u001b[0m\n\u001b[0;32m--> 267\u001b[0;31m         \u001b[0mline\u001b[0m \u001b[0;34m=\u001b[0m \u001b[0mstr\u001b[0m\u001b[0;34m(\u001b[0m\u001b[0mself\u001b[0m\u001b[0;34m.\u001b[0m\u001b[0mfp\u001b[0m\u001b[0;34m.\u001b[0m\u001b[0mreadline\u001b[0m\u001b[0;34m(\u001b[0m\u001b[0m_MAXLINE\u001b[0m \u001b[0;34m+\u001b[0m \u001b[0;36m1\u001b[0m\u001b[0;34m)\u001b[0m\u001b[0;34m,\u001b[0m \u001b[0;34m\"iso-8859-1\"\u001b[0m\u001b[0;34m)\u001b[0m\u001b[0;34m\u001b[0m\u001b[0;34m\u001b[0m\u001b[0m\n\u001b[0m\u001b[1;32m    268\u001b[0m         \u001b[0;32mif\u001b[0m \u001b[0mlen\u001b[0m\u001b[0;34m(\u001b[0m\u001b[0mline\u001b[0m\u001b[0;34m)\u001b[0m \u001b[0;34m>\u001b[0m \u001b[0m_MAXLINE\u001b[0m\u001b[0;34m:\u001b[0m\u001b[0;34m\u001b[0m\u001b[0;34m\u001b[0m\u001b[0m\n\u001b[1;32m    269\u001b[0m             \u001b[0;32mraise\u001b[0m \u001b[0mLineTooLong\u001b[0m\u001b[0;34m(\u001b[0m\u001b[0;34m\"status line\"\u001b[0m\u001b[0;34m)\u001b[0m\u001b[0;34m\u001b[0m\u001b[0;34m\u001b[0m\u001b[0m\n",
      "\u001b[0;32m~/opt/miniconda3/envs/metis/lib/python3.7/socket.py\u001b[0m in \u001b[0;36mreadinto\u001b[0;34m(self, b)\u001b[0m\n\u001b[1;32m    587\u001b[0m         \u001b[0;32mwhile\u001b[0m \u001b[0;32mTrue\u001b[0m\u001b[0;34m:\u001b[0m\u001b[0;34m\u001b[0m\u001b[0;34m\u001b[0m\u001b[0m\n\u001b[1;32m    588\u001b[0m             \u001b[0;32mtry\u001b[0m\u001b[0;34m:\u001b[0m\u001b[0;34m\u001b[0m\u001b[0;34m\u001b[0m\u001b[0m\n\u001b[0;32m--> 589\u001b[0;31m                 \u001b[0;32mreturn\u001b[0m \u001b[0mself\u001b[0m\u001b[0;34m.\u001b[0m\u001b[0m_sock\u001b[0m\u001b[0;34m.\u001b[0m\u001b[0mrecv_into\u001b[0m\u001b[0;34m(\u001b[0m\u001b[0mb\u001b[0m\u001b[0;34m)\u001b[0m\u001b[0;34m\u001b[0m\u001b[0;34m\u001b[0m\u001b[0m\n\u001b[0m\u001b[1;32m    590\u001b[0m             \u001b[0;32mexcept\u001b[0m \u001b[0mtimeout\u001b[0m\u001b[0;34m:\u001b[0m\u001b[0;34m\u001b[0m\u001b[0;34m\u001b[0m\u001b[0m\n\u001b[1;32m    591\u001b[0m                 \u001b[0mself\u001b[0m\u001b[0;34m.\u001b[0m\u001b[0m_timeout_occurred\u001b[0m \u001b[0;34m=\u001b[0m \u001b[0;32mTrue\u001b[0m\u001b[0;34m\u001b[0m\u001b[0;34m\u001b[0m\u001b[0m\n",
      "\u001b[0;32m~/opt/miniconda3/envs/metis/lib/python3.7/site-packages/urllib3/contrib/pyopenssl.py\u001b[0m in \u001b[0;36mrecv_into\u001b[0;34m(self, *args, **kwargs)\u001b[0m\n\u001b[1;32m    292\u001b[0m     \u001b[0;32mdef\u001b[0m \u001b[0mrecv_into\u001b[0m\u001b[0;34m(\u001b[0m\u001b[0mself\u001b[0m\u001b[0;34m,\u001b[0m \u001b[0;34m*\u001b[0m\u001b[0margs\u001b[0m\u001b[0;34m,\u001b[0m \u001b[0;34m**\u001b[0m\u001b[0mkwargs\u001b[0m\u001b[0;34m)\u001b[0m\u001b[0;34m:\u001b[0m\u001b[0;34m\u001b[0m\u001b[0;34m\u001b[0m\u001b[0m\n\u001b[1;32m    293\u001b[0m         \u001b[0;32mtry\u001b[0m\u001b[0;34m:\u001b[0m\u001b[0;34m\u001b[0m\u001b[0;34m\u001b[0m\u001b[0m\n\u001b[0;32m--> 294\u001b[0;31m             \u001b[0;32mreturn\u001b[0m \u001b[0mself\u001b[0m\u001b[0;34m.\u001b[0m\u001b[0mconnection\u001b[0m\u001b[0;34m.\u001b[0m\u001b[0mrecv_into\u001b[0m\u001b[0;34m(\u001b[0m\u001b[0;34m*\u001b[0m\u001b[0margs\u001b[0m\u001b[0;34m,\u001b[0m \u001b[0;34m**\u001b[0m\u001b[0mkwargs\u001b[0m\u001b[0;34m)\u001b[0m\u001b[0;34m\u001b[0m\u001b[0;34m\u001b[0m\u001b[0m\n\u001b[0m\u001b[1;32m    295\u001b[0m         \u001b[0;32mexcept\u001b[0m \u001b[0mOpenSSL\u001b[0m\u001b[0;34m.\u001b[0m\u001b[0mSSL\u001b[0m\u001b[0;34m.\u001b[0m\u001b[0mSysCallError\u001b[0m \u001b[0;32mas\u001b[0m \u001b[0me\u001b[0m\u001b[0;34m:\u001b[0m\u001b[0;34m\u001b[0m\u001b[0;34m\u001b[0m\u001b[0m\n\u001b[1;32m    296\u001b[0m             \u001b[0;32mif\u001b[0m \u001b[0mself\u001b[0m\u001b[0;34m.\u001b[0m\u001b[0msuppress_ragged_eofs\u001b[0m \u001b[0;32mand\u001b[0m \u001b[0me\u001b[0m\u001b[0;34m.\u001b[0m\u001b[0margs\u001b[0m \u001b[0;34m==\u001b[0m \u001b[0;34m(\u001b[0m\u001b[0;34m-\u001b[0m\u001b[0;36m1\u001b[0m\u001b[0;34m,\u001b[0m \u001b[0;34m'Unexpected EOF'\u001b[0m\u001b[0;34m)\u001b[0m\u001b[0;34m:\u001b[0m\u001b[0;34m\u001b[0m\u001b[0;34m\u001b[0m\u001b[0m\n",
      "\u001b[0;32m~/opt/miniconda3/envs/metis/lib/python3.7/site-packages/OpenSSL/SSL.py\u001b[0m in \u001b[0;36mrecv_into\u001b[0;34m(self, buffer, nbytes, flags)\u001b[0m\n\u001b[1;32m   1712\u001b[0m             \u001b[0mresult\u001b[0m \u001b[0;34m=\u001b[0m \u001b[0m_lib\u001b[0m\u001b[0;34m.\u001b[0m\u001b[0mSSL_peek\u001b[0m\u001b[0;34m(\u001b[0m\u001b[0mself\u001b[0m\u001b[0;34m.\u001b[0m\u001b[0m_ssl\u001b[0m\u001b[0;34m,\u001b[0m \u001b[0mbuf\u001b[0m\u001b[0;34m,\u001b[0m \u001b[0mnbytes\u001b[0m\u001b[0;34m)\u001b[0m\u001b[0;34m\u001b[0m\u001b[0;34m\u001b[0m\u001b[0m\n\u001b[1;32m   1713\u001b[0m         \u001b[0;32melse\u001b[0m\u001b[0;34m:\u001b[0m\u001b[0;34m\u001b[0m\u001b[0;34m\u001b[0m\u001b[0m\n\u001b[0;32m-> 1714\u001b[0;31m             \u001b[0mresult\u001b[0m \u001b[0;34m=\u001b[0m \u001b[0m_lib\u001b[0m\u001b[0;34m.\u001b[0m\u001b[0mSSL_read\u001b[0m\u001b[0;34m(\u001b[0m\u001b[0mself\u001b[0m\u001b[0;34m.\u001b[0m\u001b[0m_ssl\u001b[0m\u001b[0;34m,\u001b[0m \u001b[0mbuf\u001b[0m\u001b[0;34m,\u001b[0m \u001b[0mnbytes\u001b[0m\u001b[0;34m)\u001b[0m\u001b[0;34m\u001b[0m\u001b[0;34m\u001b[0m\u001b[0m\n\u001b[0m\u001b[1;32m   1715\u001b[0m         \u001b[0mself\u001b[0m\u001b[0;34m.\u001b[0m\u001b[0m_raise_ssl_error\u001b[0m\u001b[0;34m(\u001b[0m\u001b[0mself\u001b[0m\u001b[0;34m.\u001b[0m\u001b[0m_ssl\u001b[0m\u001b[0;34m,\u001b[0m \u001b[0mresult\u001b[0m\u001b[0;34m)\u001b[0m\u001b[0;34m\u001b[0m\u001b[0;34m\u001b[0m\u001b[0m\n\u001b[1;32m   1716\u001b[0m \u001b[0;34m\u001b[0m\u001b[0m\n",
      "\u001b[0;31mKeyboardInterrupt\u001b[0m: "
     ]
    }
   ],
   "source": [
    "# loop through pages and append to table - start with 1,000 for one topic\n",
    "pages = range(2, 200) # 100 pages returns 1,000 results \n",
    "\n",
    "for page in pages:\n",
    "    # get url\n",
    "    url = get_url(topics = 'immigration climate medicare abortion', page=page)\n",
    "    # fetch response from url\n",
    "    r = requests.get(url)\n",
    "    try: \n",
    "        # put data into a data frame\n",
    "        data_temp = r.json()['response']['docs']\n",
    "        data_temp = pd.DataFrame(data_temp)\n",
    "        # Clean up dataframe before putting in mongodb\n",
    "        data_temp = data_temp[['abstract', 'web_url', 'snippet', 'lead_paragraph', 'source',\n",
    "             'headline', 'pub_date', 'document_type', 'news_desk', 'section_name', 'byline']]\n",
    "        data_temp['headline'] = [row['main'] for row in data_temp['headline']]\n",
    "        data_temp['byline'] = [row['original'] for row in data_temp['byline']]\n",
    "        # append to dataframe\n",
    "        data = data.append(data_temp)\n",
    "        time.sleep(30)\n",
    "    except:\n",
    "        print(page, \":\", r.status_code)"
   ]
  },
  {
   "cell_type": "code",
   "execution_count": 111,
   "metadata": {
    "ExecuteTime": {
     "end_time": "2020-02-24T02:49:21.976119Z",
     "start_time": "2020-02-24T02:49:21.972731Z"
    }
   },
   "outputs": [
    {
     "data": {
      "text/plain": [
       "2000"
      ]
     },
     "execution_count": 111,
     "metadata": {},
     "output_type": "execute_result"
    }
   ],
   "source": [
    "len(data)"
   ]
  },
  {
   "cell_type": "code",
   "execution_count": 101,
   "metadata": {
    "ExecuteTime": {
     "end_time": "2020-02-24T01:31:57.304491Z",
     "start_time": "2020-02-24T01:31:55.885608Z"
    }
   },
   "outputs": [
    {
     "data": {
      "text/html": [
       "<div>\n",
       "<style scoped>\n",
       "    .dataframe tbody tr th:only-of-type {\n",
       "        vertical-align: middle;\n",
       "    }\n",
       "\n",
       "    .dataframe tbody tr th {\n",
       "        vertical-align: top;\n",
       "    }\n",
       "\n",
       "    .dataframe thead th {\n",
       "        text-align: right;\n",
       "    }\n",
       "</style>\n",
       "<table border=\"1\" class=\"dataframe\">\n",
       "  <thead>\n",
       "    <tr style=\"text-align: right;\">\n",
       "      <th></th>\n",
       "      <th>abstract</th>\n",
       "      <th>web_url</th>\n",
       "      <th>snippet</th>\n",
       "      <th>lead_paragraph</th>\n",
       "      <th>source</th>\n",
       "      <th>multimedia</th>\n",
       "      <th>headline</th>\n",
       "      <th>keywords</th>\n",
       "      <th>pub_date</th>\n",
       "      <th>document_type</th>\n",
       "      <th>news_desk</th>\n",
       "      <th>section_name</th>\n",
       "      <th>byline</th>\n",
       "      <th>type_of_material</th>\n",
       "      <th>_id</th>\n",
       "      <th>word_count</th>\n",
       "      <th>uri</th>\n",
       "      <th>print_section</th>\n",
       "      <th>print_page</th>\n",
       "      <th>subsection_name</th>\n",
       "    </tr>\n",
       "  </thead>\n",
       "  <tbody>\n",
       "    <tr>\n",
       "      <th>0</th>\n",
       "      <td>The administration’s security rationale for it...</td>\n",
       "      <td>https://www.nytimes.com/2020/02/04/opinion/tru...</td>\n",
       "      <td>The administration’s security rationale for it...</td>\n",
       "      <td>On Friday, with Americans focused on President...</td>\n",
       "      <td>The New York Times</td>\n",
       "      <td>[{'rank': 0, 'subtype': 'xlarge', 'caption': N...</td>\n",
       "      <td>{'main': 'Trump Posts Another ‘Keep Out’ Sign ...</td>\n",
       "      <td>[{'name': 'subject', 'value': 'Immigration and...</td>\n",
       "      <td>2020-02-05T00:32:02+0000</td>\n",
       "      <td>article</td>\n",
       "      <td>Editorial</td>\n",
       "      <td>Opinion</td>\n",
       "      <td>{'original': 'By The Editorial Board', 'person...</td>\n",
       "      <td>Editorial</td>\n",
       "      <td>nyt://article/45a5c8db-eecd-5705-8d86-4d0fbeec...</td>\n",
       "      <td>666</td>\n",
       "      <td>nyt://article/45a5c8db-eecd-5705-8d86-4d0fbeec...</td>\n",
       "      <td>NaN</td>\n",
       "      <td>NaN</td>\n",
       "      <td>NaN</td>\n",
       "    </tr>\n",
       "    <tr>\n",
       "      <th>1</th>\n",
       "      <td>Adding Nigeria to the expanded list of exclude...</td>\n",
       "      <td>https://www.nytimes.com/2020/02/04/opinion/tru...</td>\n",
       "      <td>Adding Nigeria to the expanded list of exclude...</td>\n",
       "      <td>It’s happening a little bit out of public cons...</td>\n",
       "      <td>The New York Times</td>\n",
       "      <td>[{'rank': 0, 'subtype': 'xlarge', 'caption': N...</td>\n",
       "      <td>{'main': 'The Racism at the Heart of Trump’s ‘...</td>\n",
       "      <td>[{'name': 'glocations', 'value': 'Nigeria', 'r...</td>\n",
       "      <td>2020-02-04T10:00:15+0000</td>\n",
       "      <td>article</td>\n",
       "      <td>OpEd</td>\n",
       "      <td>Opinion</td>\n",
       "      <td>{'original': 'By Jamelle Bouie', 'person': [{'...</td>\n",
       "      <td>Op-Ed</td>\n",
       "      <td>nyt://article/fee8c33b-1600-5001-bd88-1b789479...</td>\n",
       "      <td>882</td>\n",
       "      <td>nyt://article/fee8c33b-1600-5001-bd88-1b789479...</td>\n",
       "      <td>NaN</td>\n",
       "      <td>NaN</td>\n",
       "      <td>NaN</td>\n",
       "    </tr>\n",
       "    <tr>\n",
       "      <th>2</th>\n",
       "      <td>Congressional hearings are urgently needed to ...</td>\n",
       "      <td>https://www.nytimes.com/2020/02/07/opinion/dhs...</td>\n",
       "      <td>Congressional hearings are urgently needed to ...</td>\n",
       "      <td>“When the government tracks the location of a ...</td>\n",
       "      <td>The New York Times</td>\n",
       "      <td>[{'rank': 0, 'subtype': 'xlarge', 'caption': N...</td>\n",
       "      <td>{'main': 'The Government Uses ‘Near Perfect Su...</td>\n",
       "      <td>[{'name': 'subject', 'value': 'Surveillance of...</td>\n",
       "      <td>2020-02-08T00:24:47+0000</td>\n",
       "      <td>article</td>\n",
       "      <td>Editorial</td>\n",
       "      <td>Opinion</td>\n",
       "      <td>{'original': 'By The Editorial Board', 'person...</td>\n",
       "      <td>Op-Ed</td>\n",
       "      <td>nyt://article/9674e906-2901-5a44-b99b-69679bc7...</td>\n",
       "      <td>1012</td>\n",
       "      <td>nyt://article/9674e906-2901-5a44-b99b-69679bc7...</td>\n",
       "      <td>A</td>\n",
       "      <td>26</td>\n",
       "      <td>NaN</td>\n",
       "    </tr>\n",
       "    <tr>\n",
       "      <th>3</th>\n",
       "      <td>The bar for being labeled a gang member is low...</td>\n",
       "      <td>https://www.nytimes.com/2020/02/03/opinion/los...</td>\n",
       "      <td>The bar for being labeled a gang member is low...</td>\n",
       "      <td>I found out I was in a gang database — a share...</td>\n",
       "      <td>The New York Times</td>\n",
       "      <td>[{'rank': 0, 'subtype': 'xlarge', 'caption': N...</td>\n",
       "      <td>{'main': 'Are You in a Gang Database?', 'kicke...</td>\n",
       "      <td>[{'name': 'subject', 'value': 'Gangs', 'rank':...</td>\n",
       "      <td>2020-02-04T00:00:07+0000</td>\n",
       "      <td>article</td>\n",
       "      <td>OpEd</td>\n",
       "      <td>Opinion</td>\n",
       "      <td>{'original': 'By Stefano Bloch', 'person': [{'...</td>\n",
       "      <td>Op-Ed</td>\n",
       "      <td>nyt://article/449b791a-2f28-5904-8d54-b90d62ab...</td>\n",
       "      <td>1084</td>\n",
       "      <td>nyt://article/449b791a-2f28-5904-8d54-b90d62ab...</td>\n",
       "      <td>A</td>\n",
       "      <td>23</td>\n",
       "      <td>NaN</td>\n",
       "    </tr>\n",
       "    <tr>\n",
       "      <th>4</th>\n",
       "      <td>Immigration can invigorate the country. But wh...</td>\n",
       "      <td>https://www.nytimes.com/2020/01/16/opinion/imm...</td>\n",
       "      <td>Immigration can invigorate the country. But wh...</td>\n",
       "      <td>In 2001, when I was the new Washington corresp...</td>\n",
       "      <td>The New York Times</td>\n",
       "      <td>[{'rank': 0, 'subtype': 'xlarge', 'caption': N...</td>\n",
       "      <td>{'main': 'I’m a Liberal Who Thinks Immigration...</td>\n",
       "      <td>[{'name': 'subject', 'value': 'Illegal Immigra...</td>\n",
       "      <td>2020-01-16T23:48:30+0000</td>\n",
       "      <td>article</td>\n",
       "      <td>OpEd</td>\n",
       "      <td>Opinion</td>\n",
       "      <td>{'original': 'By Jerry Kammer', 'person': [{'f...</td>\n",
       "      <td>Op-Ed</td>\n",
       "      <td>nyt://article/af2afd2c-d37d-5a32-b068-234b3d05...</td>\n",
       "      <td>1496</td>\n",
       "      <td>nyt://article/af2afd2c-d37d-5a32-b068-234b3d05...</td>\n",
       "      <td>A</td>\n",
       "      <td>23</td>\n",
       "      <td>NaN</td>\n",
       "    </tr>\n",
       "  </tbody>\n",
       "</table>\n",
       "</div>"
      ],
      "text/plain": [
       "                                            abstract  \\\n",
       "0  The administration’s security rationale for it...   \n",
       "1  Adding Nigeria to the expanded list of exclude...   \n",
       "2  Congressional hearings are urgently needed to ...   \n",
       "3  The bar for being labeled a gang member is low...   \n",
       "4  Immigration can invigorate the country. But wh...   \n",
       "\n",
       "                                             web_url  \\\n",
       "0  https://www.nytimes.com/2020/02/04/opinion/tru...   \n",
       "1  https://www.nytimes.com/2020/02/04/opinion/tru...   \n",
       "2  https://www.nytimes.com/2020/02/07/opinion/dhs...   \n",
       "3  https://www.nytimes.com/2020/02/03/opinion/los...   \n",
       "4  https://www.nytimes.com/2020/01/16/opinion/imm...   \n",
       "\n",
       "                                             snippet  \\\n",
       "0  The administration’s security rationale for it...   \n",
       "1  Adding Nigeria to the expanded list of exclude...   \n",
       "2  Congressional hearings are urgently needed to ...   \n",
       "3  The bar for being labeled a gang member is low...   \n",
       "4  Immigration can invigorate the country. But wh...   \n",
       "\n",
       "                                      lead_paragraph              source  \\\n",
       "0  On Friday, with Americans focused on President...  The New York Times   \n",
       "1  It’s happening a little bit out of public cons...  The New York Times   \n",
       "2  “When the government tracks the location of a ...  The New York Times   \n",
       "3  I found out I was in a gang database — a share...  The New York Times   \n",
       "4  In 2001, when I was the new Washington corresp...  The New York Times   \n",
       "\n",
       "                                          multimedia  \\\n",
       "0  [{'rank': 0, 'subtype': 'xlarge', 'caption': N...   \n",
       "1  [{'rank': 0, 'subtype': 'xlarge', 'caption': N...   \n",
       "2  [{'rank': 0, 'subtype': 'xlarge', 'caption': N...   \n",
       "3  [{'rank': 0, 'subtype': 'xlarge', 'caption': N...   \n",
       "4  [{'rank': 0, 'subtype': 'xlarge', 'caption': N...   \n",
       "\n",
       "                                            headline  \\\n",
       "0  {'main': 'Trump Posts Another ‘Keep Out’ Sign ...   \n",
       "1  {'main': 'The Racism at the Heart of Trump’s ‘...   \n",
       "2  {'main': 'The Government Uses ‘Near Perfect Su...   \n",
       "3  {'main': 'Are You in a Gang Database?', 'kicke...   \n",
       "4  {'main': 'I’m a Liberal Who Thinks Immigration...   \n",
       "\n",
       "                                            keywords  \\\n",
       "0  [{'name': 'subject', 'value': 'Immigration and...   \n",
       "1  [{'name': 'glocations', 'value': 'Nigeria', 'r...   \n",
       "2  [{'name': 'subject', 'value': 'Surveillance of...   \n",
       "3  [{'name': 'subject', 'value': 'Gangs', 'rank':...   \n",
       "4  [{'name': 'subject', 'value': 'Illegal Immigra...   \n",
       "\n",
       "                   pub_date document_type  news_desk section_name  \\\n",
       "0  2020-02-05T00:32:02+0000       article  Editorial      Opinion   \n",
       "1  2020-02-04T10:00:15+0000       article       OpEd      Opinion   \n",
       "2  2020-02-08T00:24:47+0000       article  Editorial      Opinion   \n",
       "3  2020-02-04T00:00:07+0000       article       OpEd      Opinion   \n",
       "4  2020-01-16T23:48:30+0000       article       OpEd      Opinion   \n",
       "\n",
       "                                              byline type_of_material  \\\n",
       "0  {'original': 'By The Editorial Board', 'person...        Editorial   \n",
       "1  {'original': 'By Jamelle Bouie', 'person': [{'...            Op-Ed   \n",
       "2  {'original': 'By The Editorial Board', 'person...            Op-Ed   \n",
       "3  {'original': 'By Stefano Bloch', 'person': [{'...            Op-Ed   \n",
       "4  {'original': 'By Jerry Kammer', 'person': [{'f...            Op-Ed   \n",
       "\n",
       "                                                 _id  word_count  \\\n",
       "0  nyt://article/45a5c8db-eecd-5705-8d86-4d0fbeec...         666   \n",
       "1  nyt://article/fee8c33b-1600-5001-bd88-1b789479...         882   \n",
       "2  nyt://article/9674e906-2901-5a44-b99b-69679bc7...        1012   \n",
       "3  nyt://article/449b791a-2f28-5904-8d54-b90d62ab...        1084   \n",
       "4  nyt://article/af2afd2c-d37d-5a32-b068-234b3d05...        1496   \n",
       "\n",
       "                                                 uri print_section print_page  \\\n",
       "0  nyt://article/45a5c8db-eecd-5705-8d86-4d0fbeec...           NaN        NaN   \n",
       "1  nyt://article/fee8c33b-1600-5001-bd88-1b789479...           NaN        NaN   \n",
       "2  nyt://article/9674e906-2901-5a44-b99b-69679bc7...             A         26   \n",
       "3  nyt://article/449b791a-2f28-5904-8d54-b90d62ab...             A         23   \n",
       "4  nyt://article/af2afd2c-d37d-5a32-b068-234b3d05...             A         23   \n",
       "\n",
       "  subsection_name  \n",
       "0             NaN  \n",
       "1             NaN  \n",
       "2             NaN  \n",
       "3             NaN  \n",
       "4             NaN  "
      ]
     },
     "execution_count": 101,
     "metadata": {},
     "output_type": "execute_result"
    }
   ],
   "source": [
    "url = get_url(topics = 'immigration', page=1)\n",
    "r = requests.get(url)\n",
    "data_temp = r.json()['response']['docs']\n",
    "data_temp = pd.DataFrame(data_temp)\n",
    "data_temp.head()"
   ]
  },
  {
   "cell_type": "code",
   "execution_count": 112,
   "metadata": {
    "ExecuteTime": {
     "end_time": "2020-02-24T02:52:01.733417Z",
     "start_time": "2020-02-24T02:52:01.681679Z"
    }
   },
   "outputs": [],
   "source": [
    "# Save data frame\n",
    "data.to_csv('/Users/AuerPower/Metis/git/steel-man/data/immigration_2000_author.csv')"
   ]
  },
  {
   "cell_type": "code",
   "execution_count": 113,
   "metadata": {
    "ExecuteTime": {
     "end_time": "2020-02-24T04:31:52.391963Z",
     "start_time": "2020-02-24T04:31:52.387833Z"
    }
   },
   "outputs": [],
   "source": [
    "# Define a function to scrape the article body\n",
    "def get_article_body(url):\n",
    "    '''This function takes in a url for a NYT article and returns the body of text.\n",
    "    input: a url\n",
    "    output: text sring\n",
    "    '''\n",
    "    response = requests.get(url, auth=('user', 'pass'), timeout=4)\n",
    "    doc = soup(response.text, 'html.parser')\n",
    "    paragraphs = doc.find_all(\"p\",{\"class\":\"css-exrw3m evys1bk0\"}) # this is a list of paragraphs\n",
    "    article_text = ''\n",
    "    for paragraph in paragraphs:\n",
    "        article_text += paragraph.text\n",
    "    return article_text"
   ]
  },
  {
   "cell_type": "code",
   "execution_count": 48,
   "metadata": {
    "ExecuteTime": {
     "end_time": "2020-02-23T01:42:19.449488Z",
     "start_time": "2020-02-23T01:42:18.427702Z"
    }
   },
   "outputs": [
    {
     "data": {
      "text/html": [
       "<div>\n",
       "<style scoped>\n",
       "    .dataframe tbody tr th:only-of-type {\n",
       "        vertical-align: middle;\n",
       "    }\n",
       "\n",
       "    .dataframe tbody tr th {\n",
       "        vertical-align: top;\n",
       "    }\n",
       "\n",
       "    .dataframe thead th {\n",
       "        text-align: right;\n",
       "    }\n",
       "</style>\n",
       "<table border=\"1\" class=\"dataframe\">\n",
       "  <thead>\n",
       "    <tr style=\"text-align: right;\">\n",
       "      <th></th>\n",
       "      <th>all_text</th>\n",
       "    </tr>\n",
       "  </thead>\n",
       "  <tbody>\n",
       "    <tr>\n",
       "      <th>0</th>\n",
       "      <td>The Racism at the Heart of Trump’s ‘Travel Ban...</td>\n",
       "    </tr>\n",
       "  </tbody>\n",
       "</table>\n",
       "</div>"
      ],
      "text/plain": [
       "                                            all_text\n",
       "0  The Racism at the Heart of Trump’s ‘Travel Ban..."
      ]
     },
     "execution_count": 48,
     "metadata": {},
     "output_type": "execute_result"
    }
   ],
   "source": [
    "# create df of first row\n",
    "row = 0\n",
    "all_text = ''\n",
    "url = data.iloc[row].web_url\n",
    "headline = data.iloc[row].headline\n",
    "abstract = data.iloc[row].abstract\n",
    "body = get_article_body(url)\n",
    "all_text = headline + abstract + body\n",
    "df_text = pd.DataFrame({'all_text': all_text}, index=[row])\n",
    "df_text"
   ]
  },
  {
   "cell_type": "code",
   "execution_count": 53,
   "metadata": {
    "ExecuteTime": {
     "end_time": "2020-02-23T20:01:14.211110Z",
     "start_time": "2020-02-23T02:37:51.592548Z"
    }
   },
   "outputs": [
    {
     "name": "stdout",
     "output_type": "stream",
     "text": [
      "fail: 147\n",
      "fail: 161\n",
      "fail: 173\n",
      "fail: 179\n",
      "fail: 253\n",
      "fail: 262\n",
      "fail: 270\n",
      "fail: 271\n",
      "fail: 284\n",
      "fail: 286\n",
      "fail: 291\n",
      "fail: 298\n",
      "fail: 299\n",
      "fail: 303\n",
      "fail: 304\n",
      "fail: 305\n",
      "fail: 307\n",
      "fail: 318\n",
      "fail: 322\n",
      "fail: 324\n",
      "fail: 330\n",
      "fail: 355\n",
      "fail: 423\n",
      "fail: 436\n",
      "fail: 440\n",
      "fail: 471\n",
      "fail: 519\n",
      "fail: 520\n",
      "fail: 627\n",
      "fail: 637\n",
      "fail: 664\n",
      "fail: 675\n",
      "fail: 681\n",
      "fail: 683\n",
      "fail: 698\n",
      "fail: 700\n",
      "fail: 712\n",
      "fail: 724\n",
      "fail: 738\n",
      "fail: 751\n",
      "fail: 766\n",
      "fail: 810\n",
      "fail: 891\n",
      "fail: 894\n",
      "fail: 907\n",
      "fail: 948\n",
      "fail: 955\n",
      "fail: 965\n",
      "fail: 985\n",
      "fail: 1075\n",
      "fail: 1083\n",
      "fail: 1114\n",
      "fail: 1134\n",
      "fail: 1161\n",
      "fail: 1188\n",
      "fail: 1194\n",
      "fail: 1200\n",
      "fail: 1234\n",
      "fail: 1236\n",
      "fail: 1252\n",
      "fail: 1297\n",
      "fail: 1313\n",
      "fail: 1316\n",
      "fail: 1334\n",
      "fail: 1337\n",
      "fail: 1373\n",
      "fail: 1374\n",
      "fail: 1380\n",
      "fail: 1381\n",
      "fail: 1415\n",
      "fail: 1425\n",
      "fail: 1446\n",
      "fail: 1462\n",
      "fail: 1464\n",
      "fail: 1471\n",
      "fail: 1477\n",
      "fail: 1480\n",
      "fail: 1502\n",
      "fail: 1516\n",
      "fail: 1538\n",
      "fail: 1567\n",
      "fail: 1575\n",
      "fail: 1579\n",
      "fail: 1612\n",
      "fail: 1622\n",
      "fail: 1641\n",
      "fail: 1660\n",
      "fail: 1685\n",
      "fail: 1696\n",
      "fail: 1701\n",
      "fail: 1703\n",
      "fail: 1711\n",
      "fail: 1721\n",
      "fail: 1778\n",
      "fail: 1779\n",
      "fail: 1795\n",
      "fail: 1808\n",
      "fail: 1822\n",
      "fail: 1844\n",
      "fail: 1859\n",
      "fail: 1871\n",
      "fail: 1875\n",
      "fail: 1903\n",
      "fail: 1907\n",
      "fail: 1922\n",
      "fail: 1995\n"
     ]
    }
   ],
   "source": [
    "# Loop through urls and append to df_text\n",
    "for row in range(100, len(data)):\n",
    "    try:\n",
    "        all_text = ''\n",
    "        url = data.iloc[row].web_url\n",
    "        headline = data.iloc[row].headline\n",
    "        abstract = data.iloc[row].abstract\n",
    "        body = get_article_body(url)\n",
    "        all_text = headline + abstract + body\n",
    "        df = pd.DataFrame({'all_text': all_text}, index=[row])\n",
    "        df_text = df_text.append(df)\n",
    "        time.sleep(6)\n",
    "    except:\n",
    "        print(\"fail:\", row)"
   ]
  },
  {
   "cell_type": "markdown",
   "metadata": {},
   "source": [
    "Not all articles were successfully scraped but enought to move forward with a proof of concept for the project."
   ]
  },
  {
   "cell_type": "code",
   "execution_count": 54,
   "metadata": {
    "ExecuteTime": {
     "end_time": "2020-02-23T20:19:01.718190Z",
     "start_time": "2020-02-23T20:19:01.714978Z"
    }
   },
   "outputs": [
    {
     "data": {
      "text/plain": [
       "1795"
      ]
     },
     "execution_count": 54,
     "metadata": {},
     "output_type": "execute_result"
    }
   ],
   "source": [
    "len(df_text)"
   ]
  },
  {
   "cell_type": "code",
   "execution_count": 56,
   "metadata": {
    "ExecuteTime": {
     "end_time": "2020-02-23T20:22:02.547423Z",
     "start_time": "2020-02-23T20:22:02.541504Z"
    }
   },
   "outputs": [
    {
     "data": {
      "text/html": [
       "<div>\n",
       "<style scoped>\n",
       "    .dataframe tbody tr th:only-of-type {\n",
       "        vertical-align: middle;\n",
       "    }\n",
       "\n",
       "    .dataframe tbody tr th {\n",
       "        vertical-align: top;\n",
       "    }\n",
       "\n",
       "    .dataframe thead th {\n",
       "        text-align: right;\n",
       "    }\n",
       "</style>\n",
       "<table border=\"1\" class=\"dataframe\">\n",
       "  <thead>\n",
       "    <tr style=\"text-align: right;\">\n",
       "      <th></th>\n",
       "      <th>all_text</th>\n",
       "    </tr>\n",
       "  </thead>\n",
       "  <tbody>\n",
       "    <tr>\n",
       "      <th>0</th>\n",
       "      <td>The Racism at the Heart of Trump’s ‘Travel Ban...</td>\n",
       "    </tr>\n",
       "    <tr>\n",
       "      <th>100</th>\n",
       "      <td>It’s Time for an Immigration EnchiladaPresiden...</td>\n",
       "    </tr>\n",
       "    <tr>\n",
       "      <th>101</th>\n",
       "      <td>The Immigration DealThe Senate last week seize...</td>\n",
       "    </tr>\n",
       "    <tr>\n",
       "      <th>102</th>\n",
       "      <td>Immigration MalpracticeTo millions of legal im...</td>\n",
       "    </tr>\n",
       "    <tr>\n",
       "      <th>103</th>\n",
       "      <td>Immigration MiseryAs the country waits for Con...</td>\n",
       "    </tr>\n",
       "  </tbody>\n",
       "</table>\n",
       "</div>"
      ],
      "text/plain": [
       "                                              all_text\n",
       "0    The Racism at the Heart of Trump’s ‘Travel Ban...\n",
       "100  It’s Time for an Immigration EnchiladaPresiden...\n",
       "101  The Immigration DealThe Senate last week seize...\n",
       "102  Immigration MalpracticeTo millions of legal im...\n",
       "103  Immigration MiseryAs the country waits for Con..."
      ]
     },
     "execution_count": 56,
     "metadata": {},
     "output_type": "execute_result"
    }
   ],
   "source": [
    "df_text.head()"
   ]
  },
  {
   "cell_type": "code",
   "execution_count": 55,
   "metadata": {
    "ExecuteTime": {
     "end_time": "2020-02-23T20:21:03.203943Z",
     "start_time": "2020-02-23T20:21:03.025208Z"
    }
   },
   "outputs": [],
   "source": [
    "df_text.to_csv('/Users/AuerPower/Metis/git/steel-man/data/article_text/df_text_1795.csv')"
   ]
  },
  {
   "cell_type": "code",
   "execution_count": 75,
   "metadata": {
    "ExecuteTime": {
     "end_time": "2020-02-23T21:04:38.487398Z",
     "start_time": "2020-02-23T21:04:38.398812Z"
    }
   },
   "outputs": [
    {
     "data": {
      "text/html": [
       "<div>\n",
       "<style scoped>\n",
       "    .dataframe tbody tr th:only-of-type {\n",
       "        vertical-align: middle;\n",
       "    }\n",
       "\n",
       "    .dataframe tbody tr th {\n",
       "        vertical-align: top;\n",
       "    }\n",
       "\n",
       "    .dataframe thead th {\n",
       "        text-align: right;\n",
       "    }\n",
       "</style>\n",
       "<table border=\"1\" class=\"dataframe\">\n",
       "  <thead>\n",
       "    <tr style=\"text-align: right;\">\n",
       "      <th></th>\n",
       "      <th>all_text</th>\n",
       "    </tr>\n",
       "  </thead>\n",
       "  <tbody>\n",
       "    <tr>\n",
       "      <th>0</th>\n",
       "      <td>The Racism at the Heart of Trump’s ‘Travel Ban...</td>\n",
       "    </tr>\n",
       "    <tr>\n",
       "      <th>1</th>\n",
       "      <td>The Government Uses ‘Near Perfect Surveillance...</td>\n",
       "    </tr>\n",
       "    <tr>\n",
       "      <th>2</th>\n",
       "      <td>Are You in a Gang Database?The bar for being l...</td>\n",
       "    </tr>\n",
       "    <tr>\n",
       "      <th>3</th>\n",
       "      <td>I’m a Liberal Who Thinks Immigration Must Be R...</td>\n",
       "    </tr>\n",
       "    <tr>\n",
       "      <th>4</th>\n",
       "      <td>Starving for Justice in ICE DetentionFor immig...</td>\n",
       "    </tr>\n",
       "  </tbody>\n",
       "</table>\n",
       "</div>"
      ],
      "text/plain": [
       "                                            all_text\n",
       "0  The Racism at the Heart of Trump’s ‘Travel Ban...\n",
       "1  The Government Uses ‘Near Perfect Surveillance...\n",
       "2  Are You in a Gang Database?The bar for being l...\n",
       "3  I’m a Liberal Who Thinks Immigration Must Be R...\n",
       "4  Starving for Justice in ICE DetentionFor immig..."
      ]
     },
     "execution_count": 75,
     "metadata": {},
     "output_type": "execute_result"
    }
   ],
   "source": [
    "# join the first run 0-100 and the second run together 100-2000\n",
    "df_text1 = pd.read_csv('/Users/AuerPower/Metis/git/steel-man/data/article_text/df_text_100.csv', index_col=0)\n",
    "df_text1 = df_text1.iloc[1:]\n",
    "df_text2 = pd.read_csv('/Users/AuerPower/Metis/git/steel-man/data/article_text/df_text_1795.csv', index_col=0)\n",
    "df_text2 = df_text2.iloc[1:]\n",
    "df_text1 = df_text1.append(df_text2)\n",
    "df_text1.head()"
   ]
  },
  {
   "cell_type": "code",
   "execution_count": 93,
   "metadata": {
    "ExecuteTime": {
     "end_time": "2020-02-23T23:22:45.014902Z",
     "start_time": "2020-02-23T23:22:44.833371Z"
    }
   },
   "outputs": [
    {
     "data": {
      "text/html": [
       "<div>\n",
       "<style scoped>\n",
       "    .dataframe tbody tr th:only-of-type {\n",
       "        vertical-align: middle;\n",
       "    }\n",
       "\n",
       "    .dataframe tbody tr th {\n",
       "        vertical-align: top;\n",
       "    }\n",
       "\n",
       "    .dataframe thead th {\n",
       "        text-align: right;\n",
       "    }\n",
       "</style>\n",
       "<table border=\"1\" class=\"dataframe\">\n",
       "  <thead>\n",
       "    <tr style=\"text-align: right;\">\n",
       "      <th></th>\n",
       "      <th>all_text</th>\n",
       "    </tr>\n",
       "  </thead>\n",
       "  <tbody>\n",
       "    <tr>\n",
       "      <th>0</th>\n",
       "      <td>The Racism at the Heart of Trump’s ‘Travel Ban...</td>\n",
       "    </tr>\n",
       "    <tr>\n",
       "      <th>1</th>\n",
       "      <td>The Government Uses ‘Near Perfect Surveillance...</td>\n",
       "    </tr>\n",
       "    <tr>\n",
       "      <th>2</th>\n",
       "      <td>Are You in a Gang Database? The bar for being ...</td>\n",
       "    </tr>\n",
       "    <tr>\n",
       "      <th>3</th>\n",
       "      <td>I’m a Liberal Who Thinks Immigration Must Be R...</td>\n",
       "    </tr>\n",
       "    <tr>\n",
       "      <th>4</th>\n",
       "      <td>Starving for Justice in ICE Detention For immi...</td>\n",
       "    </tr>\n",
       "  </tbody>\n",
       "</table>\n",
       "</div>"
      ],
      "text/plain": [
       "                                            all_text\n",
       "0  The Racism at the Heart of Trump’s ‘Travel Ban...\n",
       "1  The Government Uses ‘Near Perfect Surveillance...\n",
       "2  Are You in a Gang Database? The bar for being ...\n",
       "3  I’m a Liberal Who Thinks Immigration Must Be R...\n",
       "4  Starving for Justice in ICE Detention For immi..."
      ]
     },
     "execution_count": 93,
     "metadata": {},
     "output_type": "execute_result"
    }
   ],
   "source": [
    "# put a space before upper case letters if there is a lower case letter before it\n",
    "df_text1['all_text'] = [re.sub(r'([a-z](?=[A-Z])|[A-Z](?=[A-Z][a-z]))', r'\\1 ', row) for row in df_text1['all_text']]\n",
    "\n",
    "# put a space after ? and . that doesn't have a space\n",
    "df_text1['all_text'] = [re.sub(r'(?<=[.,?])(?=[^\\s])', r' ', row) for row in df_text1['all_text']]\n",
    "df_text1.head()"
   ]
  },
  {
   "cell_type": "code",
   "execution_count": 96,
   "metadata": {
    "ExecuteTime": {
     "end_time": "2020-02-23T23:33:54.580807Z",
     "start_time": "2020-02-23T23:33:54.391327Z"
    }
   },
   "outputs": [],
   "source": [
    "# save file\n",
    "df_text1.to_csv('/Users/AuerPower/Metis/git/steel-man/data/article_text/df_text_1892.csv')"
   ]
  }
 ],
 "metadata": {
  "kernelspec": {
   "display_name": "Python [conda env:metis] *",
   "language": "python",
   "name": "conda-env-metis-py"
  },
  "language_info": {
   "codemirror_mode": {
    "name": "ipython",
    "version": 3
   },
   "file_extension": ".py",
   "mimetype": "text/x-python",
   "name": "python",
   "nbconvert_exporter": "python",
   "pygments_lexer": "ipython3",
   "version": "3.7.4"
  }
 },
 "nbformat": 4,
 "nbformat_minor": 2
}
