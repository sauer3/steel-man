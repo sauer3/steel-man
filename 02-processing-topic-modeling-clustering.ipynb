{
 "cells": [
  {
   "cell_type": "markdown",
   "metadata": {},
   "source": [
    "## Steelman recommender system\n",
    "This notebook is the workflow for a proof of concept for a recommender system that curates opposing opinions from a given input article. The text from articles have been scraped from the NYT and saved in a data frame.\n",
    "1. Pre-processing text data - cleaning data for every document in the data frame (tokenization, lemmitization, removing stopwords).\n",
    "2. Topic modeling - tried TFIDF with LSA and NMF. Ended up choosing NMF because the topics made more sense although the difference between them was small. \n",
    "3. K-means clustering - used k-means to cluster topics\n",
    "4. Recommendation systems:\n",
    "    - Cosine similarity and kmeans clustering\n",
    "    - Cosine similarity and NMF\n",
    "    - Cosine simlarity between documents\n",
    "Cosine similarity with kmeans clustering seemed more on topic than the others so that was what I used for my final proof of concept. "
   ]
  },
  {
   "cell_type": "code",
   "execution_count": 1,
   "metadata": {
    "ExecuteTime": {
     "end_time": "2020-02-28T18:22:41.129456Z",
     "start_time": "2020-02-28T18:22:36.527424Z"
    }
   },
   "outputs": [
    {
     "name": "stderr",
     "output_type": "stream",
     "text": [
      "/Users/AuerPower/opt/miniconda3/envs/metis/lib/python3.7/site-packages/sklearn/utils/deprecation.py:144: FutureWarning: The sklearn.metrics.classification module is  deprecated in version 0.22 and will be removed in version 0.24. The corresponding classes / functions should instead be imported from sklearn.metrics. Anything that cannot be imported from sklearn.metrics is now part of the private API.\n",
      "  warnings.warn(message, FutureWarning)\n"
     ]
    }
   ],
   "source": [
    "import re\n",
    "import pandas as pd\n",
    "from sklearn.feature_extraction.text import CountVectorizer \n",
    "from sklearn.decomposition import TruncatedSVD\n",
    "from sklearn.decomposition import NMF\n",
    "from sklearn.metrics.pairwise import cosine_similarity\n",
    "import nltk\n",
    "from nltk.corpus import stopwords\n",
    "from nltk.tokenize import sent_tokenize, word_tokenize\n",
    "from nltk.stem import PorterStemmer\n",
    "from nltk.stem import WordNetLemmatizer\n",
    "from yellowbrick.text import TSNEVisualizer,UMAPVisualizer\n",
    "from sklearn.feature_extraction.text import TfidfVectorizer,CountVectorizer"
   ]
  },
  {
   "cell_type": "code",
   "execution_count": 2,
   "metadata": {
    "ExecuteTime": {
     "end_time": "2020-02-28T18:22:41.133395Z",
     "start_time": "2020-02-28T18:22:41.131209Z"
    }
   },
   "outputs": [],
   "source": [
    "import warnings\n",
    "#warnings.filterwarnings(action='once')\n",
    "warnings.filterwarnings('ignore')"
   ]
  },
  {
   "cell_type": "code",
   "execution_count": null,
   "metadata": {
    "ExecuteTime": {
     "end_time": "2020-02-25T22:58:34.546557Z",
     "start_time": "2020-02-25T22:58:30.011018Z"
    }
   },
   "outputs": [],
   "source": [
    "# nltk.download('stopwords')\n",
    "# nltk.download('wordnet')"
   ]
  },
  {
   "cell_type": "markdown",
   "metadata": {
    "ExecuteTime": {
     "end_time": "2020-02-24T02:47:27.775432Z",
     "start_time": "2020-02-24T02:47:27.773387Z"
    },
    "heading_collapsed": true
   },
   "source": [
    "## Pre-Processing text data"
   ]
  },
  {
   "cell_type": "code",
   "execution_count": 3,
   "metadata": {
    "ExecuteTime": {
     "end_time": "2020-02-28T18:22:44.931997Z",
     "start_time": "2020-02-28T18:22:44.925607Z"
    },
    "hidden": true
   },
   "outputs": [],
   "source": [
    "def preprocess(raw_text):\n",
    "    \n",
    "    # tokenize words\n",
    "    tokenized_words = word_tokenize(raw_text)\n",
    "\n",
    "    # keep only words - remove punctuation\n",
    "    letters_only_text = [re.sub(\"[^a-zA-Z]\", \" \", text) for text in tokenized_words]\n",
    "\n",
    "    # convert to lower case \n",
    "    words = [word.lower() for word in letters_only_text]\n",
    "\n",
    "    # remove stopwords + useless words\n",
    "    stopword_set = set(stopwords.words(\"english\") + ['immigration'] + ['immigrants'])\n",
    "    cleaned_words = list(set([w for w in words if w not in stopword_set]))\n",
    "    \n",
    "    # remove blank spaces from list\n",
    "    cleaned_words = [re.sub(\" \", \"\", text) for text in cleaned_words]\n",
    "    cleaned_words = list(filter(None, cleaned_words))\n",
    "    \n",
    "    # Stem/lemmitize words\n",
    "    #porter=PorterStemmer()\n",
    "    #stemmed_words = [porter.stem(word) for word in cleaned_words]\n",
    "    lemmatizer = WordNetLemmatizer()\n",
    "    lemmitized_words = [lemmatizer.lemmatize(word) for word in cleaned_words]\n",
    "    \n",
    "    # put list of words back into a corpus doc\n",
    "    cleaned_corpus = ' '.join(word for word in lemmitized_words)\n",
    "\n",
    "    return cleaned_corpus"
   ]
  },
  {
   "cell_type": "code",
   "execution_count": 4,
   "metadata": {
    "ExecuteTime": {
     "end_time": "2020-02-28T18:22:46.194886Z",
     "start_time": "2020-02-28T18:22:46.087158Z"
    },
    "hidden": true
   },
   "outputs": [],
   "source": [
    "# Load data\n",
    "article_df = pd.read_csv('data/immigration_2000.csv')\n",
    "article_df['index'] = list(range(0,2000))\n",
    "\n",
    "text_df = pd.read_csv('data/article_text/df_text_1892.csv', index_col=[0])\n",
    "\n",
    "#article_df.tail()"
   ]
  },
  {
   "cell_type": "code",
   "execution_count": 5,
   "metadata": {
    "ExecuteTime": {
     "end_time": "2020-02-28T18:22:49.027884Z",
     "start_time": "2020-02-28T18:22:49.019529Z"
    },
    "hidden": true
   },
   "outputs": [],
   "source": [
    "# Merge data\n",
    "text_df = text_df.merge(article_df, left_index=True, right_index=True, how='left')\n",
    "text_df = text_df.reset_index()"
   ]
  },
  {
   "cell_type": "code",
   "execution_count": 6,
   "metadata": {
    "ExecuteTime": {
     "end_time": "2020-02-28T18:23:03.476203Z",
     "start_time": "2020-02-28T18:22:49.634916Z"
    },
    "hidden": true
   },
   "outputs": [],
   "source": [
    "text_df['all_text'] = [preprocess(row) for row in text_df['all_text']]"
   ]
  },
  {
   "cell_type": "code",
   "execution_count": 7,
   "metadata": {
    "ExecuteTime": {
     "end_time": "2020-02-28T18:23:03.482069Z",
     "start_time": "2020-02-28T18:23:03.477953Z"
    },
    "hidden": true
   },
   "outputs": [
    {
     "data": {
      "text/plain": [
       "'elevated intends think decision consciousness subtracted joint house signal resurrect visit slaughter southeast percountry said country asiapacific decade saw nation certainly adding writes impulse surpassing reported myanmar implicated expanded chief free largest eliding haram impeachment hysteria followed johnsonreed chinese group environment percentage matter japanese came behavior racial stage want continues swamped respect tourist basis economy never list eritrea much responsible america called terrorist south would ineligible operation announced well law whiteness type asian legal billion cast element sends supreme africa citizenship society mulatto foreignness reconstitute attainment black vector nonwhites shithole permanent including complained around others notion still famously birth found immigration obvious cabinet racism member administration thousand hand revised setting travel become hierarchy sudan established worked long system nonwhite ignorant public could boundary population europe happening known stephen haiti every democratic large imposed time immigrant given people dozen matter written predominantly memo make multiple slave worried raged stratify attack historian region government fresh excised terrorism native income descendant hut country century york join attack among emergency boko coronavirus difference amount pending policy defined million excluded chance race reportedly voluntary nigerian test institute explicitly favor hardliner mass european successful actually southern ban kidnapping remark racialization meant eastern everdeveloping although national go black threat several also nation quota risk codified farreaching external group little american meeting official concern terrorist granted trump heart soil separate enter visitor consequence foreign barred racist number racialize slammed aid evidence channeling cato citing back act kyrgyzstan person nigeria people making presidential security benefit loophole statement noneuropean door bit early vision voice home illegality population united ngai total term libertarian continent version attempt say nigerian internal friday arrival nativist islamist make deserves way residence representation central preferred deal discounted time mae president original history literacy restriction one almost entry military application reduce educational year banned offlimits fit limit exclusion worth state white muslim court miller nativeborn odd according elevation receives using next analysis distribute first new th african larger blessing welcome bottom harshest asia articulate negro seven american struggled tanzania'"
      ]
     },
     "execution_count": 7,
     "metadata": {},
     "output_type": "execute_result"
    }
   ],
   "source": [
    "text_df['all_text'][0]"
   ]
  },
  {
   "cell_type": "code",
   "execution_count": 8,
   "metadata": {
    "ExecuteTime": {
     "end_time": "2020-02-28T18:23:06.507701Z",
     "start_time": "2020-02-28T18:23:06.504628Z"
    },
    "hidden": true
   },
   "outputs": [
    {
     "name": "stdout",
     "output_type": "stream",
     "text": [
      "number of articles in corpus: 1892\n"
     ]
    }
   ],
   "source": [
    "print(\"number of articles in corpus:\", text_df.shape[0])"
   ]
  },
  {
   "cell_type": "markdown",
   "metadata": {
    "ExecuteTime": {
     "end_time": "2020-02-24T23:53:10.399184Z",
     "start_time": "2020-02-24T23:53:10.397071Z"
    },
    "heading_collapsed": true
   },
   "source": [
    "## Some EDA"
   ]
  },
  {
   "cell_type": "code",
   "execution_count": null,
   "metadata": {
    "ExecuteTime": {
     "end_time": "2020-02-28T03:04:47.770759Z",
     "start_time": "2020-02-28T03:04:47.767560Z"
    },
    "hidden": true
   },
   "outputs": [],
   "source": [
    "print(\"number of articles in corpus:\", text_df.shape[0])"
   ]
  },
  {
   "cell_type": "code",
   "execution_count": null,
   "metadata": {
    "ExecuteTime": {
     "end_time": "2020-02-28T03:04:52.559815Z",
     "start_time": "2020-02-28T03:04:52.539351Z"
    },
    "hidden": true
   },
   "outputs": [],
   "source": [
    "## What is the span of dates for our dataset? \n",
    "article_df['pub_date'] = pd.to_datetime(article_df['pub_date'])\n",
    "article_years = article_df.reset_index().set_index('pub_date').resample('Y').size()\n",
    "article_years"
   ]
  },
  {
   "cell_type": "code",
   "execution_count": null,
   "metadata": {
    "ExecuteTime": {
     "end_time": "2020-02-28T03:04:55.501646Z",
     "start_time": "2020-02-28T03:04:55.490840Z"
    },
    "hidden": true
   },
   "outputs": [],
   "source": [
    "text_df['pub_date'] = pd.to_datetime(text_df['pub_date'])\n",
    "text_df = text_df[text_df['pub_date'] > '2005-12-31 00:00:00+00:00']\n",
    "text_df.shape"
   ]
  },
  {
   "cell_type": "markdown",
   "metadata": {
    "hidden": true
   },
   "source": [
    "Articles go back really far. I might try to get more articles and cut it off to just the past 5 or 10 years."
   ]
  },
  {
   "cell_type": "markdown",
   "metadata": {
    "ExecuteTime": {
     "end_time": "2020-02-24T01:58:38.065258Z",
     "start_time": "2020-02-24T01:58:38.063128Z"
    }
   },
   "source": [
    "## Topic Modeling"
   ]
  },
  {
   "cell_type": "markdown",
   "metadata": {
    "ExecuteTime": {
     "end_time": "2020-02-25T21:49:27.860789Z",
     "start_time": "2020-02-25T21:49:27.857857Z"
    },
    "heading_collapsed": true
   },
   "source": [
    "#### TFIDF with LSA"
   ]
  },
  {
   "cell_type": "code",
   "execution_count": 142,
   "metadata": {
    "ExecuteTime": {
     "end_time": "2020-02-28T09:25:09.920494Z",
     "start_time": "2020-02-28T09:25:09.246860Z"
    },
    "hidden": true
   },
   "outputs": [
    {
     "name": "stdout",
     "output_type": "stream",
     "text": [
      "\n",
      "Topic  0\n",
      "year, state, american, country, law, republican, policy, right, time, make, family, border, president, people, million, mr, way, like, child, government, need, new, day, want, say, work, united, said, issue, come\n",
      "\n",
      "Topic  1\n",
      "court, deportation, law, enforcement, federal, criminal, judge, department, homeland, administration, officer, agency, custom, abuse, lawyer, agent, police, official, justice, crime, detention, local, security, case, arrest, legal, profiling, arizona, supreme, jail\n",
      "\n",
      "Topic  2\n",
      "refugee, migrant, life, family, mother, child, home, yearold, parent, father, story, asylum, day, friend, daughter, european, world, girl, violence, woman, europe, arrived, son, kid, fleeing, human, told, el, journey, born\n",
      "\n",
      "Topic  3\n",
      "worker, visa, reform, million, job, labor, employer, wage, pay, economy, comprehensive, path, card, work, citizenship, family, senate, billion, business, dream, workplace, shadow, temporary, bipartisan, senator, green, better, program, fix, mexico\n",
      "\n",
      "Topic  4\n",
      "european, europe, number, migrant, union, refugee, migration, economic, government, policy, increase, cost, minister, britain, benefit, economy, population, rate, crisis, employer, visa, percent, prime, worker, wage, problem, billion, foreign, france, international\n",
      "\n",
      "Topic  5\n",
      "police, local, community, crime, county, city, laborer, latino, profiling, sheriff, worker, racial, arizona, officer, arrest, european, crackdown, immigrant, paper, street, town, labor, neighborhood, raid, mayor, business, policing, job, arrested, traffic\n",
      "\n",
      "Topic  6\n",
      "supreme, court, school, decision, college, citizen, ruling, appeal, justice, resident, deferred, university, card, judge, application, status, executive, license, student, childhood, degree, education, circuit, case, permanent, born, statute, state, graduate, person\n",
      "\n",
      "Topic  7\n",
      "report, study, research, rate, custom, survey, center, wage, according, percentage, hispanic, percent, detention, increase, latino, number, data, level, crime, income, higher, health, community, pew, white, prison, detained, agent, care, jail\n",
      "\n",
      "Topic  8\n",
      "deportation, criminal, community, young, obama, deferred, action, student, dream, deporting, college, record, offender, dreamer, threat, focus, program, discretion, childhood, priority, noncriminals, president, minor, dragnet, arrival, school, unauthorized, society, daca, parent\n",
      "\n",
      "Topic  9\n",
      "mexican, mexico, arizona, border, american, fence, america, mile, wall, trump, state, population, supreme, illegal, drug, crossing, united, nation, latino, war, policy, alien, southern, donald, flow, hispanic, refugee, el, journey, century\n"
     ]
    }
   ],
   "source": [
    "#vectorizer = CountVectorizer(ngram_range=(1,3), stop_words='english')\n",
    "vectorizer=TfidfVectorizer(use_idf=True, stop_words='english')\n",
    "doc_word = vectorizer.fit_transform(text_df['all_text'])\n",
    "lsa = TruncatedSVD(10)\n",
    "doc_topic = lsa.fit_transform(doc_word)\n",
    "topic_word = pd.DataFrame(lsa.components_.round(3),\n",
    "             columns = vectorizer.get_feature_names())\n",
    "\n",
    "def display_topics(model, feature_names, no_top_words, topic_names=None):\n",
    "    for ix, topic in enumerate(model.components_):\n",
    "        if not topic_names or not topic_names[ix]:\n",
    "            print(\"\\nTopic \", ix)\n",
    "        else:\n",
    "            print(\"\\nTopic: '\",topic_names[ix],\"'\")\n",
    "        print(\", \".join([feature_names[i]\n",
    "                        for i in topic.argsort()[:-no_top_words - 1:-1]]))\n",
    "        \n",
    "display_topics(lsa, vectorizer.get_feature_names(), 30)"
   ]
  },
  {
   "cell_type": "markdown",
   "metadata": {
    "heading_collapsed": true
   },
   "source": [
    "#### TFIDF and NMF"
   ]
  },
  {
   "cell_type": "code",
   "execution_count": 9,
   "metadata": {
    "ExecuteTime": {
     "end_time": "2020-02-28T18:23:18.043447Z",
     "start_time": "2020-02-28T18:23:16.394965Z"
    },
    "hidden": true,
    "scrolled": true
   },
   "outputs": [
    {
     "name": "stdout",
     "output_type": "stream",
     "text": [
      "Topic #0:\n",
      "liberal white voter conservative election view minority issue democrat race group party politics candidate democratic poll vote black survey progressive percentage point hispanic electorate majority question republican political shift identity\n",
      "\n",
      "Topic #1:\n",
      "court supreme judge justice case ruling decision appeal law state federal constitution constitutional power circuit ruled statute opinion authority argument order claim united upheld branch district executive right government attorney\n",
      "\n",
      "Topic #2:\n",
      "day life friend family story know father school home mother child told woman came tell feel time parent son american got born daughter year love later kid man america place\n",
      "\n",
      "Topic #3:\n",
      "european europe minister refugee union muslim party france prime leader britain germany german populist movement french british country italy parliament attack nation political merkel world angela chancellor referendum western war\n",
      "\n",
      "Topic #4:\n",
      "economy tax job economic wage rate population business worker income benefit growth percent american market cost number billion cut higher pay increase million labor policy investment study decade lower education\n",
      "\n",
      "Topic #5:\n",
      "police crime local criminal community sheriff county enforcement law arrest officer federal profiling agency latino arizona city department abuse agent racial custom crackdown official illegal raid immigrant jail policing arrested\n",
      "\n",
      "Topic #6:\n",
      "visa worker employer card citizenship reform path comprehensive million status year senate congress illegal labor workplace green legal applicant permanent american citizen country law work senator immigrant right debate job\n",
      "\n",
      "Topic #7:\n",
      "republican candidate senator party democrat campaign senate presidential voter debate mc mr vote leader bush issue john reform president house want thing deal election talk democratic cain ted donald tax\n",
      "\n",
      "Topic #8:\n",
      "deportation obama action president dreamer deferred young million brought program executive deporting reform administration dream criminal childhood congress homeland child daca threat unauthorized family mr security arrival undocumented republican student\n",
      "\n",
      "Topic #9:\n",
      "migrant refugee asylum detention border child violence family administration gang el honduras central guatemala protection humanitarian fleeing salvador policy center facility human crisis shelter thousand crossing lawyer detained prison seeker\n",
      "\n"
     ]
    }
   ],
   "source": [
    "from sklearn.decomposition import NMF\n",
    "\n",
    "#n_samples = 2000\n",
    "n_features = 5000\n",
    "n_topics = 10\n",
    "n_top_words = 30\n",
    "\n",
    "vectorizer = TfidfVectorizer(max_df=0.95, # ignores terms that appear in more than 95% of the documents\n",
    "                             min_df=0.01, # ignore terms that appear in less than 1% of the documents\n",
    "                             max_features=n_features,\n",
    "                             stop_words='english')\n",
    "\n",
    "tfidf = vectorizer.fit_transform(text_df['all_text'].values)\n",
    "\n",
    "# Fit the NMF model\n",
    "nmf = NMF(n_components=n_topics, random_state=1).fit(tfidf)\n",
    "\n",
    "feature_names = vectorizer.get_feature_names()\n",
    "\n",
    "for topic_idx, topic in enumerate(nmf.components_):\n",
    "    print(\"Topic #%d:\" % topic_idx)\n",
    "    print(\" \".join([feature_names[i]\n",
    "                    for i in topic.argsort()[:-n_top_words - 1:-1]]))\n",
    "    print()"
   ]
  },
  {
   "cell_type": "code",
   "execution_count": 10,
   "metadata": {
    "ExecuteTime": {
     "end_time": "2020-02-28T18:23:23.330372Z",
     "start_time": "2020-02-28T18:23:22.180811Z"
    },
    "hidden": true
   },
   "outputs": [
    {
     "data": {
      "text/plain": [
       "(1892, 10)"
      ]
     },
     "execution_count": 10,
     "metadata": {},
     "output_type": "execute_result"
    }
   ],
   "source": [
    "# Topic matrix\n",
    "nmf_T = nmf.fit_transform(tfidf)\n",
    "nmf_T.shape"
   ]
  },
  {
   "cell_type": "code",
   "execution_count": 11,
   "metadata": {
    "ExecuteTime": {
     "end_time": "2020-02-28T18:23:23.927835Z",
     "start_time": "2020-02-28T18:23:23.914847Z"
    },
    "hidden": true
   },
   "outputs": [
    {
     "data": {
      "text/html": [
       "<div>\n",
       "<style scoped>\n",
       "    .dataframe tbody tr th:only-of-type {\n",
       "        vertical-align: middle;\n",
       "    }\n",
       "\n",
       "    .dataframe tbody tr th {\n",
       "        vertical-align: top;\n",
       "    }\n",
       "\n",
       "    .dataframe thead th {\n",
       "        text-align: right;\n",
       "    }\n",
       "</style>\n",
       "<table border=\"1\" class=\"dataframe\">\n",
       "  <thead>\n",
       "    <tr style=\"text-align: right;\">\n",
       "      <th></th>\n",
       "      <th>0</th>\n",
       "      <th>1</th>\n",
       "      <th>2</th>\n",
       "      <th>3</th>\n",
       "      <th>4</th>\n",
       "      <th>5</th>\n",
       "      <th>6</th>\n",
       "      <th>7</th>\n",
       "      <th>8</th>\n",
       "      <th>9</th>\n",
       "    </tr>\n",
       "  </thead>\n",
       "  <tbody>\n",
       "    <tr>\n",
       "      <th>0</th>\n",
       "      <td>0.026356</td>\n",
       "      <td>0.062075</td>\n",
       "      <td>0.030525</td>\n",
       "      <td>0.062783</td>\n",
       "      <td>0.023964</td>\n",
       "      <td>0.000000</td>\n",
       "      <td>0.033158</td>\n",
       "      <td>0.000000</td>\n",
       "      <td>0.000016</td>\n",
       "      <td>0.001263</td>\n",
       "    </tr>\n",
       "    <tr>\n",
       "      <th>1</th>\n",
       "      <td>0.008301</td>\n",
       "      <td>0.099741</td>\n",
       "      <td>0.019963</td>\n",
       "      <td>0.000000</td>\n",
       "      <td>0.035693</td>\n",
       "      <td>0.028004</td>\n",
       "      <td>0.016910</td>\n",
       "      <td>0.014511</td>\n",
       "      <td>0.007737</td>\n",
       "      <td>0.026034</td>\n",
       "    </tr>\n",
       "    <tr>\n",
       "      <th>2</th>\n",
       "      <td>0.012514</td>\n",
       "      <td>0.043139</td>\n",
       "      <td>0.042167</td>\n",
       "      <td>0.000000</td>\n",
       "      <td>0.005944</td>\n",
       "      <td>0.110414</td>\n",
       "      <td>0.000000</td>\n",
       "      <td>0.000000</td>\n",
       "      <td>0.028160</td>\n",
       "      <td>0.037365</td>\n",
       "    </tr>\n",
       "    <tr>\n",
       "      <th>3</th>\n",
       "      <td>0.068229</td>\n",
       "      <td>0.003918</td>\n",
       "      <td>0.028599</td>\n",
       "      <td>0.008192</td>\n",
       "      <td>0.030621</td>\n",
       "      <td>0.051213</td>\n",
       "      <td>0.075774</td>\n",
       "      <td>0.023339</td>\n",
       "      <td>0.000000</td>\n",
       "      <td>0.007241</td>\n",
       "    </tr>\n",
       "    <tr>\n",
       "      <th>4</th>\n",
       "      <td>0.016868</td>\n",
       "      <td>0.053054</td>\n",
       "      <td>0.003050</td>\n",
       "      <td>0.000000</td>\n",
       "      <td>0.021304</td>\n",
       "      <td>0.037905</td>\n",
       "      <td>0.000000</td>\n",
       "      <td>0.000000</td>\n",
       "      <td>0.000000</td>\n",
       "      <td>0.127137</td>\n",
       "    </tr>\n",
       "  </tbody>\n",
       "</table>\n",
       "</div>"
      ],
      "text/plain": [
       "          0         1         2         3         4         5         6  \\\n",
       "0  0.026356  0.062075  0.030525  0.062783  0.023964  0.000000  0.033158   \n",
       "1  0.008301  0.099741  0.019963  0.000000  0.035693  0.028004  0.016910   \n",
       "2  0.012514  0.043139  0.042167  0.000000  0.005944  0.110414  0.000000   \n",
       "3  0.068229  0.003918  0.028599  0.008192  0.030621  0.051213  0.075774   \n",
       "4  0.016868  0.053054  0.003050  0.000000  0.021304  0.037905  0.000000   \n",
       "\n",
       "          7         8         9  \n",
       "0  0.000000  0.000016  0.001263  \n",
       "1  0.014511  0.007737  0.026034  \n",
       "2  0.000000  0.028160  0.037365  \n",
       "3  0.023339  0.000000  0.007241  \n",
       "4  0.000000  0.000000  0.127137  "
      ]
     },
     "execution_count": 11,
     "metadata": {},
     "output_type": "execute_result"
    }
   ],
   "source": [
    "# Topic matrix as pandas data frame\n",
    "nmf_df = pd.DataFrame(nmf_T)\n",
    "nmf_df.head()"
   ]
  },
  {
   "cell_type": "code",
   "execution_count": 12,
   "metadata": {
    "ExecuteTime": {
     "end_time": "2020-02-28T18:23:27.666171Z",
     "start_time": "2020-02-28T18:23:27.657302Z"
    },
    "hidden": true
   },
   "outputs": [
    {
     "name": "stdout",
     "output_type": "stream",
     "text": [
      "topic  0 = 0.017360558944763252\n",
      "topic  1 = 0.020697125126184945\n",
      "topic  2 = 0.03215776444498528\n",
      "topic  3 = 0.02015222205651698\n",
      "topic  4 = 0.02656165440820483\n",
      "topic  5 = 0.02183373202394291\n",
      "topic  6 = 0.02095271625685808\n",
      "topic  7 = 0.02665863203362115\n",
      "topic  8 = 0.019498995867738733\n",
      "topic  9 = 0.024335078964818836\n"
     ]
    }
   ],
   "source": [
    "# Get the average of features/weights for each topic\n",
    "for topic in range(0,10):\n",
    "    avg = nmf_df[topic].mean()\n",
    "    print(\"topic \", topic, \"=\", avg)"
   ]
  },
  {
   "cell_type": "code",
   "execution_count": 13,
   "metadata": {
    "ExecuteTime": {
     "end_time": "2020-02-28T18:23:30.418195Z",
     "start_time": "2020-02-28T18:23:30.402860Z"
    },
    "hidden": true
   },
   "outputs": [
    {
     "data": {
      "text/html": [
       "<div>\n",
       "<style scoped>\n",
       "    .dataframe tbody tr th:only-of-type {\n",
       "        vertical-align: middle;\n",
       "    }\n",
       "\n",
       "    .dataframe tbody tr th {\n",
       "        vertical-align: top;\n",
       "    }\n",
       "\n",
       "    .dataframe thead th {\n",
       "        text-align: right;\n",
       "    }\n",
       "</style>\n",
       "<table border=\"1\" class=\"dataframe\">\n",
       "  <thead>\n",
       "    <tr style=\"text-align: right;\">\n",
       "      <th></th>\n",
       "      <th>0</th>\n",
       "      <th>1</th>\n",
       "      <th>2</th>\n",
       "      <th>3</th>\n",
       "      <th>4</th>\n",
       "      <th>5</th>\n",
       "      <th>6</th>\n",
       "      <th>7</th>\n",
       "      <th>8</th>\n",
       "      <th>9</th>\n",
       "      <th>topic</th>\n",
       "    </tr>\n",
       "  </thead>\n",
       "  <tbody>\n",
       "    <tr>\n",
       "      <th>0</th>\n",
       "      <td>0.026356</td>\n",
       "      <td>0.062075</td>\n",
       "      <td>0.030525</td>\n",
       "      <td>0.062783</td>\n",
       "      <td>0.023964</td>\n",
       "      <td>0.000000</td>\n",
       "      <td>0.033158</td>\n",
       "      <td>0.000000</td>\n",
       "      <td>0.000016</td>\n",
       "      <td>0.001263</td>\n",
       "      <td>3</td>\n",
       "    </tr>\n",
       "    <tr>\n",
       "      <th>1</th>\n",
       "      <td>0.008301</td>\n",
       "      <td>0.099741</td>\n",
       "      <td>0.019963</td>\n",
       "      <td>0.000000</td>\n",
       "      <td>0.035693</td>\n",
       "      <td>0.028004</td>\n",
       "      <td>0.016910</td>\n",
       "      <td>0.014511</td>\n",
       "      <td>0.007737</td>\n",
       "      <td>0.026034</td>\n",
       "      <td>1</td>\n",
       "    </tr>\n",
       "    <tr>\n",
       "      <th>2</th>\n",
       "      <td>0.012514</td>\n",
       "      <td>0.043139</td>\n",
       "      <td>0.042167</td>\n",
       "      <td>0.000000</td>\n",
       "      <td>0.005944</td>\n",
       "      <td>0.110414</td>\n",
       "      <td>0.000000</td>\n",
       "      <td>0.000000</td>\n",
       "      <td>0.028160</td>\n",
       "      <td>0.037365</td>\n",
       "      <td>5</td>\n",
       "    </tr>\n",
       "    <tr>\n",
       "      <th>3</th>\n",
       "      <td>0.068229</td>\n",
       "      <td>0.003918</td>\n",
       "      <td>0.028599</td>\n",
       "      <td>0.008192</td>\n",
       "      <td>0.030621</td>\n",
       "      <td>0.051213</td>\n",
       "      <td>0.075774</td>\n",
       "      <td>0.023339</td>\n",
       "      <td>0.000000</td>\n",
       "      <td>0.007241</td>\n",
       "      <td>6</td>\n",
       "    </tr>\n",
       "    <tr>\n",
       "      <th>4</th>\n",
       "      <td>0.016868</td>\n",
       "      <td>0.053054</td>\n",
       "      <td>0.003050</td>\n",
       "      <td>0.000000</td>\n",
       "      <td>0.021304</td>\n",
       "      <td>0.037905</td>\n",
       "      <td>0.000000</td>\n",
       "      <td>0.000000</td>\n",
       "      <td>0.000000</td>\n",
       "      <td>0.127137</td>\n",
       "      <td>9</td>\n",
       "    </tr>\n",
       "  </tbody>\n",
       "</table>\n",
       "</div>"
      ],
      "text/plain": [
       "          0         1         2         3         4         5         6  \\\n",
       "0  0.026356  0.062075  0.030525  0.062783  0.023964  0.000000  0.033158   \n",
       "1  0.008301  0.099741  0.019963  0.000000  0.035693  0.028004  0.016910   \n",
       "2  0.012514  0.043139  0.042167  0.000000  0.005944  0.110414  0.000000   \n",
       "3  0.068229  0.003918  0.028599  0.008192  0.030621  0.051213  0.075774   \n",
       "4  0.016868  0.053054  0.003050  0.000000  0.021304  0.037905  0.000000   \n",
       "\n",
       "          7         8         9  topic  \n",
       "0  0.000000  0.000016  0.001263      3  \n",
       "1  0.014511  0.007737  0.026034      1  \n",
       "2  0.000000  0.028160  0.037365      5  \n",
       "3  0.023339  0.000000  0.007241      6  \n",
       "4  0.000000  0.000000  0.127137      9  "
      ]
     },
     "execution_count": 13,
     "metadata": {},
     "output_type": "execute_result"
    }
   ],
   "source": [
    "# Assign a topic to each document\n",
    "nmf_df['topic'] = nmf_df.idxmax(axis=1)\n",
    "nmf_df.head()"
   ]
  },
  {
   "cell_type": "markdown",
   "metadata": {
    "hidden": true
   },
   "source": [
    "The average weights of each topic are relatively the same so this means I can assign each document to a topic based on the index (topic) associated with the largest coefficient in the nmf array for each document."
   ]
  },
  {
   "cell_type": "code",
   "execution_count": 14,
   "metadata": {
    "ExecuteTime": {
     "end_time": "2020-02-28T18:23:35.151486Z",
     "start_time": "2020-02-28T18:23:35.136796Z"
    },
    "hidden": true
   },
   "outputs": [
    {
     "data": {
      "text/html": [
       "<div>\n",
       "<style scoped>\n",
       "    .dataframe tbody tr th:only-of-type {\n",
       "        vertical-align: middle;\n",
       "    }\n",
       "\n",
       "    .dataframe tbody tr th {\n",
       "        vertical-align: top;\n",
       "    }\n",
       "\n",
       "    .dataframe thead th {\n",
       "        text-align: right;\n",
       "    }\n",
       "</style>\n",
       "<table border=\"1\" class=\"dataframe\">\n",
       "  <thead>\n",
       "    <tr style=\"text-align: right;\">\n",
       "      <th></th>\n",
       "      <th>0</th>\n",
       "      <th>1</th>\n",
       "      <th>2</th>\n",
       "      <th>3</th>\n",
       "      <th>4</th>\n",
       "      <th>5</th>\n",
       "      <th>6</th>\n",
       "      <th>7</th>\n",
       "      <th>8</th>\n",
       "      <th>9</th>\n",
       "      <th>topic</th>\n",
       "    </tr>\n",
       "  </thead>\n",
       "  <tbody>\n",
       "    <tr>\n",
       "      <th>0</th>\n",
       "      <td>0.026356</td>\n",
       "      <td>0.062075</td>\n",
       "      <td>0.030525</td>\n",
       "      <td>0.062783</td>\n",
       "      <td>0.023964</td>\n",
       "      <td>0.000000</td>\n",
       "      <td>0.033158</td>\n",
       "      <td>0.000000</td>\n",
       "      <td>0.000016</td>\n",
       "      <td>0.001263</td>\n",
       "      <td>Identity</td>\n",
       "    </tr>\n",
       "    <tr>\n",
       "      <th>1</th>\n",
       "      <td>0.008301</td>\n",
       "      <td>0.099741</td>\n",
       "      <td>0.019963</td>\n",
       "      <td>0.000000</td>\n",
       "      <td>0.035693</td>\n",
       "      <td>0.028004</td>\n",
       "      <td>0.016910</td>\n",
       "      <td>0.014511</td>\n",
       "      <td>0.007737</td>\n",
       "      <td>0.026034</td>\n",
       "      <td>Law</td>\n",
       "    </tr>\n",
       "    <tr>\n",
       "      <th>2</th>\n",
       "      <td>0.012514</td>\n",
       "      <td>0.043139</td>\n",
       "      <td>0.042167</td>\n",
       "      <td>0.000000</td>\n",
       "      <td>0.005944</td>\n",
       "      <td>0.110414</td>\n",
       "      <td>0.000000</td>\n",
       "      <td>0.000000</td>\n",
       "      <td>0.028160</td>\n",
       "      <td>0.037365</td>\n",
       "      <td>Enforcement</td>\n",
       "    </tr>\n",
       "    <tr>\n",
       "      <th>3</th>\n",
       "      <td>0.068229</td>\n",
       "      <td>0.003918</td>\n",
       "      <td>0.028599</td>\n",
       "      <td>0.008192</td>\n",
       "      <td>0.030621</td>\n",
       "      <td>0.051213</td>\n",
       "      <td>0.075774</td>\n",
       "      <td>0.023339</td>\n",
       "      <td>0.000000</td>\n",
       "      <td>0.007241</td>\n",
       "      <td>Labor</td>\n",
       "    </tr>\n",
       "    <tr>\n",
       "      <th>4</th>\n",
       "      <td>0.016868</td>\n",
       "      <td>0.053054</td>\n",
       "      <td>0.003050</td>\n",
       "      <td>0.000000</td>\n",
       "      <td>0.021304</td>\n",
       "      <td>0.037905</td>\n",
       "      <td>0.000000</td>\n",
       "      <td>0.000000</td>\n",
       "      <td>0.000000</td>\n",
       "      <td>0.127137</td>\n",
       "      <td>Refugees</td>\n",
       "    </tr>\n",
       "  </tbody>\n",
       "</table>\n",
       "</div>"
      ],
      "text/plain": [
       "          0         1         2         3         4         5         6  \\\n",
       "0  0.026356  0.062075  0.030525  0.062783  0.023964  0.000000  0.033158   \n",
       "1  0.008301  0.099741  0.019963  0.000000  0.035693  0.028004  0.016910   \n",
       "2  0.012514  0.043139  0.042167  0.000000  0.005944  0.110414  0.000000   \n",
       "3  0.068229  0.003918  0.028599  0.008192  0.030621  0.051213  0.075774   \n",
       "4  0.016868  0.053054  0.003050  0.000000  0.021304  0.037905  0.000000   \n",
       "\n",
       "          7         8         9        topic  \n",
       "0  0.000000  0.000016  0.001263     Identity  \n",
       "1  0.014511  0.007737  0.026034          Law  \n",
       "2  0.000000  0.028160  0.037365  Enforcement  \n",
       "3  0.023339  0.000000  0.007241        Labor  \n",
       "4  0.000000  0.000000  0.127137     Refugees  "
      ]
     },
     "execution_count": 14,
     "metadata": {},
     "output_type": "execute_result"
    }
   ],
   "source": [
    "# Name topics\n",
    "topic_names = {0:\"Elections\", 1:\"Law\", 2:\"Family\", 3:\"Identity\", 4:\"Europe\", \n",
    "               5:\"Enforcement\", 6:\"Labor\", 7:\"Border\", 8:\"Citizenship\", 9:\"Refugees\"}\n",
    "nmf_df['topic'] = nmf_df['topic'].map(topic_names)\n",
    "nmf_df.head()"
   ]
  },
  {
   "cell_type": "code",
   "execution_count": 15,
   "metadata": {
    "ExecuteTime": {
     "end_time": "2020-02-28T18:23:47.730529Z",
     "start_time": "2020-02-28T18:23:47.346946Z"
    },
    "hidden": true
   },
   "outputs": [
    {
     "data": {
      "text/plain": [
       "Text(0, 0.5, '')"
      ]
     },
     "execution_count": 15,
     "metadata": {},
     "output_type": "execute_result"
    },
    {
     "data": {
      "image/png": "[encoded data removed]",
      "text/plain": [
       "<Figure size 576x396 with 1 Axes>"
      ]
     },
     "metadata": {},
     "output_type": "display_data"
    }
   ],
   "source": [
    "## graph of topic contributions\n",
    "import seaborn as sns\n",
    "import matplotlib.pyplot as plt\n",
    "\n",
    "topic_sum = nmf_df.groupby('topic').size()\n",
    "topic_sum = topic_sum.to_frame(name='docs')\n",
    "topic_sum = topic_sum.reset_index()\n",
    "topic_sum = topic_sum.sort_values('docs')\n",
    "\n",
    "# plot\n",
    "sns.set(font_scale = 1.5)\n",
    "ax = sns.barplot(x='docs', y='topic', data=topic_sum, color='green')\n",
    "ax.axes.set_title(\"Number of Articles per topic\",fontsize=25)\n",
    "ax.set_xlabel(\"Number of Articles\",fontsize=20)\n",
    "ax.set_ylabel(\"\")"
   ]
  },
  {
   "cell_type": "code",
   "execution_count": 16,
   "metadata": {
    "ExecuteTime": {
     "end_time": "2020-02-28T18:23:52.052415Z",
     "start_time": "2020-02-28T18:23:52.034815Z"
    },
    "hidden": true
   },
   "outputs": [
    {
     "data": {
      "text/html": [
       "<div>\n",
       "<style scoped>\n",
       "    .dataframe tbody tr th:only-of-type {\n",
       "        vertical-align: middle;\n",
       "    }\n",
       "\n",
       "    .dataframe tbody tr th {\n",
       "        vertical-align: top;\n",
       "    }\n",
       "\n",
       "    .dataframe thead th {\n",
       "        text-align: right;\n",
       "    }\n",
       "</style>\n",
       "<table border=\"1\" class=\"dataframe\">\n",
       "  <thead>\n",
       "    <tr style=\"text-align: right;\">\n",
       "      <th></th>\n",
       "      <th>level_0</th>\n",
       "      <th>all_text</th>\n",
       "      <th>Unnamed: 0</th>\n",
       "      <th>abstract</th>\n",
       "      <th>web_url</th>\n",
       "      <th>snippet</th>\n",
       "      <th>lead_paragraph</th>\n",
       "      <th>source</th>\n",
       "      <th>headline</th>\n",
       "      <th>pub_date</th>\n",
       "      <th>document_type</th>\n",
       "      <th>news_desk</th>\n",
       "      <th>section_name</th>\n",
       "      <th>index</th>\n",
       "      <th>topic</th>\n",
       "    </tr>\n",
       "  </thead>\n",
       "  <tbody>\n",
       "    <tr>\n",
       "      <th>0</th>\n",
       "      <td>0</td>\n",
       "      <td>elevated intends think decision consciousness ...</td>\n",
       "      <td>0</td>\n",
       "      <td>Adding Nigeria to the expanded list of exclude...</td>\n",
       "      <td>https://www.nytimes.com/2020/02/04/opinion/tru...</td>\n",
       "      <td>Adding Nigeria to the expanded list of exclude...</td>\n",
       "      <td>It’s happening a little bit out of public cons...</td>\n",
       "      <td>The New York Times</td>\n",
       "      <td>The Racism at the Heart of Trump’s ‘Travel Ban’</td>\n",
       "      <td>2020-02-04T10:00:15+0000</td>\n",
       "      <td>article</td>\n",
       "      <td>OpEd</td>\n",
       "      <td>Opinion</td>\n",
       "      <td>0</td>\n",
       "      <td>Identity</td>\n",
       "    </tr>\n",
       "    <tr>\n",
       "      <th>1</th>\n",
       "      <td>1</td>\n",
       "      <td>deeply specific uproot advancement urgent deci...</td>\n",
       "      <td>1</td>\n",
       "      <td>Congressional hearings are urgently needed to ...</td>\n",
       "      <td>https://www.nytimes.com/2020/02/07/opinion/dhs...</td>\n",
       "      <td>Congressional hearings are urgently needed to ...</td>\n",
       "      <td>“When the government tracks the location of a ...</td>\n",
       "      <td>The New York Times</td>\n",
       "      <td>The Government Uses ‘Near Perfect Surveillance...</td>\n",
       "      <td>2020-02-08T00:24:47+0000</td>\n",
       "      <td>article</td>\n",
       "      <td>Editorial</td>\n",
       "      <td>Opinion</td>\n",
       "      <td>1</td>\n",
       "      <td>Law</td>\n",
       "    </tr>\n",
       "    <tr>\n",
       "      <th>2</th>\n",
       "      <td>2</td>\n",
       "      <td>purported falsified gangrelated happened shirt...</td>\n",
       "      <td>2</td>\n",
       "      <td>The bar for being labeled a gang member is low...</td>\n",
       "      <td>https://www.nytimes.com/2020/02/03/opinion/los...</td>\n",
       "      <td>The bar for being labeled a gang member is low...</td>\n",
       "      <td>I found out I was in a gang database — a share...</td>\n",
       "      <td>The New York Times</td>\n",
       "      <td>Are You in a Gang Database?</td>\n",
       "      <td>2020-02-04T00:00:07+0000</td>\n",
       "      <td>article</td>\n",
       "      <td>OpEd</td>\n",
       "      <td>Opinion</td>\n",
       "      <td>2</td>\n",
       "      <td>Enforcement</td>\n",
       "    </tr>\n",
       "    <tr>\n",
       "      <th>3</th>\n",
       "      <td>3</td>\n",
       "      <td>tended draconian think florida initiative marg...</td>\n",
       "      <td>3</td>\n",
       "      <td>Immigration can invigorate the country. But wh...</td>\n",
       "      <td>https://www.nytimes.com/2020/01/16/opinion/imm...</td>\n",
       "      <td>Immigration can invigorate the country. But wh...</td>\n",
       "      <td>In 2001, when I was the new Washington corresp...</td>\n",
       "      <td>The New York Times</td>\n",
       "      <td>I’m a Liberal Who Thinks Immigration Must Be R...</td>\n",
       "      <td>2020-01-16T23:48:30+0000</td>\n",
       "      <td>article</td>\n",
       "      <td>OpEd</td>\n",
       "      <td>Opinion</td>\n",
       "      <td>3</td>\n",
       "      <td>Labor</td>\n",
       "    </tr>\n",
       "    <tr>\n",
       "      <th>4</th>\n",
       "      <td>4</td>\n",
       "      <td>tone political low isolation requirement red w...</td>\n",
       "      <td>4</td>\n",
       "      <td>For immigrants languishing behind bars, a hung...</td>\n",
       "      <td>https://www.nytimes.com/2020/01/30/opinion/hun...</td>\n",
       "      <td>For immigrants languishing behind bars, a hung...</td>\n",
       "      <td>On Jan. 29, Immigration and Customs Enforcemen...</td>\n",
       "      <td>The New York Times</td>\n",
       "      <td>Starving for Justice in ICE Detention</td>\n",
       "      <td>2020-01-30T20:30:07+0000</td>\n",
       "      <td>article</td>\n",
       "      <td>OpEd</td>\n",
       "      <td>Opinion</td>\n",
       "      <td>4</td>\n",
       "      <td>Refugees</td>\n",
       "    </tr>\n",
       "  </tbody>\n",
       "</table>\n",
       "</div>"
      ],
      "text/plain": [
       "   level_0                                           all_text  Unnamed: 0  \\\n",
       "0        0  elevated intends think decision consciousness ...           0   \n",
       "1        1  deeply specific uproot advancement urgent deci...           1   \n",
       "2        2  purported falsified gangrelated happened shirt...           2   \n",
       "3        3  tended draconian think florida initiative marg...           3   \n",
       "4        4  tone political low isolation requirement red w...           4   \n",
       "\n",
       "                                            abstract  \\\n",
       "0  Adding Nigeria to the expanded list of exclude...   \n",
       "1  Congressional hearings are urgently needed to ...   \n",
       "2  The bar for being labeled a gang member is low...   \n",
       "3  Immigration can invigorate the country. But wh...   \n",
       "4  For immigrants languishing behind bars, a hung...   \n",
       "\n",
       "                                             web_url  \\\n",
       "0  https://www.nytimes.com/2020/02/04/opinion/tru...   \n",
       "1  https://www.nytimes.com/2020/02/07/opinion/dhs...   \n",
       "2  https://www.nytimes.com/2020/02/03/opinion/los...   \n",
       "3  https://www.nytimes.com/2020/01/16/opinion/imm...   \n",
       "4  https://www.nytimes.com/2020/01/30/opinion/hun...   \n",
       "\n",
       "                                             snippet  \\\n",
       "0  Adding Nigeria to the expanded list of exclude...   \n",
       "1  Congressional hearings are urgently needed to ...   \n",
       "2  The bar for being labeled a gang member is low...   \n",
       "3  Immigration can invigorate the country. But wh...   \n",
       "4  For immigrants languishing behind bars, a hung...   \n",
       "\n",
       "                                      lead_paragraph              source  \\\n",
       "0  It’s happening a little bit out of public cons...  The New York Times   \n",
       "1  “When the government tracks the location of a ...  The New York Times   \n",
       "2  I found out I was in a gang database — a share...  The New York Times   \n",
       "3  In 2001, when I was the new Washington corresp...  The New York Times   \n",
       "4  On Jan. 29, Immigration and Customs Enforcemen...  The New York Times   \n",
       "\n",
       "                                            headline  \\\n",
       "0    The Racism at the Heart of Trump’s ‘Travel Ban’   \n",
       "1  The Government Uses ‘Near Perfect Surveillance...   \n",
       "2                        Are You in a Gang Database?   \n",
       "3  I’m a Liberal Who Thinks Immigration Must Be R...   \n",
       "4              Starving for Justice in ICE Detention   \n",
       "\n",
       "                   pub_date document_type  news_desk section_name  index  \\\n",
       "0  2020-02-04T10:00:15+0000       article       OpEd      Opinion      0   \n",
       "1  2020-02-08T00:24:47+0000       article  Editorial      Opinion      1   \n",
       "2  2020-02-04T00:00:07+0000       article       OpEd      Opinion      2   \n",
       "3  2020-01-16T23:48:30+0000       article       OpEd      Opinion      3   \n",
       "4  2020-01-30T20:30:07+0000       article       OpEd      Opinion      4   \n",
       "\n",
       "         topic  \n",
       "0     Identity  \n",
       "1          Law  \n",
       "2  Enforcement  \n",
       "3        Labor  \n",
       "4     Refugees  "
      ]
     },
     "execution_count": 16,
     "metadata": {},
     "output_type": "execute_result"
    }
   ],
   "source": [
    "# Merge topics with main text dataframe\n",
    "topics_index = nmf_df['topic']\n",
    "text_df = text_df.merge(topics_index, left_index=True, right_index=True)\n",
    "text_df.head()"
   ]
  },
  {
   "cell_type": "code",
   "execution_count": 17,
   "metadata": {
    "ExecuteTime": {
     "end_time": "2020-02-28T18:23:55.883605Z",
     "start_time": "2020-02-28T18:23:55.879912Z"
    },
    "hidden": true
   },
   "outputs": [
    {
     "data": {
      "text/plain": [
       "(1892, 15)"
      ]
     },
     "execution_count": 17,
     "metadata": {},
     "output_type": "execute_result"
    }
   ],
   "source": [
    "text_df.shape"
   ]
  },
  {
   "cell_type": "markdown",
   "metadata": {
    "ExecuteTime": {
     "end_time": "2020-03-04T01:31:21.361213Z",
     "start_time": "2020-03-04T01:31:21.359080Z"
    },
    "heading_collapsed": true
   },
   "source": [
    "#### Visualize topic clusters"
   ]
  },
  {
   "cell_type": "code",
   "execution_count": 18,
   "metadata": {
    "ExecuteTime": {
     "end_time": "2020-02-28T18:24:02.194635Z",
     "start_time": "2020-02-28T18:24:02.190828Z"
    },
    "hidden": true
   },
   "outputs": [],
   "source": [
    "# Visualization\n",
    "import seaborn as sns\n",
    "sns.set(style='white', palette=\"bright\", context='notebook', rc={'figure.figsize':(14,10)})"
   ]
  },
  {
   "cell_type": "markdown",
   "metadata": {
    "hidden": true
   },
   "source": [
    "Valid metrics are ['euclidean', 'l2', 'l1', 'manhattan', 'cityblock', 'braycurtis', 'canberra', 'chebyshev', 'correlation', 'cosine', 'dice', 'hamming', 'jaccard', 'kulsinski', 'mahalanobis', 'matching', 'minkowski', 'rogerstanimoto', 'russellrao', 'seuclidean', 'sokalmichener', 'sokalsneath', 'sqeuclidean', 'yule', 'wminkowski', 'nan_euclidean', 'haversine']"
   ]
  },
  {
   "cell_type": "code",
   "execution_count": 19,
   "metadata": {
    "ExecuteTime": {
     "end_time": "2020-02-28T18:24:29.560151Z",
     "start_time": "2020-02-28T18:24:24.682177Z"
    },
    "hidden": true
   },
   "outputs": [
    {
     "name": "stderr",
     "output_type": "stream",
     "text": [
      "'c' argument looks like a single numeric RGB or RGBA sequence, which should be avoided as value-mapping will have precedence in case its length matches with 'x' & 'y'.  Please use a 2-D array with a single row if you really want to specify the same RGB or RGBA value for all points.\n",
      "'c' argument looks like a single numeric RGB or RGBA sequence, which should be avoided as value-mapping will have precedence in case its length matches with 'x' & 'y'.  Please use a 2-D array with a single row if you really want to specify the same RGB or RGBA value for all points.\n",
      "'c' argument looks like a single numeric RGB or RGBA sequence, which should be avoided as value-mapping will have precedence in case its length matches with 'x' & 'y'.  Please use a 2-D array with a single row if you really want to specify the same RGB or RGBA value for all points.\n",
      "'c' argument looks like a single numeric RGB or RGBA sequence, which should be avoided as value-mapping will have precedence in case its length matches with 'x' & 'y'.  Please use a 2-D array with a single row if you really want to specify the same RGB or RGBA value for all points.\n",
      "'c' argument looks like a single numeric RGB or RGBA sequence, which should be avoided as value-mapping will have precedence in case its length matches with 'x' & 'y'.  Please use a 2-D array with a single row if you really want to specify the same RGB or RGBA value for all points.\n",
      "'c' argument looks like a single numeric RGB or RGBA sequence, which should be avoided as value-mapping will have precedence in case its length matches with 'x' & 'y'.  Please use a 2-D array with a single row if you really want to specify the same RGB or RGBA value for all points.\n",
      "'c' argument looks like a single numeric RGB or RGBA sequence, which should be avoided as value-mapping will have precedence in case its length matches with 'x' & 'y'.  Please use a 2-D array with a single row if you really want to specify the same RGB or RGBA value for all points.\n",
      "'c' argument looks like a single numeric RGB or RGBA sequence, which should be avoided as value-mapping will have precedence in case its length matches with 'x' & 'y'.  Please use a 2-D array with a single row if you really want to specify the same RGB or RGBA value for all points.\n",
      "'c' argument looks like a single numeric RGB or RGBA sequence, which should be avoided as value-mapping will have precedence in case its length matches with 'x' & 'y'.  Please use a 2-D array with a single row if you really want to specify the same RGB or RGBA value for all points.\n",
      "'c' argument looks like a single numeric RGB or RGBA sequence, which should be avoided as value-mapping will have precedence in case its length matches with 'x' & 'y'.  Please use a 2-D array with a single row if you really want to specify the same RGB or RGBA value for all points.\n"
     ]
    },
    {
     "data": {
      "text/plain": [
       "<matplotlib.axes._subplots.AxesSubplot at 0x246ee5610>"
      ]
     },
     "execution_count": 19,
     "metadata": {},
     "output_type": "execute_result"
    },
    {
     "data": {
      "image/png": "[encoded data removed]",
      "text/plain": [
       "<Figure size 1008x720 with 1 Axes>"
      ]
     },
     "metadata": {},
     "output_type": "display_data"
    }
   ],
   "source": [
    "# Use UMAP to visualize topic clusters in two dimensional space\n",
    "docs = nmf_T\n",
    "labels = nmf_df['topic']\n",
    "\n",
    "# Instantiate the text visualizer\n",
    "umap = UMAPVisualizer(metric='euclidean')\n",
    "umap.fit(docs, labels)\n",
    "umap.show(outpath='/Users/AuerPower/Metis/git/steel-man/outputs/topic-cluster2.svg')"
   ]
  },
  {
   "cell_type": "markdown",
   "metadata": {},
   "source": [
    "## Clustering with K-means"
   ]
  },
  {
   "cell_type": "markdown",
   "metadata": {},
   "source": [
    "K-means allows me to include a mix of topics in cluster. Just taking the maximum value of a topic matrix could be assigning a topic that is actually really close to another topic, which would be potentially excluding relevant articles from the recommender system. "
   ]
  },
  {
   "cell_type": "code",
   "execution_count": 20,
   "metadata": {
    "ExecuteTime": {
     "end_time": "2020-02-28T18:24:43.956751Z",
     "start_time": "2020-02-28T18:24:40.224920Z"
    }
   },
   "outputs": [
    {
     "name": "stderr",
     "output_type": "stream",
     "text": [
      "'c' argument looks like a single numeric RGB or RGBA sequence, which should be avoided as value-mapping will have precedence in case its length matches with 'x' & 'y'.  Please use a 2-D array with a single row if you really want to specify the same RGB or RGBA value for all points.\n",
      "'c' argument looks like a single numeric RGB or RGBA sequence, which should be avoided as value-mapping will have precedence in case its length matches with 'x' & 'y'.  Please use a 2-D array with a single row if you really want to specify the same RGB or RGBA value for all points.\n",
      "'c' argument looks like a single numeric RGB or RGBA sequence, which should be avoided as value-mapping will have precedence in case its length matches with 'x' & 'y'.  Please use a 2-D array with a single row if you really want to specify the same RGB or RGBA value for all points.\n",
      "'c' argument looks like a single numeric RGB or RGBA sequence, which should be avoided as value-mapping will have precedence in case its length matches with 'x' & 'y'.  Please use a 2-D array with a single row if you really want to specify the same RGB or RGBA value for all points.\n",
      "'c' argument looks like a single numeric RGB or RGBA sequence, which should be avoided as value-mapping will have precedence in case its length matches with 'x' & 'y'.  Please use a 2-D array with a single row if you really want to specify the same RGB or RGBA value for all points.\n",
      "'c' argument looks like a single numeric RGB or RGBA sequence, which should be avoided as value-mapping will have precedence in case its length matches with 'x' & 'y'.  Please use a 2-D array with a single row if you really want to specify the same RGB or RGBA value for all points.\n",
      "'c' argument looks like a single numeric RGB or RGBA sequence, which should be avoided as value-mapping will have precedence in case its length matches with 'x' & 'y'.  Please use a 2-D array with a single row if you really want to specify the same RGB or RGBA value for all points.\n",
      "'c' argument looks like a single numeric RGB or RGBA sequence, which should be avoided as value-mapping will have precedence in case its length matches with 'x' & 'y'.  Please use a 2-D array with a single row if you really want to specify the same RGB or RGBA value for all points.\n",
      "'c' argument looks like a single numeric RGB or RGBA sequence, which should be avoided as value-mapping will have precedence in case its length matches with 'x' & 'y'.  Please use a 2-D array with a single row if you really want to specify the same RGB or RGBA value for all points.\n",
      "'c' argument looks like a single numeric RGB or RGBA sequence, which should be avoided as value-mapping will have precedence in case its length matches with 'x' & 'y'.  Please use a 2-D array with a single row if you really want to specify the same RGB or RGBA value for all points.\n"
     ]
    },
    {
     "data": {
      "text/plain": [
       "<matplotlib.axes._subplots.AxesSubplot at 0x243d2de50>"
      ]
     },
     "execution_count": 20,
     "metadata": {},
     "output_type": "execute_result"
    },
    {
     "data": {
      "image/png": "[encoded data removed]",
      "text/plain": [
       "<Figure size 1008x720 with 1 Axes>"
      ]
     },
     "metadata": {},
     "output_type": "display_data"
    }
   ],
   "source": [
    "from sklearn.cluster import KMeans\n",
    "from sklearn.feature_extraction.text import TfidfVectorizer\n",
    "from yellowbrick.text import UMAPVisualizer\n",
    "import warnings\n",
    "with warnings.catch_warnings():\n",
    "    warnings.simplefilter('ignore')\n",
    "\n",
    "# Load the text data\n",
    "docs = nmf_T\n",
    "\n",
    "# Instantiate the clustering model\n",
    "clusters = KMeans(n_clusters=10, n_jobs = -1, random_state = 42)\n",
    "clusters.fit(docs)\n",
    "\n",
    "umap = UMAPVisualizer() \n",
    "umap.fit(docs, [\"c{}\".format(c) for c in clusters.labels_])\n",
    "umap.show(outpath='/Users/AuerPower/Metis/git/steel-man/outputs/kmeans-cluster2.svg')\n",
    "#umap.save(, format='svg', transparent=True)"
   ]
  },
  {
   "cell_type": "code",
   "execution_count": 21,
   "metadata": {
    "ExecuteTime": {
     "end_time": "2020-02-28T18:26:41.584590Z",
     "start_time": "2020-02-28T18:26:41.573266Z"
    }
   },
   "outputs": [
    {
     "data": {
      "text/html": [
       "<div>\n",
       "<style scoped>\n",
       "    .dataframe tbody tr th:only-of-type {\n",
       "        vertical-align: middle;\n",
       "    }\n",
       "\n",
       "    .dataframe tbody tr th {\n",
       "        vertical-align: top;\n",
       "    }\n",
       "\n",
       "    .dataframe thead th {\n",
       "        text-align: right;\n",
       "    }\n",
       "</style>\n",
       "<table border=\"1\" class=\"dataframe\">\n",
       "  <thead>\n",
       "    <tr style=\"text-align: right;\">\n",
       "      <th></th>\n",
       "      <th>headline</th>\n",
       "      <th>snippet</th>\n",
       "      <th>topic</th>\n",
       "      <th>cluster</th>\n",
       "    </tr>\n",
       "  </thead>\n",
       "  <tbody>\n",
       "    <tr>\n",
       "      <th>0</th>\n",
       "      <td>The Racism at the Heart of Trump’s ‘Travel Ban’</td>\n",
       "      <td>Adding Nigeria to the expanded list of exclude...</td>\n",
       "      <td>Identity</td>\n",
       "      <td>7</td>\n",
       "    </tr>\n",
       "    <tr>\n",
       "      <th>1</th>\n",
       "      <td>The Government Uses ‘Near Perfect Surveillance...</td>\n",
       "      <td>Congressional hearings are urgently needed to ...</td>\n",
       "      <td>Law</td>\n",
       "      <td>0</td>\n",
       "    </tr>\n",
       "    <tr>\n",
       "      <th>2</th>\n",
       "      <td>Are You in a Gang Database?</td>\n",
       "      <td>The bar for being labeled a gang member is low...</td>\n",
       "      <td>Enforcement</td>\n",
       "      <td>5</td>\n",
       "    </tr>\n",
       "    <tr>\n",
       "      <th>3</th>\n",
       "      <td>I’m a Liberal Who Thinks Immigration Must Be R...</td>\n",
       "      <td>Immigration can invigorate the country. But wh...</td>\n",
       "      <td>Labor</td>\n",
       "      <td>9</td>\n",
       "    </tr>\n",
       "    <tr>\n",
       "      <th>4</th>\n",
       "      <td>Starving for Justice in ICE Detention</td>\n",
       "      <td>For immigrants languishing behind bars, a hung...</td>\n",
       "      <td>Refugees</td>\n",
       "      <td>1</td>\n",
       "    </tr>\n",
       "  </tbody>\n",
       "</table>\n",
       "</div>"
      ],
      "text/plain": [
       "                                            headline  \\\n",
       "0    The Racism at the Heart of Trump’s ‘Travel Ban’   \n",
       "1  The Government Uses ‘Near Perfect Surveillance...   \n",
       "2                        Are You in a Gang Database?   \n",
       "3  I’m a Liberal Who Thinks Immigration Must Be R...   \n",
       "4              Starving for Justice in ICE Detention   \n",
       "\n",
       "                                             snippet        topic  cluster  \n",
       "0  Adding Nigeria to the expanded list of exclude...     Identity        7  \n",
       "1  Congressional hearings are urgently needed to ...          Law        0  \n",
       "2  The bar for being labeled a gang member is low...  Enforcement        5  \n",
       "3  Immigration can invigorate the country. But wh...        Labor        9  \n",
       "4  For immigrants languishing behind bars, a hung...     Refugees        1  "
      ]
     },
     "execution_count": 21,
     "metadata": {},
     "output_type": "execute_result"
    }
   ],
   "source": [
    "# Create data frame to which topic ended up in which clusters\n",
    "cluster_df = pd.DataFrame.from_dict({'headline':text_df['headline'],\n",
    "                                     'snippet':text_df['snippet'],\n",
    "                                     'topic':text_df['topic'], \n",
    "                                     'cluster':clusters.labels_})\n",
    "cluster_df.head()"
   ]
  },
  {
   "cell_type": "code",
   "execution_count": 22,
   "metadata": {
    "ExecuteTime": {
     "end_time": "2020-02-28T18:26:46.220370Z",
     "start_time": "2020-02-28T18:26:45.939500Z"
    }
   },
   "outputs": [],
   "source": [
    "# plot the topics within each cluster\n",
    "# Export this table as csv and use tableau to create a stacked bar chart\n",
    "cluster_df.to_csv('/Users/AuerPower/Metis/git/steel-man/outputs/cluster_df.csv')"
   ]
  },
  {
   "cell_type": "markdown",
   "metadata": {
    "ExecuteTime": {
     "end_time": "2020-02-26T22:26:00.529463Z",
     "start_time": "2020-02-26T22:26:00.527300Z"
    }
   },
   "source": [
    "## Recommender system\n",
    "I tried threes different types of recommendation systems\n",
    "1. Cosine similarity and kmeans clustering\n",
    "2. Cosine similarity and NMF \n",
    "3. cosine simlarity between documents"
   ]
  },
  {
   "cell_type": "markdown",
   "metadata": {
    "ExecuteTime": {
     "end_time": "2020-02-28T06:19:08.356708Z",
     "start_time": "2020-02-28T06:19:08.354634Z"
    }
   },
   "source": [
    "#### K-means cosine recommender system"
   ]
  },
  {
   "cell_type": "code",
   "execution_count": 23,
   "metadata": {
    "ExecuteTime": {
     "end_time": "2020-02-28T18:26:54.845985Z",
     "start_time": "2020-02-28T18:26:54.839049Z"
    }
   },
   "outputs": [],
   "source": [
    "# Create cluster matrix\n",
    "cluster_matrix = clusters.transform(docs)"
   ]
  },
  {
   "cell_type": "code",
   "execution_count": 24,
   "metadata": {
    "ExecuteTime": {
     "end_time": "2020-02-28T18:26:55.554701Z",
     "start_time": "2020-02-28T18:26:55.541059Z"
    }
   },
   "outputs": [
    {
     "data": {
      "text/html": [
       "<div>\n",
       "<style scoped>\n",
       "    .dataframe tbody tr th:only-of-type {\n",
       "        vertical-align: middle;\n",
       "    }\n",
       "\n",
       "    .dataframe tbody tr th {\n",
       "        vertical-align: top;\n",
       "    }\n",
       "\n",
       "    .dataframe thead th {\n",
       "        text-align: right;\n",
       "    }\n",
       "</style>\n",
       "<table border=\"1\" class=\"dataframe\">\n",
       "  <thead>\n",
       "    <tr style=\"text-align: right;\">\n",
       "      <th></th>\n",
       "      <th>0</th>\n",
       "      <th>1</th>\n",
       "      <th>2</th>\n",
       "      <th>3</th>\n",
       "      <th>4</th>\n",
       "      <th>5</th>\n",
       "      <th>6</th>\n",
       "      <th>7</th>\n",
       "      <th>8</th>\n",
       "      <th>9</th>\n",
       "      <th>cluster</th>\n",
       "    </tr>\n",
       "  </thead>\n",
       "  <tbody>\n",
       "    <tr>\n",
       "      <th>0</th>\n",
       "      <td>0.106000</td>\n",
       "      <td>0.145117</td>\n",
       "      <td>0.119623</td>\n",
       "      <td>0.081870</td>\n",
       "      <td>0.126665</td>\n",
       "      <td>0.153568</td>\n",
       "      <td>0.151435</td>\n",
       "      <td>0.079477</td>\n",
       "      <td>0.131666</td>\n",
       "      <td>0.114844</td>\n",
       "      <td>7</td>\n",
       "    </tr>\n",
       "    <tr>\n",
       "      <th>1</th>\n",
       "      <td>0.050953</td>\n",
       "      <td>0.129131</td>\n",
       "      <td>0.136550</td>\n",
       "      <td>0.100705</td>\n",
       "      <td>0.131016</td>\n",
       "      <td>0.131686</td>\n",
       "      <td>0.144963</td>\n",
       "      <td>0.147169</td>\n",
       "      <td>0.130239</td>\n",
       "      <td>0.127600</td>\n",
       "      <td>0</td>\n",
       "    </tr>\n",
       "    <tr>\n",
       "      <th>2</th>\n",
       "      <td>0.136179</td>\n",
       "      <td>0.135408</td>\n",
       "      <td>0.132979</td>\n",
       "      <td>0.119858</td>\n",
       "      <td>0.165606</td>\n",
       "      <td>0.051504</td>\n",
       "      <td>0.145490</td>\n",
       "      <td>0.160964</td>\n",
       "      <td>0.152944</td>\n",
       "      <td>0.152814</td>\n",
       "      <td>5</td>\n",
       "    </tr>\n",
       "    <tr>\n",
       "      <th>3</th>\n",
       "      <td>0.166461</td>\n",
       "      <td>0.155586</td>\n",
       "      <td>0.135290</td>\n",
       "      <td>0.085815</td>\n",
       "      <td>0.129152</td>\n",
       "      <td>0.122701</td>\n",
       "      <td>0.156899</td>\n",
       "      <td>0.140929</td>\n",
       "      <td>0.118223</td>\n",
       "      <td>0.081421</td>\n",
       "      <td>9</td>\n",
       "    </tr>\n",
       "    <tr>\n",
       "      <th>4</th>\n",
       "      <td>0.143841</td>\n",
       "      <td>0.055000</td>\n",
       "      <td>0.169384</td>\n",
       "      <td>0.132960</td>\n",
       "      <td>0.164104</td>\n",
       "      <td>0.151782</td>\n",
       "      <td>0.179387</td>\n",
       "      <td>0.168196</td>\n",
       "      <td>0.165475</td>\n",
       "      <td>0.165253</td>\n",
       "      <td>1</td>\n",
       "    </tr>\n",
       "  </tbody>\n",
       "</table>\n",
       "</div>"
      ],
      "text/plain": [
       "          0         1         2         3         4         5         6  \\\n",
       "0  0.106000  0.145117  0.119623  0.081870  0.126665  0.153568  0.151435   \n",
       "1  0.050953  0.129131  0.136550  0.100705  0.131016  0.131686  0.144963   \n",
       "2  0.136179  0.135408  0.132979  0.119858  0.165606  0.051504  0.145490   \n",
       "3  0.166461  0.155586  0.135290  0.085815  0.129152  0.122701  0.156899   \n",
       "4  0.143841  0.055000  0.169384  0.132960  0.164104  0.151782  0.179387   \n",
       "\n",
       "          7         8         9  cluster  \n",
       "0  0.079477  0.131666  0.114844        7  \n",
       "1  0.147169  0.130239  0.127600        0  \n",
       "2  0.160964  0.152944  0.152814        5  \n",
       "3  0.140929  0.118223  0.081421        9  \n",
       "4  0.168196  0.165475  0.165253        1  "
      ]
     },
     "execution_count": 24,
     "metadata": {},
     "output_type": "execute_result"
    }
   ],
   "source": [
    "cluster_matrix_df = pd.DataFrame(cluster_matrix)\n",
    "cluster_matrix_df['cluster'] = clusters.labels_\n",
    "cluster_matrix_df.head()"
   ]
  },
  {
   "cell_type": "code",
   "execution_count": 25,
   "metadata": {
    "ExecuteTime": {
     "end_time": "2020-02-28T18:26:57.526081Z",
     "start_time": "2020-02-28T18:26:57.523274Z"
    }
   },
   "outputs": [],
   "source": [
    "indices = pd.Series(text_df['headline'])"
   ]
  },
  {
   "cell_type": "code",
   "execution_count": 26,
   "metadata": {
    "ExecuteTime": {
     "end_time": "2020-02-28T18:26:58.983918Z",
     "start_time": "2020-02-28T18:26:58.978534Z"
    }
   },
   "outputs": [],
   "source": [
    "# recommender by cosine similarity within cluster\n",
    "def recommend_kmeans(headline):\n",
    "    recommended_steelmen = []\n",
    "    # get index of the article headline\n",
    "    idx = indices[indices == headline].index[0]\n",
    "    # get topic of article\n",
    "    topic_of_article = cluster_matrix_df.cluster[idx]\n",
    "    # get all articles of the same topic and drop topic column\n",
    "    topic_set = cluster_matrix_df[cluster_matrix_df.cluster == topic_of_article].drop('cluster', axis=1)\n",
    "    # calculate cosine similarity on data frame and select array for article\n",
    "    cosine_calc = cosine_similarity(topic_set)\n",
    "    # sort values\n",
    "    score_series = pd.Series(cosine_calc[0]).sort_values(ascending = True) # this is returning in order of least similar\n",
    "    top_10_indices = list(score_series.iloc[1:11].index)\n",
    "    \n",
    "    for i in top_10_indices:\n",
    "        #recommended_steelmen.append(list(cluster_df['headline'], cluster_df['snippet'])[i])\n",
    "        recommended_steelmen.append([cluster_df['headline'][i], cluster_df['snippet'][i]])\n",
    "        \n",
    "    return recommended_steelmen"
   ]
  },
  {
   "cell_type": "code",
   "execution_count": 27,
   "metadata": {
    "ExecuteTime": {
     "end_time": "2020-02-28T18:27:03.166958Z",
     "start_time": "2020-02-28T18:27:03.157796Z"
    }
   },
   "outputs": [
    {
     "data": {
      "text/plain": [
       "[['A Few Simple Truths on Immigration',\n",
       "  'Careful examination of the facts undermines the claims of Donald Trump and his allies.'],\n",
       " ['God Bless America, and Her Lawyers',\n",
       "  '‘It’s like someone is running around sticking their finger in people’s eyes and I’m an eye doctor.’'],\n",
       " ['On Immigration, the Democrats Are Playing Into Trump’s Hands',\n",
       "  'Rather than present tough choices and coherent ideas, they are mostly responding to his outrages with empty rhetoric.'],\n",
       " ['Fixing Immigration From the Ground Up',\n",
       "  'As Washington keeps failing on immigration reform, hopefuls can look to California for an enlightened example.'],\n",
       " ['Mrs. Clinton’s Mixed Immigration Message',\n",
       "  'Showing full support for a bill that would ensure legal support for children at the border would help to clarify the candidate’s view.'],\n",
       " ['The Injustice of This Moment Is Not an ‘Aberration’',\n",
       "  'From mass incarceration to mass deportation, our nation remains in deep denial.'],\n",
       " ['Readers: Join a Conversation About Immigration',\n",
       "  'Our policymakers have been at an impasse. Can you do better?'],\n",
       " ['Time to Strengthen Family Immigration',\n",
       "  'Reuniting loved ones will bolster communities and the economy, as it always has.'],\n",
       " ['The Great Immigration Panic',\n",
       "  'The evidence is all around that something pragmatic and welcoming at the American core has been eclipsed, or is slipping away.'],\n",
       " ['The Trump Administration Is Creating a Health Nightmare Near the Border',\n",
       "  'The failure to provide flu vaccines to detained migrants is a recipe for disaster.']]"
      ]
     },
     "execution_count": 27,
     "metadata": {},
     "output_type": "execute_result"
    }
   ],
   "source": [
    "recommend_kmeans('Slouching Toward Eurabia?')"
   ]
  },
  {
   "cell_type": "markdown",
   "metadata": {
    "ExecuteTime": {
     "end_time": "2020-02-28T06:19:42.250107Z",
     "start_time": "2020-02-28T06:19:42.248052Z"
    }
   },
   "source": [
    "#### NMF and cosine similarity recommender system"
   ]
  },
  {
   "cell_type": "code",
   "execution_count": 97,
   "metadata": {
    "ExecuteTime": {
     "end_time": "2020-02-28T08:19:15.593817Z",
     "start_time": "2020-02-28T08:19:15.588123Z"
    }
   },
   "outputs": [],
   "source": [
    "# recommender by cosine similarity within topic\n",
    "def recommend(headline):\n",
    "    recommended_steelmen = []\n",
    "    # get index of the article headline\n",
    "    idx = indices[indices == headline].index[0]\n",
    "    # get topic of article\n",
    "    topic_of_article = nmf_df.topic[idx]\n",
    "    # get all articles of the same topic and drop topic column\n",
    "    topic_set = nmf_df[nmf_df.topic == topic_of_article].drop('topic', axis=1)\n",
    "    # calculate cosine similarity on data frame and select array for article\n",
    "    cosine_calc = cosine_similarity(topic_set)\n",
    "    # sort values\n",
    "    score_series = pd.Series(cosine_calc[0]).sort_values(ascending = True) # this is returning in order of least similar\n",
    "    top_10_indices = list(score_series.iloc[1:11].index)\n",
    "    \n",
    "    for i in top_10_indices:\n",
    "        #recommended_steelmen.append(list(text_df['headline'])[i])\n",
    "        recommended_steelmen.append([text_df['headline'][i], text_df['snippet'][i]])\n",
    "        \n",
    "    return recommended_steelmen\n",
    "\n",
    "#biggest_topic_set = nmf_df[nmf_df.topic_y == biggest_topic]\n",
    "#cosine_sim = cosine_similarity(nmf_T[biggest_topic_set.index])"
   ]
  },
  {
   "cell_type": "code",
   "execution_count": 117,
   "metadata": {
    "ExecuteTime": {
     "end_time": "2020-02-28T08:33:53.550559Z",
     "start_time": "2020-02-28T08:33:53.541570Z"
    }
   },
   "outputs": [
    {
     "data": {
      "text/plain": [
       "[['Britain’s Flawed Immigration Strategy',\n",
       "  'Warnings that Britain will be overrun are exaggerated and counterproductive.'],\n",
       " ['A Cool Head on Immigration',\n",
       "  'Gov. Janet Napolitano of Arizona would be a solid choice for homeland security secretary. She has a strong understanding of immigration and its political traps.'],\n",
       " ['Immigration and the Elections',\n",
       "  'David Shipley, the Op-Ed editor, speaks with Lawrence Downes, an editorial writer, about the immigration issues that have played out in this election cycle.'],\n",
       " ['Meet Memo, the Marie Kondo of Fitness',\n",
       "  'In a cluttered world of boutique fitness studios and high-end gear, Guillermo Piñeda Morales reminds us that we don’t need much to be our best.'],\n",
       " ['I’m a Liberal Who Thinks Immigration Must Be Restricted',\n",
       "  'Immigration can invigorate the country. But when it is poorly managed, it can cause social division — just as it’s doing right now.'],\n",
       " ['The Immigration Bill Presses On',\n",
       "  'After two weeks of markup, the fundamental support for immigration reform looks strong.'],\n",
       " ['How to Beat Trump on Immigration',\n",
       "  'A generous vision of a multicultural world.'],\n",
       " ['The Next Immigration Challenge',\n",
       "  'We must shift from an immigration policy of keeping newcomers out to an immigrant policy of encouraging migrants and their children to integrate into our social fabric.'],\n",
       " ['Here’s a Way Forward on Facial Recognition',\n",
       "  'The police should be able to use it, but in a very limited way.'],\n",
       " ['A Musical Plea for Immigration Reform',\n",
       "  'In a recent music video, Los Jornaleros del Norte offer a reminder of the toll detention and deportation can take on families.']]"
      ]
     },
     "execution_count": 117,
     "metadata": {},
     "output_type": "execute_result"
    }
   ],
   "source": [
    "recommend('Slouching Toward Eurabia?')"
   ]
  },
  {
   "cell_type": "markdown",
   "metadata": {},
   "source": [
    "#### recommender by cosine similarity only"
   ]
  },
  {
   "cell_type": "code",
   "execution_count": 61,
   "metadata": {
    "ExecuteTime": {
     "end_time": "2020-02-28T07:16:00.839057Z",
     "start_time": "2020-02-28T07:16:00.817491Z"
    }
   },
   "outputs": [],
   "source": [
    "cosine_sim = cosine_similarity(nmf_T)"
   ]
  },
  {
   "cell_type": "code",
   "execution_count": 62,
   "metadata": {
    "ExecuteTime": {
     "end_time": "2020-02-28T07:16:02.254903Z",
     "start_time": "2020-02-28T07:16:02.250652Z"
    }
   },
   "outputs": [],
   "source": [
    "# recommender by cosine similarity only\n",
    "def recommend2(headline, cosine_sim = cosine_sim):\n",
    "    recommended_steelmen = []\n",
    "    idx = indices[indices == headline].index[0]\n",
    "    score_series = pd.Series(cosine_sim[idx]).sort_values(ascending = True) # this is returning in order of least similar\n",
    "    top_10_indices = list(score_series.iloc[0:10].index)\n",
    "    \n",
    "    for i in top_10_indices:\n",
    "        recommended_steelmen.append(list(text_df['headline'])[i])\n",
    "        \n",
    "    return recommended_steelmen"
   ]
  },
  {
   "cell_type": "code",
   "execution_count": 64,
   "metadata": {
    "ExecuteTime": {
     "end_time": "2020-02-28T07:17:20.959834Z",
     "start_time": "2020-02-28T07:17:20.952710Z"
    }
   },
   "outputs": [
    {
     "data": {
      "text/plain": [
       "['The Retro Futurism of Marco Rubio',\n",
       " 'Pulling Back the Immigration Posses',\n",
       " 'Jeb Bush Openly Runs for President, Finally',\n",
       " 'Praise for Bush’s Treasury Choice',\n",
       " 'Could Ted Cruz Win?',\n",
       " 'Donald Trump Is Focus of Attacks in the Republican Debate',\n",
       " 'Could Donald Trump Be Good for Republicans?',\n",
       " 'Georgia Republicans Know Exactly Who’s at Fault for Gridlock',\n",
       " 'California’s Trust Act',\n",
       " 'Confusion Over Secure Communities']"
      ]
     },
     "execution_count": 64,
     "metadata": {},
     "output_type": "execute_result"
    }
   ],
   "source": [
    "recommend2('The Racism at the Heart of Trump’s ‘Travel Ban’')"
   ]
  }
 ],
 "metadata": {
  "kernelspec": {
   "display_name": "Python [conda env:metis] *",
   "language": "python",
   "name": "conda-env-metis-py"
  },
  "language_info": {
   "codemirror_mode": {
    "name": "ipython",
    "version": 3
   },
   "file_extension": ".py",
   "mimetype": "text/x-python",
   "name": "python",
   "nbconvert_exporter": "python",
   "pygments_lexer": "ipython3",
   "version": "3.7.4"
  }
 },
 "nbformat": 4,
 "nbformat_minor": 2
}
