{
 "cells": [
  {
   "cell_type": "code",
   "execution_count": 1,
   "metadata": {
    "ExecuteTime": {
     "end_time": "2020-02-28T03:20:42.205106Z",
     "start_time": "2020-02-28T03:20:40.010081Z"
    }
   },
   "outputs": [
    {
     "name": "stderr",
     "output_type": "stream",
     "text": [
      "/Users/AuerPower/opt/miniconda3/envs/metis/lib/python3.7/site-packages/sklearn/utils/deprecation.py:144: FutureWarning: The sklearn.metrics.classification module is  deprecated in version 0.22 and will be removed in version 0.24. The corresponding classes / functions should instead be imported from sklearn.metrics. Anything that cannot be imported from sklearn.metrics is now part of the private API.\n",
      "  warnings.warn(message, FutureWarning)\n"
     ]
    }
   ],
   "source": [
    "import re\n",
    "import pandas as pd\n",
    "from sklearn.feature_extraction.text import CountVectorizer \n",
    "from sklearn.decomposition import TruncatedSVD\n",
    "from sklearn.decomposition import NMF\n",
    "from sklearn.metrics.pairwise import cosine_similarity\n",
    "import nltk\n",
    "from nltk.corpus import stopwords\n",
    "from nltk.tokenize import sent_tokenize, word_tokenize\n",
    "from nltk.stem import PorterStemmer\n",
    "from nltk.stem import WordNetLemmatizer\n",
    "from yellowbrick.text import TSNEVisualizer,UMAPVisualizer\n",
    "from sklearn.feature_extraction.text import TfidfVectorizer,CountVectorizer"
   ]
  },
  {
   "cell_type": "code",
   "execution_count": 2,
   "metadata": {
    "ExecuteTime": {
     "end_time": "2020-02-28T03:20:42.262101Z",
     "start_time": "2020-02-28T03:20:42.259765Z"
    }
   },
   "outputs": [],
   "source": [
    "import warnings\n",
    "#warnings.filterwarnings(action='once')\n",
    "warnings.filterwarnings('ignore')"
   ]
  },
  {
   "cell_type": "code",
   "execution_count": null,
   "metadata": {
    "ExecuteTime": {
     "end_time": "2020-02-25T22:58:34.546557Z",
     "start_time": "2020-02-25T22:58:30.011018Z"
    }
   },
   "outputs": [],
   "source": [
    "# nltk.download('stopwords')\n",
    "# nltk.download('wordnet')"
   ]
  },
  {
   "cell_type": "markdown",
   "metadata": {
    "ExecuteTime": {
     "end_time": "2020-02-24T02:47:27.775432Z",
     "start_time": "2020-02-24T02:47:27.773387Z"
    }
   },
   "source": [
    "## Pre-Processing text data"
   ]
  },
  {
   "cell_type": "code",
   "execution_count": 3,
   "metadata": {
    "ExecuteTime": {
     "end_time": "2020-02-28T03:20:45.811698Z",
     "start_time": "2020-02-28T03:20:45.805520Z"
    }
   },
   "outputs": [],
   "source": [
    "def preprocess(raw_text):\n",
    "    \n",
    "    # tokenize words\n",
    "    tokenized_words = word_tokenize(raw_text)\n",
    "\n",
    "    # keep only words - remove punctuation\n",
    "    letters_only_text = [re.sub(\"[^a-zA-Z]\", \" \", text) for text in tokenized_words]\n",
    "\n",
    "    # convert to lower case \n",
    "    words = [word.lower() for word in letters_only_text]\n",
    "\n",
    "    # remove stopwords + useless words\n",
    "    stopword_set = set(stopwords.words(\"english\") + ['immigration'] + ['immigrants'])\n",
    "    cleaned_words = list(set([w for w in words if w not in stopword_set]))\n",
    "    \n",
    "    # remove blank spaces from list\n",
    "    cleaned_words = [re.sub(\" \", \"\", text) for text in cleaned_words]\n",
    "    cleaned_words = list(filter(None, cleaned_words))\n",
    "    \n",
    "    # Stem/lemmitize words\n",
    "    #porter=PorterStemmer()\n",
    "    #stemmed_words = [porter.stem(word) for word in cleaned_words]\n",
    "    lemmatizer = WordNetLemmatizer()\n",
    "    lemmitized_words = [lemmatizer.lemmatize(word) for word in cleaned_words]\n",
    "    \n",
    "    # put list of words back into a corpus doc\n",
    "    cleaned_corpus = ' '.join(word for word in lemmitized_words)\n",
    "\n",
    "    return cleaned_corpus"
   ]
  },
  {
   "cell_type": "code",
   "execution_count": 4,
   "metadata": {
    "ExecuteTime": {
     "end_time": "2020-02-28T03:20:48.427597Z",
     "start_time": "2020-02-28T03:20:48.320316Z"
    }
   },
   "outputs": [],
   "source": [
    "# Load data\n",
    "article_df = pd.read_csv('data/immigration_2000.csv')\n",
    "article_df['index'] = list(range(0,2000))\n",
    "\n",
    "text_df = pd.read_csv('data/article_text/df_text_1892.csv', index_col=[0])\n",
    "\n",
    "#article_df.tail()"
   ]
  },
  {
   "cell_type": "code",
   "execution_count": 5,
   "metadata": {
    "ExecuteTime": {
     "end_time": "2020-02-28T03:20:50.798775Z",
     "start_time": "2020-02-28T03:20:50.789655Z"
    }
   },
   "outputs": [],
   "source": [
    "# Merge data\n",
    "text_df = text_df.merge(article_df, left_index=True, right_index=True, how='left')\n",
    "text_df = text_df.reset_index()"
   ]
  },
  {
   "cell_type": "code",
   "execution_count": 6,
   "metadata": {
    "ExecuteTime": {
     "end_time": "2020-02-28T03:21:06.092417Z",
     "start_time": "2020-02-28T03:20:52.705673Z"
    }
   },
   "outputs": [],
   "source": [
    "text_df['all_text'] = [preprocess(row) for row in text_df['all_text']]"
   ]
  },
  {
   "cell_type": "code",
   "execution_count": 7,
   "metadata": {
    "ExecuteTime": {
     "end_time": "2020-02-28T03:21:07.404047Z",
     "start_time": "2020-02-28T03:21:07.398906Z"
    }
   },
   "outputs": [
    {
     "data": {
      "text/plain": [
       "'including behavior next immigration region billion could entry preferred discounted educational friday everdeveloping reported society famously first every reportedly impulse statement hardliner excised implicated environment reconstitute make income revised united bottom obvious continent tanzania amount free hierarchy democratic much bit member mulatto saw deal african established national attempt risk ngai law intends element evidence struggled operation nativist black elevation southeast granted group negro ineligible illegality act president racialization offlimits basis benefit percountry kidnapping banned mass foreignness elevated several subtracted economy worked ignorant farreaching population cato continues vision attainment setting heart seven citing public pending articulate terrorist legal new government europe american nigerian early said aid american court people european stratify security limit written th barred number matter libertarian america actually shithole type million total permanent become coronavirus large way emergency cast external racism racialize door policy decision historian century home joint trump kyrgyzstan term stage attack known say remark racial codified impeachment soil odd southern around immigrant slave certainly memo hysteria house according complained difference worth haiti asiapacific followed stephen one race islamist fresh decade nonwhites presidential noneuropean receives enter foreign announced fit dozen vector visit percentage group separate nation original japanese year analysis predominantly supreme multiple favor eritrea using citizenship larger meeting almost resurrect exclusion voice swamped list haram distribute restriction others harshest travel official cabinet voluntary south join worried never signal asia nigerian york administration asian adding happening think native matter threat boundary terrorist loophole hut little chance concern state myanmar ban visitor consequence arrival black nonwhite surpassing quota meant hand military well reduce eliding found nativeborn notion also history make institute welcome imposed came successful raged nigeria terrorism among test whiteness largest chief long attack writes slaughter system boko making population country application white defined deserves birth time nation still literacy muslim time respect mae person channeling residence internal would country excluded responsible expanded people eastern want explicitly thousand representation descendant africa tourist central called although sudan johnsonreed consciousness version racist go miller sends given chinese slammed blessing back'"
      ]
     },
     "execution_count": 7,
     "metadata": {},
     "output_type": "execute_result"
    }
   ],
   "source": [
    "text_df['all_text'][0]"
   ]
  },
  {
   "cell_type": "code",
   "execution_count": 8,
   "metadata": {
    "ExecuteTime": {
     "end_time": "2020-02-28T03:21:10.794325Z",
     "start_time": "2020-02-28T03:21:10.791159Z"
    }
   },
   "outputs": [
    {
     "name": "stdout",
     "output_type": "stream",
     "text": [
      "number of articles in corpus: 1892\n"
     ]
    }
   ],
   "source": [
    "print(\"number of articles in corpus:\", text_df.shape[0])"
   ]
  },
  {
   "cell_type": "markdown",
   "metadata": {
    "heading_collapsed": true
   },
   "source": [
    "## Additional data cleaning to be ignored for now"
   ]
  },
  {
   "cell_type": "code",
   "execution_count": null,
   "metadata": {
    "ExecuteTime": {
     "end_time": "2020-02-25T05:05:12.243010Z",
     "start_time": "2020-02-25T05:05:12.238626Z"
    },
    "hidden": true
   },
   "outputs": [],
   "source": [
    "# Create column for editorial board or not\n",
    "text_df['editorial_board'] = [1 if row=='The Editorial Board' else 0 for row in text_df['byline']]\n",
    "#[x+1 if x >= 45 else x+5 for x in l]"
   ]
  },
  {
   "cell_type": "code",
   "execution_count": null,
   "metadata": {
    "ExecuteTime": {
     "end_time": "2020-02-25T05:05:14.079089Z",
     "start_time": "2020-02-25T05:05:12.991881Z"
    },
    "hidden": true
   },
   "outputs": [],
   "source": [
    "# Working with just the abstract, title, and lead paragraph\n",
    "article_df['text'] = article_df.abstract + \" \" + article_df.lead_paragraph + \" \" + article_df.headline\n",
    "# Search for all non-letters, Replace all non-letters with spaces\n",
    "\n",
    "article_df['text'] = [re.sub(\"[^a-zA-Z]\",  \" \", str(row)) for row in article_df['text']]\n",
    "article_df['text'] = [preprocess(row) for row in article_df['text']]\n",
    "article_df['text']"
   ]
  },
  {
   "cell_type": "markdown",
   "metadata": {
    "ExecuteTime": {
     "end_time": "2020-02-24T23:53:10.399184Z",
     "start_time": "2020-02-24T23:53:10.397071Z"
    },
    "heading_collapsed": true
   },
   "source": [
    "## Some EDA"
   ]
  },
  {
   "cell_type": "code",
   "execution_count": null,
   "metadata": {
    "ExecuteTime": {
     "end_time": "2020-02-28T03:04:47.770759Z",
     "start_time": "2020-02-28T03:04:47.767560Z"
    },
    "hidden": true
   },
   "outputs": [],
   "source": [
    "# data cleaning & simplifying\n",
    "#text_df['byline'] = text_df['byline'].replace({'By ':''}, regex=True)\n",
    "\n",
    "# remove no data\n",
    "#text_df = text_df.dropna(subset=['byline'])\n",
    "\n",
    "# Sometime there are multiple authors for an article - replace the first author for each article\n",
    "#text_df['byline'] = [row.split('and')[0] for row in text_df['byline']]\n",
    "\n",
    "print(\"number of articles in corpus:\", text_df.shape[0])"
   ]
  },
  {
   "cell_type": "code",
   "execution_count": null,
   "metadata": {
    "ExecuteTime": {
     "end_time": "2020-02-28T01:50:27.658664Z",
     "start_time": "2020-02-28T01:50:27.656537Z"
    },
    "hidden": true
   },
   "outputs": [],
   "source": [
    "## Which authors publish the most articles in our dataset?\n",
    "# authors_gby = text_df.groupby(['byline']).size()\n",
    "# authors_gby = authors_gby.sort_values(ascending=False)\n",
    "# authors_gby.head(20)\n",
    "#authors_gby.to_csv('data/author_article_count.csv')"
   ]
  },
  {
   "cell_type": "code",
   "execution_count": null,
   "metadata": {
    "ExecuteTime": {
     "end_time": "2020-02-28T03:04:52.559815Z",
     "start_time": "2020-02-28T03:04:52.539351Z"
    },
    "hidden": true
   },
   "outputs": [],
   "source": [
    "## What is the span of dates for our dataset? \n",
    "article_df['pub_date'] = pd.to_datetime(article_df['pub_date'])\n",
    "article_years = article_df.reset_index().set_index('pub_date').resample('Y').size()\n",
    "article_years"
   ]
  },
  {
   "cell_type": "code",
   "execution_count": null,
   "metadata": {
    "ExecuteTime": {
     "end_time": "2020-02-28T03:04:55.501646Z",
     "start_time": "2020-02-28T03:04:55.490840Z"
    },
    "hidden": true
   },
   "outputs": [],
   "source": [
    "text_df['pub_date'] = pd.to_datetime(text_df['pub_date'])\n",
    "text_df = text_df[text_df['pub_date'] > '2005-12-31 00:00:00+00:00']\n",
    "text_df.shape"
   ]
  },
  {
   "cell_type": "markdown",
   "metadata": {
    "hidden": true
   },
   "source": [
    "Articles go back really far. I might try to get more articles and cut it off to just the past 5 or 10 years."
   ]
  },
  {
   "cell_type": "markdown",
   "metadata": {
    "ExecuteTime": {
     "end_time": "2020-02-24T01:58:38.065258Z",
     "start_time": "2020-02-24T01:58:38.063128Z"
    }
   },
   "source": [
    "## Topic Modeling"
   ]
  },
  {
   "cell_type": "markdown",
   "metadata": {
    "ExecuteTime": {
     "end_time": "2020-02-25T21:49:27.860789Z",
     "start_time": "2020-02-25T21:49:27.857857Z"
    },
    "heading_collapsed": true
   },
   "source": [
    "#### TFIDF with LSA"
   ]
  },
  {
   "cell_type": "code",
   "execution_count": 142,
   "metadata": {
    "ExecuteTime": {
     "end_time": "2020-02-28T09:25:09.920494Z",
     "start_time": "2020-02-28T09:25:09.246860Z"
    },
    "hidden": true
   },
   "outputs": [
    {
     "name": "stdout",
     "output_type": "stream",
     "text": [
      "\n",
      "Topic  0\n",
      "year, state, american, country, law, republican, policy, right, time, make, family, border, president, people, million, mr, way, like, child, government, need, new, day, want, say, work, united, said, issue, come\n",
      "\n",
      "Topic  1\n",
      "court, deportation, law, enforcement, federal, criminal, judge, department, homeland, administration, officer, agency, custom, abuse, lawyer, agent, police, official, justice, crime, detention, local, security, case, arrest, legal, profiling, arizona, supreme, jail\n",
      "\n",
      "Topic  2\n",
      "refugee, migrant, life, family, mother, child, home, yearold, parent, father, story, asylum, day, friend, daughter, european, world, girl, violence, woman, europe, arrived, son, kid, fleeing, human, told, el, journey, born\n",
      "\n",
      "Topic  3\n",
      "worker, visa, reform, million, job, labor, employer, wage, pay, economy, comprehensive, path, card, work, citizenship, family, senate, billion, business, dream, workplace, shadow, temporary, bipartisan, senator, green, better, program, fix, mexico\n",
      "\n",
      "Topic  4\n",
      "european, europe, number, migrant, union, refugee, migration, economic, government, policy, increase, cost, minister, britain, benefit, economy, population, rate, crisis, employer, visa, percent, prime, worker, wage, problem, billion, foreign, france, international\n",
      "\n",
      "Topic  5\n",
      "police, local, community, crime, county, city, laborer, latino, profiling, sheriff, worker, racial, arizona, officer, arrest, european, crackdown, immigrant, paper, street, town, labor, neighborhood, raid, mayor, business, policing, job, arrested, traffic\n",
      "\n",
      "Topic  6\n",
      "supreme, court, school, decision, college, citizen, ruling, appeal, justice, resident, deferred, university, card, judge, application, status, executive, license, student, childhood, degree, education, circuit, case, permanent, born, statute, state, graduate, person\n",
      "\n",
      "Topic  7\n",
      "report, study, research, rate, custom, survey, center, wage, according, percentage, hispanic, percent, detention, increase, latino, number, data, level, crime, income, higher, health, community, pew, white, prison, detained, agent, care, jail\n",
      "\n",
      "Topic  8\n",
      "deportation, criminal, community, young, obama, deferred, action, student, dream, deporting, college, record, offender, dreamer, threat, focus, program, discretion, childhood, priority, noncriminals, president, minor, dragnet, arrival, school, unauthorized, society, daca, parent\n",
      "\n",
      "Topic  9\n",
      "mexican, mexico, arizona, border, american, fence, america, mile, wall, trump, state, population, supreme, illegal, drug, crossing, united, nation, latino, war, policy, alien, southern, donald, flow, hispanic, refugee, el, journey, century\n"
     ]
    }
   ],
   "source": [
    "#vectorizer = CountVectorizer(ngram_range=(1,3), stop_words='english')\n",
    "vectorizer=TfidfVectorizer(use_idf=True, stop_words='english')\n",
    "doc_word = vectorizer.fit_transform(text_df['all_text'])\n",
    "lsa = TruncatedSVD(10)\n",
    "doc_topic = lsa.fit_transform(doc_word)\n",
    "topic_word = pd.DataFrame(lsa.components_.round(3),\n",
    "             columns = vectorizer.get_feature_names())\n",
    "\n",
    "def display_topics(model, feature_names, no_top_words, topic_names=None):\n",
    "    for ix, topic in enumerate(model.components_):\n",
    "        if not topic_names or not topic_names[ix]:\n",
    "            print(\"\\nTopic \", ix)\n",
    "        else:\n",
    "            print(\"\\nTopic: '\",topic_names[ix],\"'\")\n",
    "        print(\", \".join([feature_names[i]\n",
    "                        for i in topic.argsort()[:-no_top_words - 1:-1]]))\n",
    "        \n",
    "display_topics(lsa, vectorizer.get_feature_names(), 30)"
   ]
  },
  {
   "cell_type": "markdown",
   "metadata": {},
   "source": [
    "#### TFIDF and NMF"
   ]
  },
  {
   "cell_type": "code",
   "execution_count": 9,
   "metadata": {
    "ExecuteTime": {
     "end_time": "2020-02-28T03:21:16.496017Z",
     "start_time": "2020-02-28T03:21:14.790835Z"
    },
    "scrolled": true
   },
   "outputs": [
    {
     "name": "stdout",
     "output_type": "stream",
     "text": [
      "Topic #0:\n",
      "liberal white voter conservative election view minority issue democrat race group party politics candidate democratic poll vote black survey progressive percentage point hispanic electorate majority question republican political shift identity\n",
      "\n",
      "Topic #1:\n",
      "court supreme judge justice case ruling decision appeal law state federal constitution constitutional power circuit ruled statute opinion authority argument order claim united upheld branch district executive right government attorney\n",
      "\n",
      "Topic #2:\n",
      "day life friend family story know father school home mother child told woman came tell feel time parent son american got born daughter year love later kid man america place\n",
      "\n",
      "Topic #3:\n",
      "european europe minister refugee union muslim party france prime leader britain germany german populist movement french british country italy parliament attack nation political merkel world angela chancellor referendum western war\n",
      "\n",
      "Topic #4:\n",
      "economy tax job economic wage rate population business worker income benefit growth percent american market cost number billion cut higher pay increase million labor policy investment study decade lower education\n",
      "\n",
      "Topic #5:\n",
      "police crime local criminal community sheriff county enforcement law arrest officer federal profiling agency latino arizona city department abuse agent racial custom crackdown official illegal raid immigrant jail policing arrested\n",
      "\n",
      "Topic #6:\n",
      "visa worker employer card citizenship reform path comprehensive million status year senate congress illegal labor workplace green legal applicant permanent american citizen country law work senator immigrant right debate job\n",
      "\n",
      "Topic #7:\n",
      "republican candidate senator party democrat campaign senate presidential voter debate mc mr vote leader bush issue john reform president house want thing deal election talk democratic cain ted donald tax\n",
      "\n",
      "Topic #8:\n",
      "deportation obama action president dreamer deferred young million brought program executive deporting reform administration dream criminal childhood congress homeland child daca threat unauthorized family mr security arrival undocumented republican student\n",
      "\n",
      "Topic #9:\n",
      "migrant refugee asylum detention border child violence family administration gang el honduras central guatemala protection humanitarian fleeing salvador policy center facility human crisis shelter thousand crossing lawyer detained prison seeker\n",
      "\n"
     ]
    }
   ],
   "source": [
    "from sklearn.decomposition import NMF\n",
    "\n",
    "#n_samples = 2000\n",
    "n_features = 5000\n",
    "n_topics = 10\n",
    "n_top_words = 30\n",
    "\n",
    "vectorizer = TfidfVectorizer(max_df=0.95, # ignores terms that appear in more than 95% of the documents\n",
    "                             min_df=0.01, # ignore terms that appear in less than 1% of the documents\n",
    "                             max_features=n_features,\n",
    "                             stop_words='english')\n",
    "\n",
    "tfidf = vectorizer.fit_transform(text_df['all_text'].values)\n",
    "\n",
    "# Fit the NMF model\n",
    "nmf = NMF(n_components=n_topics, random_state=1).fit(tfidf)\n",
    "\n",
    "feature_names = vectorizer.get_feature_names()\n",
    "\n",
    "for topic_idx, topic in enumerate(nmf.components_):\n",
    "    print(\"Topic #%d:\" % topic_idx)\n",
    "    print(\" \".join([feature_names[i]\n",
    "                    for i in topic.argsort()[:-n_top_words - 1:-1]]))\n",
    "    print()"
   ]
  },
  {
   "cell_type": "code",
   "execution_count": 29,
   "metadata": {
    "ExecuteTime": {
     "end_time": "2020-02-28T05:58:57.645801Z",
     "start_time": "2020-02-28T05:58:56.479868Z"
    }
   },
   "outputs": [
    {
     "data": {
      "text/plain": [
       "(1892, 10)"
      ]
     },
     "execution_count": 29,
     "metadata": {},
     "output_type": "execute_result"
    }
   ],
   "source": [
    "# topic matrix\n",
    "nmf_T = nmf.fit_transform(tfidf)\n",
    "nmf_T.shape"
   ]
  },
  {
   "cell_type": "code",
   "execution_count": 30,
   "metadata": {
    "ExecuteTime": {
     "end_time": "2020-02-28T05:59:03.502425Z",
     "start_time": "2020-02-28T05:59:03.490135Z"
    }
   },
   "outputs": [
    {
     "data": {
      "text/html": [
       "<div>\n",
       "<style scoped>\n",
       "    .dataframe tbody tr th:only-of-type {\n",
       "        vertical-align: middle;\n",
       "    }\n",
       "\n",
       "    .dataframe tbody tr th {\n",
       "        vertical-align: top;\n",
       "    }\n",
       "\n",
       "    .dataframe thead th {\n",
       "        text-align: right;\n",
       "    }\n",
       "</style>\n",
       "<table border=\"1\" class=\"dataframe\">\n",
       "  <thead>\n",
       "    <tr style=\"text-align: right;\">\n",
       "      <th></th>\n",
       "      <th>0</th>\n",
       "      <th>1</th>\n",
       "      <th>2</th>\n",
       "      <th>3</th>\n",
       "      <th>4</th>\n",
       "      <th>5</th>\n",
       "      <th>6</th>\n",
       "      <th>7</th>\n",
       "      <th>8</th>\n",
       "      <th>9</th>\n",
       "    </tr>\n",
       "  </thead>\n",
       "  <tbody>\n",
       "    <tr>\n",
       "      <th>0</th>\n",
       "      <td>0.026356</td>\n",
       "      <td>0.062075</td>\n",
       "      <td>0.030525</td>\n",
       "      <td>0.062783</td>\n",
       "      <td>0.023964</td>\n",
       "      <td>0.000000</td>\n",
       "      <td>0.033158</td>\n",
       "      <td>0.000000</td>\n",
       "      <td>0.000016</td>\n",
       "      <td>0.001263</td>\n",
       "    </tr>\n",
       "    <tr>\n",
       "      <th>1</th>\n",
       "      <td>0.008301</td>\n",
       "      <td>0.099741</td>\n",
       "      <td>0.019963</td>\n",
       "      <td>0.000000</td>\n",
       "      <td>0.035693</td>\n",
       "      <td>0.028004</td>\n",
       "      <td>0.016910</td>\n",
       "      <td>0.014511</td>\n",
       "      <td>0.007737</td>\n",
       "      <td>0.026034</td>\n",
       "    </tr>\n",
       "    <tr>\n",
       "      <th>2</th>\n",
       "      <td>0.012514</td>\n",
       "      <td>0.043139</td>\n",
       "      <td>0.042167</td>\n",
       "      <td>0.000000</td>\n",
       "      <td>0.005944</td>\n",
       "      <td>0.110414</td>\n",
       "      <td>0.000000</td>\n",
       "      <td>0.000000</td>\n",
       "      <td>0.028160</td>\n",
       "      <td>0.037365</td>\n",
       "    </tr>\n",
       "    <tr>\n",
       "      <th>3</th>\n",
       "      <td>0.068229</td>\n",
       "      <td>0.003918</td>\n",
       "      <td>0.028599</td>\n",
       "      <td>0.008192</td>\n",
       "      <td>0.030621</td>\n",
       "      <td>0.051213</td>\n",
       "      <td>0.075774</td>\n",
       "      <td>0.023339</td>\n",
       "      <td>0.000000</td>\n",
       "      <td>0.007241</td>\n",
       "    </tr>\n",
       "    <tr>\n",
       "      <th>4</th>\n",
       "      <td>0.016868</td>\n",
       "      <td>0.053054</td>\n",
       "      <td>0.003050</td>\n",
       "      <td>0.000000</td>\n",
       "      <td>0.021304</td>\n",
       "      <td>0.037905</td>\n",
       "      <td>0.000000</td>\n",
       "      <td>0.000000</td>\n",
       "      <td>0.000000</td>\n",
       "      <td>0.127137</td>\n",
       "    </tr>\n",
       "  </tbody>\n",
       "</table>\n",
       "</div>"
      ],
      "text/plain": [
       "          0         1         2         3         4         5         6  \\\n",
       "0  0.026356  0.062075  0.030525  0.062783  0.023964  0.000000  0.033158   \n",
       "1  0.008301  0.099741  0.019963  0.000000  0.035693  0.028004  0.016910   \n",
       "2  0.012514  0.043139  0.042167  0.000000  0.005944  0.110414  0.000000   \n",
       "3  0.068229  0.003918  0.028599  0.008192  0.030621  0.051213  0.075774   \n",
       "4  0.016868  0.053054  0.003050  0.000000  0.021304  0.037905  0.000000   \n",
       "\n",
       "          7         8         9  \n",
       "0  0.000000  0.000016  0.001263  \n",
       "1  0.014511  0.007737  0.026034  \n",
       "2  0.000000  0.028160  0.037365  \n",
       "3  0.023339  0.000000  0.007241  \n",
       "4  0.000000  0.000000  0.127137  "
      ]
     },
     "execution_count": 30,
     "metadata": {},
     "output_type": "execute_result"
    }
   ],
   "source": [
    "nmf_df = pd.DataFrame(nmf_T)\n",
    "nmf_df.head()"
   ]
  },
  {
   "cell_type": "code",
   "execution_count": 13,
   "metadata": {
    "ExecuteTime": {
     "end_time": "2020-02-28T03:21:29.517120Z",
     "start_time": "2020-02-28T03:21:29.508250Z"
    }
   },
   "outputs": [
    {
     "name": "stdout",
     "output_type": "stream",
     "text": [
      "topic  0 = 0.017360558944765632\n",
      "topic  1 = 0.02069712512618426\n",
      "topic  2 = 0.032157764444985734\n",
      "topic  3 = 0.02015222205651769\n",
      "topic  4 = 0.026561654408204828\n",
      "topic  5 = 0.02183373202394347\n",
      "topic  6 = 0.020952716256857355\n",
      "topic  7 = 0.026658632033620323\n",
      "topic  8 = 0.019498995867737835\n",
      "topic  9 = 0.024335078964818416\n"
     ]
    }
   ],
   "source": [
    "# get the average of features/weights for each topic\n",
    "for topic in range(0,10):\n",
    "    avg = nmf_df[topic].mean()\n",
    "    print(\"topic \", topic, \"=\", avg)"
   ]
  },
  {
   "cell_type": "code",
   "execution_count": 31,
   "metadata": {
    "ExecuteTime": {
     "end_time": "2020-02-28T05:59:08.639995Z",
     "start_time": "2020-02-28T05:59:08.625770Z"
    }
   },
   "outputs": [
    {
     "data": {
      "text/html": [
       "<div>\n",
       "<style scoped>\n",
       "    .dataframe tbody tr th:only-of-type {\n",
       "        vertical-align: middle;\n",
       "    }\n",
       "\n",
       "    .dataframe tbody tr th {\n",
       "        vertical-align: top;\n",
       "    }\n",
       "\n",
       "    .dataframe thead th {\n",
       "        text-align: right;\n",
       "    }\n",
       "</style>\n",
       "<table border=\"1\" class=\"dataframe\">\n",
       "  <thead>\n",
       "    <tr style=\"text-align: right;\">\n",
       "      <th></th>\n",
       "      <th>0</th>\n",
       "      <th>1</th>\n",
       "      <th>2</th>\n",
       "      <th>3</th>\n",
       "      <th>4</th>\n",
       "      <th>5</th>\n",
       "      <th>6</th>\n",
       "      <th>7</th>\n",
       "      <th>8</th>\n",
       "      <th>9</th>\n",
       "      <th>topic</th>\n",
       "    </tr>\n",
       "  </thead>\n",
       "  <tbody>\n",
       "    <tr>\n",
       "      <th>0</th>\n",
       "      <td>0.026356</td>\n",
       "      <td>0.062075</td>\n",
       "      <td>0.030525</td>\n",
       "      <td>0.062783</td>\n",
       "      <td>0.023964</td>\n",
       "      <td>0.000000</td>\n",
       "      <td>0.033158</td>\n",
       "      <td>0.000000</td>\n",
       "      <td>0.000016</td>\n",
       "      <td>0.001263</td>\n",
       "      <td>3</td>\n",
       "    </tr>\n",
       "    <tr>\n",
       "      <th>1</th>\n",
       "      <td>0.008301</td>\n",
       "      <td>0.099741</td>\n",
       "      <td>0.019963</td>\n",
       "      <td>0.000000</td>\n",
       "      <td>0.035693</td>\n",
       "      <td>0.028004</td>\n",
       "      <td>0.016910</td>\n",
       "      <td>0.014511</td>\n",
       "      <td>0.007737</td>\n",
       "      <td>0.026034</td>\n",
       "      <td>1</td>\n",
       "    </tr>\n",
       "    <tr>\n",
       "      <th>2</th>\n",
       "      <td>0.012514</td>\n",
       "      <td>0.043139</td>\n",
       "      <td>0.042167</td>\n",
       "      <td>0.000000</td>\n",
       "      <td>0.005944</td>\n",
       "      <td>0.110414</td>\n",
       "      <td>0.000000</td>\n",
       "      <td>0.000000</td>\n",
       "      <td>0.028160</td>\n",
       "      <td>0.037365</td>\n",
       "      <td>5</td>\n",
       "    </tr>\n",
       "    <tr>\n",
       "      <th>3</th>\n",
       "      <td>0.068229</td>\n",
       "      <td>0.003918</td>\n",
       "      <td>0.028599</td>\n",
       "      <td>0.008192</td>\n",
       "      <td>0.030621</td>\n",
       "      <td>0.051213</td>\n",
       "      <td>0.075774</td>\n",
       "      <td>0.023339</td>\n",
       "      <td>0.000000</td>\n",
       "      <td>0.007241</td>\n",
       "      <td>6</td>\n",
       "    </tr>\n",
       "    <tr>\n",
       "      <th>4</th>\n",
       "      <td>0.016868</td>\n",
       "      <td>0.053054</td>\n",
       "      <td>0.003050</td>\n",
       "      <td>0.000000</td>\n",
       "      <td>0.021304</td>\n",
       "      <td>0.037905</td>\n",
       "      <td>0.000000</td>\n",
       "      <td>0.000000</td>\n",
       "      <td>0.000000</td>\n",
       "      <td>0.127137</td>\n",
       "      <td>9</td>\n",
       "    </tr>\n",
       "  </tbody>\n",
       "</table>\n",
       "</div>"
      ],
      "text/plain": [
       "          0         1         2         3         4         5         6  \\\n",
       "0  0.026356  0.062075  0.030525  0.062783  0.023964  0.000000  0.033158   \n",
       "1  0.008301  0.099741  0.019963  0.000000  0.035693  0.028004  0.016910   \n",
       "2  0.012514  0.043139  0.042167  0.000000  0.005944  0.110414  0.000000   \n",
       "3  0.068229  0.003918  0.028599  0.008192  0.030621  0.051213  0.075774   \n",
       "4  0.016868  0.053054  0.003050  0.000000  0.021304  0.037905  0.000000   \n",
       "\n",
       "          7         8         9  topic  \n",
       "0  0.000000  0.000016  0.001263      3  \n",
       "1  0.014511  0.007737  0.026034      1  \n",
       "2  0.000000  0.028160  0.037365      5  \n",
       "3  0.023339  0.000000  0.007241      6  \n",
       "4  0.000000  0.000000  0.127137      9  "
      ]
     },
     "execution_count": 31,
     "metadata": {},
     "output_type": "execute_result"
    }
   ],
   "source": [
    "# Assign a topic to each document\n",
    "nmf_df['topic'] = nmf_df.idxmax(axis=1)\n",
    "nmf_df.head()"
   ]
  },
  {
   "cell_type": "markdown",
   "metadata": {},
   "source": [
    "The average weights of each topic are relatively the same so this means I can assign each document to a topic based on the index (topic) associated with the largest coefficient in the nmf array for each document."
   ]
  },
  {
   "cell_type": "code",
   "execution_count": 32,
   "metadata": {
    "ExecuteTime": {
     "end_time": "2020-02-28T05:59:23.960764Z",
     "start_time": "2020-02-28T05:59:23.945492Z"
    }
   },
   "outputs": [
    {
     "data": {
      "text/html": [
       "<div>\n",
       "<style scoped>\n",
       "    .dataframe tbody tr th:only-of-type {\n",
       "        vertical-align: middle;\n",
       "    }\n",
       "\n",
       "    .dataframe tbody tr th {\n",
       "        vertical-align: top;\n",
       "    }\n",
       "\n",
       "    .dataframe thead th {\n",
       "        text-align: right;\n",
       "    }\n",
       "</style>\n",
       "<table border=\"1\" class=\"dataframe\">\n",
       "  <thead>\n",
       "    <tr style=\"text-align: right;\">\n",
       "      <th></th>\n",
       "      <th>0</th>\n",
       "      <th>1</th>\n",
       "      <th>2</th>\n",
       "      <th>3</th>\n",
       "      <th>4</th>\n",
       "      <th>5</th>\n",
       "      <th>6</th>\n",
       "      <th>7</th>\n",
       "      <th>8</th>\n",
       "      <th>9</th>\n",
       "      <th>topic</th>\n",
       "    </tr>\n",
       "  </thead>\n",
       "  <tbody>\n",
       "    <tr>\n",
       "      <th>0</th>\n",
       "      <td>0.026356</td>\n",
       "      <td>0.062075</td>\n",
       "      <td>0.030525</td>\n",
       "      <td>0.062783</td>\n",
       "      <td>0.023964</td>\n",
       "      <td>0.000000</td>\n",
       "      <td>0.033158</td>\n",
       "      <td>0.000000</td>\n",
       "      <td>0.000016</td>\n",
       "      <td>0.001263</td>\n",
       "      <td>Identity</td>\n",
       "    </tr>\n",
       "    <tr>\n",
       "      <th>1</th>\n",
       "      <td>0.008301</td>\n",
       "      <td>0.099741</td>\n",
       "      <td>0.019963</td>\n",
       "      <td>0.000000</td>\n",
       "      <td>0.035693</td>\n",
       "      <td>0.028004</td>\n",
       "      <td>0.016910</td>\n",
       "      <td>0.014511</td>\n",
       "      <td>0.007737</td>\n",
       "      <td>0.026034</td>\n",
       "      <td>Law</td>\n",
       "    </tr>\n",
       "    <tr>\n",
       "      <th>2</th>\n",
       "      <td>0.012514</td>\n",
       "      <td>0.043139</td>\n",
       "      <td>0.042167</td>\n",
       "      <td>0.000000</td>\n",
       "      <td>0.005944</td>\n",
       "      <td>0.110414</td>\n",
       "      <td>0.000000</td>\n",
       "      <td>0.000000</td>\n",
       "      <td>0.028160</td>\n",
       "      <td>0.037365</td>\n",
       "      <td>Enforcement</td>\n",
       "    </tr>\n",
       "    <tr>\n",
       "      <th>3</th>\n",
       "      <td>0.068229</td>\n",
       "      <td>0.003918</td>\n",
       "      <td>0.028599</td>\n",
       "      <td>0.008192</td>\n",
       "      <td>0.030621</td>\n",
       "      <td>0.051213</td>\n",
       "      <td>0.075774</td>\n",
       "      <td>0.023339</td>\n",
       "      <td>0.000000</td>\n",
       "      <td>0.007241</td>\n",
       "      <td>Labor</td>\n",
       "    </tr>\n",
       "    <tr>\n",
       "      <th>4</th>\n",
       "      <td>0.016868</td>\n",
       "      <td>0.053054</td>\n",
       "      <td>0.003050</td>\n",
       "      <td>0.000000</td>\n",
       "      <td>0.021304</td>\n",
       "      <td>0.037905</td>\n",
       "      <td>0.000000</td>\n",
       "      <td>0.000000</td>\n",
       "      <td>0.000000</td>\n",
       "      <td>0.127137</td>\n",
       "      <td>Refugees</td>\n",
       "    </tr>\n",
       "  </tbody>\n",
       "</table>\n",
       "</div>"
      ],
      "text/plain": [
       "          0         1         2         3         4         5         6  \\\n",
       "0  0.026356  0.062075  0.030525  0.062783  0.023964  0.000000  0.033158   \n",
       "1  0.008301  0.099741  0.019963  0.000000  0.035693  0.028004  0.016910   \n",
       "2  0.012514  0.043139  0.042167  0.000000  0.005944  0.110414  0.000000   \n",
       "3  0.068229  0.003918  0.028599  0.008192  0.030621  0.051213  0.075774   \n",
       "4  0.016868  0.053054  0.003050  0.000000  0.021304  0.037905  0.000000   \n",
       "\n",
       "          7         8         9        topic  \n",
       "0  0.000000  0.000016  0.001263     Identity  \n",
       "1  0.014511  0.007737  0.026034          Law  \n",
       "2  0.000000  0.028160  0.037365  Enforcement  \n",
       "3  0.023339  0.000000  0.007241        Labor  \n",
       "4  0.000000  0.000000  0.127137     Refugees  "
      ]
     },
     "execution_count": 32,
     "metadata": {},
     "output_type": "execute_result"
    }
   ],
   "source": [
    "# name topics\n",
    "topic_names = {0:\"Elections\", 1:\"Law\", 2:\"Family\", 3:\"Identity\", 4:\"Europe\", \n",
    "               5:\"Enforcement\", 6:\"Labor\", 7:\"Border\", 8:\"Citizenship\", 9:\"Refugees\"}\n",
    "nmf_df['topic'] = nmf_df['topic'].map(topic_names)\n",
    "nmf_df.head()"
   ]
  },
  {
   "cell_type": "code",
   "execution_count": 34,
   "metadata": {
    "ExecuteTime": {
     "end_time": "2020-02-28T06:00:49.925005Z",
     "start_time": "2020-02-28T06:00:49.635738Z"
    }
   },
   "outputs": [
    {
     "data": {
      "text/plain": [
       "Text(0, 0.5, '')"
      ]
     },
     "execution_count": 34,
     "metadata": {},
     "output_type": "execute_result"
    },
    {
     "data": {
      "image/png": "[encoded data removed]",
      "text/plain": [
       "<Figure size 1008x720 with 1 Axes>"
      ]
     },
     "metadata": {},
     "output_type": "display_data"
    }
   ],
   "source": [
    "## graph of topic contributions\n",
    "import seaborn as sns\n",
    "import matplotlib.pyplot as plt\n",
    "\n",
    "topic_sum = nmf_df.groupby('topic').size()\n",
    "topic_sum = topic_sum.to_frame(name='docs')\n",
    "topic_sum = topic_sum.reset_index()\n",
    "topic_sum = topic_sum.sort_values('docs')\n",
    "\n",
    "# plot\n",
    "#fig, ax = plt.subplots(figsize=(15, 10))\n",
    "sns.set(font_scale = 1.5)\n",
    "ax = sns.barplot(x='docs', y='topic', data=topic_sum, color='green')\n",
    "#ax.set(title = 'Number of Articles per topic', xlabel='Number of Articles', ylabel='')\n",
    "ax.axes.set_title(\"Number of Articles per topic\",fontsize=25)\n",
    "ax.set_xlabel(\"Number of Articles\",fontsize=20)\n",
    "ax.set_ylabel(\"\")\n",
    "#ax.title('Number of Articles per topic', size=30)\n",
    "#ax.xlabel('Number of Articles', size=20)\n",
    "#ax.ylabel('', size=30)\n",
    "#ax.savefig('/outputs/topic_sum.png')"
   ]
  },
  {
   "cell_type": "code",
   "execution_count": 19,
   "metadata": {
    "ExecuteTime": {
     "end_time": "2020-02-28T03:21:52.372854Z",
     "start_time": "2020-02-28T03:21:52.354269Z"
    }
   },
   "outputs": [
    {
     "data": {
      "text/html": [
       "<div>\n",
       "<style scoped>\n",
       "    .dataframe tbody tr th:only-of-type {\n",
       "        vertical-align: middle;\n",
       "    }\n",
       "\n",
       "    .dataframe tbody tr th {\n",
       "        vertical-align: top;\n",
       "    }\n",
       "\n",
       "    .dataframe thead th {\n",
       "        text-align: right;\n",
       "    }\n",
       "</style>\n",
       "<table border=\"1\" class=\"dataframe\">\n",
       "  <thead>\n",
       "    <tr style=\"text-align: right;\">\n",
       "      <th></th>\n",
       "      <th>level_0</th>\n",
       "      <th>all_text</th>\n",
       "      <th>Unnamed: 0</th>\n",
       "      <th>abstract</th>\n",
       "      <th>web_url</th>\n",
       "      <th>snippet</th>\n",
       "      <th>lead_paragraph</th>\n",
       "      <th>source</th>\n",
       "      <th>headline</th>\n",
       "      <th>pub_date</th>\n",
       "      <th>document_type</th>\n",
       "      <th>news_desk</th>\n",
       "      <th>section_name</th>\n",
       "      <th>index</th>\n",
       "      <th>topic</th>\n",
       "    </tr>\n",
       "  </thead>\n",
       "  <tbody>\n",
       "    <tr>\n",
       "      <th>0</th>\n",
       "      <td>0</td>\n",
       "      <td>including behavior next immigration region bil...</td>\n",
       "      <td>0</td>\n",
       "      <td>Adding Nigeria to the expanded list of exclude...</td>\n",
       "      <td>https://www.nytimes.com/2020/02/04/opinion/tru...</td>\n",
       "      <td>Adding Nigeria to the expanded list of exclude...</td>\n",
       "      <td>It’s happening a little bit out of public cons...</td>\n",
       "      <td>The New York Times</td>\n",
       "      <td>The Racism at the Heart of Trump’s ‘Travel Ban’</td>\n",
       "      <td>2020-02-04T10:00:15+0000</td>\n",
       "      <td>article</td>\n",
       "      <td>OpEd</td>\n",
       "      <td>Opinion</td>\n",
       "      <td>0</td>\n",
       "      <td>Identity</td>\n",
       "    </tr>\n",
       "    <tr>\n",
       "      <th>1</th>\n",
       "      <td>1</td>\n",
       "      <td>buyer widely including week far maintain priva...</td>\n",
       "      <td>1</td>\n",
       "      <td>Congressional hearings are urgently needed to ...</td>\n",
       "      <td>https://www.nytimes.com/2020/02/07/opinion/dhs...</td>\n",
       "      <td>Congressional hearings are urgently needed to ...</td>\n",
       "      <td>“When the government tracks the location of a ...</td>\n",
       "      <td>The New York Times</td>\n",
       "      <td>The Government Uses ‘Near Perfect Surveillance...</td>\n",
       "      <td>2020-02-08T00:24:47+0000</td>\n",
       "      <td>article</td>\n",
       "      <td>Editorial</td>\n",
       "      <td>Opinion</td>\n",
       "      <td>1</td>\n",
       "      <td>Law</td>\n",
       "    </tr>\n",
       "    <tr>\n",
       "      <th>2</th>\n",
       "      <td>2</td>\n",
       "      <td>tattoo widely city daca defendant metro falsif...</td>\n",
       "      <td>2</td>\n",
       "      <td>The bar for being labeled a gang member is low...</td>\n",
       "      <td>https://www.nytimes.com/2020/02/03/opinion/los...</td>\n",
       "      <td>The bar for being labeled a gang member is low...</td>\n",
       "      <td>I found out I was in a gang database — a share...</td>\n",
       "      <td>The New York Times</td>\n",
       "      <td>Are You in a Gang Database?</td>\n",
       "      <td>2020-02-04T00:00:07+0000</td>\n",
       "      <td>article</td>\n",
       "      <td>OpEd</td>\n",
       "      <td>Opinion</td>\n",
       "      <td>2</td>\n",
       "      <td>Crime</td>\n",
       "    </tr>\n",
       "    <tr>\n",
       "      <th>3</th>\n",
       "      <td>3</td>\n",
       "      <td>mexico including divide scholar editorial floo...</td>\n",
       "      <td>3</td>\n",
       "      <td>Immigration can invigorate the country. But wh...</td>\n",
       "      <td>https://www.nytimes.com/2020/01/16/opinion/imm...</td>\n",
       "      <td>Immigration can invigorate the country. But wh...</td>\n",
       "      <td>In 2001, when I was the new Washington corresp...</td>\n",
       "      <td>The New York Times</td>\n",
       "      <td>I’m a Liberal Who Thinks Immigration Must Be R...</td>\n",
       "      <td>2020-01-16T23:48:30+0000</td>\n",
       "      <td>article</td>\n",
       "      <td>OpEd</td>\n",
       "      <td>Opinion</td>\n",
       "      <td>3</td>\n",
       "      <td>Labor</td>\n",
       "    </tr>\n",
       "    <tr>\n",
       "      <th>4</th>\n",
       "      <td>4</td>\n",
       "      <td>payback mexico including week feature history ...</td>\n",
       "      <td>4</td>\n",
       "      <td>For immigrants languishing behind bars, a hung...</td>\n",
       "      <td>https://www.nytimes.com/2020/01/30/opinion/hun...</td>\n",
       "      <td>For immigrants languishing behind bars, a hung...</td>\n",
       "      <td>On Jan. 29, Immigration and Customs Enforcemen...</td>\n",
       "      <td>The New York Times</td>\n",
       "      <td>Starving for Justice in ICE Detention</td>\n",
       "      <td>2020-01-30T20:30:07+0000</td>\n",
       "      <td>article</td>\n",
       "      <td>OpEd</td>\n",
       "      <td>Opinion</td>\n",
       "      <td>4</td>\n",
       "      <td>Refugees</td>\n",
       "    </tr>\n",
       "  </tbody>\n",
       "</table>\n",
       "</div>"
      ],
      "text/plain": [
       "   level_0                                           all_text  Unnamed: 0  \\\n",
       "0        0  including behavior next immigration region bil...           0   \n",
       "1        1  buyer widely including week far maintain priva...           1   \n",
       "2        2  tattoo widely city daca defendant metro falsif...           2   \n",
       "3        3  mexico including divide scholar editorial floo...           3   \n",
       "4        4  payback mexico including week feature history ...           4   \n",
       "\n",
       "                                            abstract  \\\n",
       "0  Adding Nigeria to the expanded list of exclude...   \n",
       "1  Congressional hearings are urgently needed to ...   \n",
       "2  The bar for being labeled a gang member is low...   \n",
       "3  Immigration can invigorate the country. But wh...   \n",
       "4  For immigrants languishing behind bars, a hung...   \n",
       "\n",
       "                                             web_url  \\\n",
       "0  https://www.nytimes.com/2020/02/04/opinion/tru...   \n",
       "1  https://www.nytimes.com/2020/02/07/opinion/dhs...   \n",
       "2  https://www.nytimes.com/2020/02/03/opinion/los...   \n",
       "3  https://www.nytimes.com/2020/01/16/opinion/imm...   \n",
       "4  https://www.nytimes.com/2020/01/30/opinion/hun...   \n",
       "\n",
       "                                             snippet  \\\n",
       "0  Adding Nigeria to the expanded list of exclude...   \n",
       "1  Congressional hearings are urgently needed to ...   \n",
       "2  The bar for being labeled a gang member is low...   \n",
       "3  Immigration can invigorate the country. But wh...   \n",
       "4  For immigrants languishing behind bars, a hung...   \n",
       "\n",
       "                                      lead_paragraph              source  \\\n",
       "0  It’s happening a little bit out of public cons...  The New York Times   \n",
       "1  “When the government tracks the location of a ...  The New York Times   \n",
       "2  I found out I was in a gang database — a share...  The New York Times   \n",
       "3  In 2001, when I was the new Washington corresp...  The New York Times   \n",
       "4  On Jan. 29, Immigration and Customs Enforcemen...  The New York Times   \n",
       "\n",
       "                                            headline  \\\n",
       "0    The Racism at the Heart of Trump’s ‘Travel Ban’   \n",
       "1  The Government Uses ‘Near Perfect Surveillance...   \n",
       "2                        Are You in a Gang Database?   \n",
       "3  I’m a Liberal Who Thinks Immigration Must Be R...   \n",
       "4              Starving for Justice in ICE Detention   \n",
       "\n",
       "                   pub_date document_type  news_desk section_name  index  \\\n",
       "0  2020-02-04T10:00:15+0000       article       OpEd      Opinion      0   \n",
       "1  2020-02-08T00:24:47+0000       article  Editorial      Opinion      1   \n",
       "2  2020-02-04T00:00:07+0000       article       OpEd      Opinion      2   \n",
       "3  2020-01-16T23:48:30+0000       article       OpEd      Opinion      3   \n",
       "4  2020-01-30T20:30:07+0000       article       OpEd      Opinion      4   \n",
       "\n",
       "      topic  \n",
       "0  Identity  \n",
       "1       Law  \n",
       "2     Crime  \n",
       "3     Labor  \n",
       "4  Refugees  "
      ]
     },
     "execution_count": 19,
     "metadata": {},
     "output_type": "execute_result"
    }
   ],
   "source": [
    "# merge topics with main text dataframe\n",
    "topics_index = nmf_df['topic']\n",
    "text_df = text_df.merge(topics_index, left_index=True, right_index=True)\n",
    "#text_df.to_csv('outputs/text_df_topics.csv')\n",
    "text_df.head()"
   ]
  },
  {
   "cell_type": "code",
   "execution_count": 20,
   "metadata": {
    "ExecuteTime": {
     "end_time": "2020-02-28T03:21:58.213724Z",
     "start_time": "2020-02-28T03:21:58.210358Z"
    }
   },
   "outputs": [
    {
     "data": {
      "text/plain": [
       "(1892, 15)"
      ]
     },
     "execution_count": 20,
     "metadata": {},
     "output_type": "execute_result"
    }
   ],
   "source": [
    "text_df.shape"
   ]
  },
  {
   "cell_type": "markdown",
   "metadata": {},
   "source": [
    "## Visualization"
   ]
  },
  {
   "cell_type": "code",
   "execution_count": 81,
   "metadata": {
    "ExecuteTime": {
     "end_time": "2020-02-28T07:34:46.769904Z",
     "start_time": "2020-02-28T07:34:46.766147Z"
    }
   },
   "outputs": [],
   "source": [
    "import seaborn as sns\n",
    "#p = sns.palplot(sns.color_palette(\"cubehelix\", 20))\n",
    "#p = sns.color_palette(\"hls\", 20)\n",
    "#sns.palplot(p)\n",
    "sns.set(style='white', palette=\"bright\", context='notebook', rc={'figure.figsize':(14,10)})"
   ]
  },
  {
   "cell_type": "markdown",
   "metadata": {},
   "source": [
    "Valid metrics are ['euclidean', 'l2', 'l1', 'manhattan', 'cityblock', 'braycurtis', 'canberra', 'chebyshev', 'correlation', 'cosine', 'dice', 'hamming', 'jaccard', 'kulsinski', 'mahalanobis', 'matching', 'minkowski', 'rogerstanimoto', 'russellrao', 'seuclidean', 'sokalmichener', 'sokalsneath', 'sqeuclidean', 'yule', 'wminkowski', 'nan_euclidean', 'haversine']"
   ]
  },
  {
   "cell_type": "code",
   "execution_count": 85,
   "metadata": {
    "ExecuteTime": {
     "end_time": "2020-02-28T07:38:49.778375Z",
     "start_time": "2020-02-28T07:38:46.974121Z"
    }
   },
   "outputs": [
    {
     "name": "stderr",
     "output_type": "stream",
     "text": [
      "'c' argument looks like a single numeric RGB or RGBA sequence, which should be avoided as value-mapping will have precedence in case its length matches with 'x' & 'y'.  Please use a 2-D array with a single row if you really want to specify the same RGB or RGBA value for all points.\n",
      "'c' argument looks like a single numeric RGB or RGBA sequence, which should be avoided as value-mapping will have precedence in case its length matches with 'x' & 'y'.  Please use a 2-D array with a single row if you really want to specify the same RGB or RGBA value for all points.\n",
      "'c' argument looks like a single numeric RGB or RGBA sequence, which should be avoided as value-mapping will have precedence in case its length matches with 'x' & 'y'.  Please use a 2-D array with a single row if you really want to specify the same RGB or RGBA value for all points.\n",
      "'c' argument looks like a single numeric RGB or RGBA sequence, which should be avoided as value-mapping will have precedence in case its length matches with 'x' & 'y'.  Please use a 2-D array with a single row if you really want to specify the same RGB or RGBA value for all points.\n",
      "'c' argument looks like a single numeric RGB or RGBA sequence, which should be avoided as value-mapping will have precedence in case its length matches with 'x' & 'y'.  Please use a 2-D array with a single row if you really want to specify the same RGB or RGBA value for all points.\n",
      "'c' argument looks like a single numeric RGB or RGBA sequence, which should be avoided as value-mapping will have precedence in case its length matches with 'x' & 'y'.  Please use a 2-D array with a single row if you really want to specify the same RGB or RGBA value for all points.\n",
      "'c' argument looks like a single numeric RGB or RGBA sequence, which should be avoided as value-mapping will have precedence in case its length matches with 'x' & 'y'.  Please use a 2-D array with a single row if you really want to specify the same RGB or RGBA value for all points.\n",
      "'c' argument looks like a single numeric RGB or RGBA sequence, which should be avoided as value-mapping will have precedence in case its length matches with 'x' & 'y'.  Please use a 2-D array with a single row if you really want to specify the same RGB or RGBA value for all points.\n",
      "'c' argument looks like a single numeric RGB or RGBA sequence, which should be avoided as value-mapping will have precedence in case its length matches with 'x' & 'y'.  Please use a 2-D array with a single row if you really want to specify the same RGB or RGBA value for all points.\n",
      "'c' argument looks like a single numeric RGB or RGBA sequence, which should be avoided as value-mapping will have precedence in case its length matches with 'x' & 'y'.  Please use a 2-D array with a single row if you really want to specify the same RGB or RGBA value for all points.\n"
     ]
    },
    {
     "data": {
      "text/plain": [
       "<matplotlib.axes._subplots.AxesSubplot at 0x246be2050>"
      ]
     },
     "execution_count": 85,
     "metadata": {},
     "output_type": "execute_result"
    },
    {
     "data": {
      "image/png": "[encoded data removed]",
      "text/plain": [
       "<Figure size 1008x720 with 1 Axes>"
      ]
     },
     "metadata": {},
     "output_type": "display_data"
    }
   ],
   "source": [
    "docs = nmf_T\n",
    "labels = nmf_df['topic']\n",
    "\n",
    "# Instantiate the text visualizer\n",
    "umap = UMAPVisualizer(metric='euclidean')\n",
    "umap.fit(docs, labels)\n",
    "umap.show(outpath='/Users/AuerPower/Metis/git/steel-man/outputs/topic-cluster2.svg')"
   ]
  },
  {
   "cell_type": "markdown",
   "metadata": {},
   "source": [
    "## Clustering with K-means"
   ]
  },
  {
   "cell_type": "markdown",
   "metadata": {},
   "source": [
    "When you do k-means it allows you to include a mix of topics in cluster. just taking the maximum value of a topic matrix could be assigning a topic that is actually really close to another topic. you lose information."
   ]
  },
  {
   "cell_type": "code",
   "execution_count": 134,
   "metadata": {
    "ExecuteTime": {
     "end_time": "2020-02-28T08:36:43.398665Z",
     "start_time": "2020-02-28T08:36:40.253949Z"
    }
   },
   "outputs": [
    {
     "name": "stderr",
     "output_type": "stream",
     "text": [
      "'c' argument looks like a single numeric RGB or RGBA sequence, which should be avoided as value-mapping will have precedence in case its length matches with 'x' & 'y'.  Please use a 2-D array with a single row if you really want to specify the same RGB or RGBA value for all points.\n",
      "'c' argument looks like a single numeric RGB or RGBA sequence, which should be avoided as value-mapping will have precedence in case its length matches with 'x' & 'y'.  Please use a 2-D array with a single row if you really want to specify the same RGB or RGBA value for all points.\n",
      "'c' argument looks like a single numeric RGB or RGBA sequence, which should be avoided as value-mapping will have precedence in case its length matches with 'x' & 'y'.  Please use a 2-D array with a single row if you really want to specify the same RGB or RGBA value for all points.\n",
      "'c' argument looks like a single numeric RGB or RGBA sequence, which should be avoided as value-mapping will have precedence in case its length matches with 'x' & 'y'.  Please use a 2-D array with a single row if you really want to specify the same RGB or RGBA value for all points.\n",
      "'c' argument looks like a single numeric RGB or RGBA sequence, which should be avoided as value-mapping will have precedence in case its length matches with 'x' & 'y'.  Please use a 2-D array with a single row if you really want to specify the same RGB or RGBA value for all points.\n",
      "'c' argument looks like a single numeric RGB or RGBA sequence, which should be avoided as value-mapping will have precedence in case its length matches with 'x' & 'y'.  Please use a 2-D array with a single row if you really want to specify the same RGB or RGBA value for all points.\n",
      "'c' argument looks like a single numeric RGB or RGBA sequence, which should be avoided as value-mapping will have precedence in case its length matches with 'x' & 'y'.  Please use a 2-D array with a single row if you really want to specify the same RGB or RGBA value for all points.\n",
      "'c' argument looks like a single numeric RGB or RGBA sequence, which should be avoided as value-mapping will have precedence in case its length matches with 'x' & 'y'.  Please use a 2-D array with a single row if you really want to specify the same RGB or RGBA value for all points.\n"
     ]
    },
    {
     "data": {
      "text/plain": [
       "<matplotlib.axes._subplots.AxesSubplot at 0x236f2e490>"
      ]
     },
     "execution_count": 134,
     "metadata": {},
     "output_type": "execute_result"
    },
    {
     "data": {
      "image/png": "[encoded data removed]",
      "text/plain": [
       "<Figure size 1008x720 with 1 Axes>"
      ]
     },
     "metadata": {},
     "output_type": "display_data"
    }
   ],
   "source": [
    "from sklearn.cluster import KMeans\n",
    "from sklearn.feature_extraction.text import TfidfVectorizer\n",
    "from yellowbrick.text import UMAPVisualizer\n",
    "import warnings\n",
    "with warnings.catch_warnings():\n",
    "    warnings.simplefilter('ignore')\n",
    "\n",
    "# Load the text data\n",
    "docs = nmf_T\n",
    "\n",
    "# Instantiate the clustering model\n",
    "clusters = KMeans(n_clusters=8, n_jobs = -1, random_state = 42)\n",
    "clusters.fit(docs)\n",
    "\n",
    "umap = UMAPVisualizer() \n",
    "umap.fit(docs, [\"c{}\".format(c) for c in clusters.labels_])\n",
    "umap.show(outpath='/Users/AuerPower/Metis/git/steel-man/outputs/kmeans-cluster2.svg')\n",
    "#umap.save(, format='svg', transparent=True)"
   ]
  },
  {
   "cell_type": "code",
   "execution_count": 136,
   "metadata": {
    "ExecuteTime": {
     "end_time": "2020-02-28T08:36:48.048749Z",
     "start_time": "2020-02-28T08:36:48.039153Z"
    }
   },
   "outputs": [
    {
     "data": {
      "text/html": [
       "<div>\n",
       "<style scoped>\n",
       "    .dataframe tbody tr th:only-of-type {\n",
       "        vertical-align: middle;\n",
       "    }\n",
       "\n",
       "    .dataframe tbody tr th {\n",
       "        vertical-align: top;\n",
       "    }\n",
       "\n",
       "    .dataframe thead th {\n",
       "        text-align: right;\n",
       "    }\n",
       "</style>\n",
       "<table border=\"1\" class=\"dataframe\">\n",
       "  <thead>\n",
       "    <tr style=\"text-align: right;\">\n",
       "      <th></th>\n",
       "      <th>headline</th>\n",
       "      <th>snippet</th>\n",
       "      <th>topic</th>\n",
       "      <th>cluster</th>\n",
       "    </tr>\n",
       "  </thead>\n",
       "  <tbody>\n",
       "    <tr>\n",
       "      <th>0</th>\n",
       "      <td>The Racism at the Heart of Trump’s ‘Travel Ban’</td>\n",
       "      <td>Adding Nigeria to the expanded list of exclude...</td>\n",
       "      <td>Identity</td>\n",
       "      <td>5</td>\n",
       "    </tr>\n",
       "    <tr>\n",
       "      <th>1</th>\n",
       "      <td>The Government Uses ‘Near Perfect Surveillance...</td>\n",
       "      <td>Congressional hearings are urgently needed to ...</td>\n",
       "      <td>Law</td>\n",
       "      <td>6</td>\n",
       "    </tr>\n",
       "    <tr>\n",
       "      <th>2</th>\n",
       "      <td>Are You in a Gang Database?</td>\n",
       "      <td>The bar for being labeled a gang member is low...</td>\n",
       "      <td>Crime</td>\n",
       "      <td>1</td>\n",
       "    </tr>\n",
       "    <tr>\n",
       "      <th>3</th>\n",
       "      <td>I’m a Liberal Who Thinks Immigration Must Be R...</td>\n",
       "      <td>Immigration can invigorate the country. But wh...</td>\n",
       "      <td>Labor</td>\n",
       "      <td>7</td>\n",
       "    </tr>\n",
       "    <tr>\n",
       "      <th>4</th>\n",
       "      <td>Starving for Justice in ICE Detention</td>\n",
       "      <td>For immigrants languishing behind bars, a hung...</td>\n",
       "      <td>Refugees</td>\n",
       "      <td>0</td>\n",
       "    </tr>\n",
       "  </tbody>\n",
       "</table>\n",
       "</div>"
      ],
      "text/plain": [
       "                                            headline  \\\n",
       "0    The Racism at the Heart of Trump’s ‘Travel Ban’   \n",
       "1  The Government Uses ‘Near Perfect Surveillance...   \n",
       "2                        Are You in a Gang Database?   \n",
       "3  I’m a Liberal Who Thinks Immigration Must Be R...   \n",
       "4              Starving for Justice in ICE Detention   \n",
       "\n",
       "                                             snippet     topic  cluster  \n",
       "0  Adding Nigeria to the expanded list of exclude...  Identity        5  \n",
       "1  Congressional hearings are urgently needed to ...       Law        6  \n",
       "2  The bar for being labeled a gang member is low...     Crime        1  \n",
       "3  Immigration can invigorate the country. But wh...     Labor        7  \n",
       "4  For immigrants languishing behind bars, a hung...  Refugees        0  "
      ]
     },
     "execution_count": 136,
     "metadata": {},
     "output_type": "execute_result"
    }
   ],
   "source": [
    "# Create data frame to which topic ended up in which clusters\n",
    "cluster_df = pd.DataFrame.from_dict({'headline':text_df['headline'],\n",
    "                                     'snippet':text_df['snippet'],\n",
    "                                     'topic':text_df['topic'], \n",
    "                                     'cluster':clusters.labels_})\n",
    "cluster_df.head()"
   ]
  },
  {
   "cell_type": "code",
   "execution_count": 167,
   "metadata": {
    "ExecuteTime": {
     "end_time": "2020-02-28T10:25:35.280519Z",
     "start_time": "2020-02-28T10:25:35.263854Z"
    }
   },
   "outputs": [],
   "source": [
    "# plot the topics within each cluster\n",
    "# stacked bar of topics in a cluster\n",
    "cluster_df.to_csv('/Users/AuerPower/Metis/git/steel-man/outputs/cluster_df.csv')"
   ]
  },
  {
   "cell_type": "markdown",
   "metadata": {
    "ExecuteTime": {
     "end_time": "2020-02-26T22:26:00.529463Z",
     "start_time": "2020-02-26T22:26:00.527300Z"
    }
   },
   "source": [
    "## Recommender system\n",
    "I tried threes different types of recommendation systems\n",
    "1. Cosine similarity and kmeans clustering\n",
    "2. Cosine similarity and NMF \n",
    "3. cosine simlarity between documents"
   ]
  },
  {
   "cell_type": "markdown",
   "metadata": {
    "ExecuteTime": {
     "end_time": "2020-02-28T06:19:08.356708Z",
     "start_time": "2020-02-28T06:19:08.354634Z"
    }
   },
   "source": [
    "#### K-means cosine recommender system"
   ]
  },
  {
   "cell_type": "code",
   "execution_count": 137,
   "metadata": {
    "ExecuteTime": {
     "end_time": "2020-02-28T08:36:54.690894Z",
     "start_time": "2020-02-28T08:36:54.687414Z"
    }
   },
   "outputs": [],
   "source": [
    "# Create cluster matrix\n",
    "cluster_matrix = clusters.transform(docs)"
   ]
  },
  {
   "cell_type": "code",
   "execution_count": 138,
   "metadata": {
    "ExecuteTime": {
     "end_time": "2020-02-28T08:36:55.454479Z",
     "start_time": "2020-02-28T08:36:55.442396Z"
    }
   },
   "outputs": [
    {
     "data": {
      "text/html": [
       "<div>\n",
       "<style scoped>\n",
       "    .dataframe tbody tr th:only-of-type {\n",
       "        vertical-align: middle;\n",
       "    }\n",
       "\n",
       "    .dataframe tbody tr th {\n",
       "        vertical-align: top;\n",
       "    }\n",
       "\n",
       "    .dataframe thead th {\n",
       "        text-align: right;\n",
       "    }\n",
       "</style>\n",
       "<table border=\"1\" class=\"dataframe\">\n",
       "  <thead>\n",
       "    <tr style=\"text-align: right;\">\n",
       "      <th></th>\n",
       "      <th>0</th>\n",
       "      <th>1</th>\n",
       "      <th>2</th>\n",
       "      <th>3</th>\n",
       "      <th>4</th>\n",
       "      <th>5</th>\n",
       "      <th>6</th>\n",
       "      <th>7</th>\n",
       "      <th>cluster</th>\n",
       "    </tr>\n",
       "  </thead>\n",
       "  <tbody>\n",
       "    <tr>\n",
       "      <th>0</th>\n",
       "      <td>0.140392</td>\n",
       "      <td>0.147837</td>\n",
       "      <td>0.104325</td>\n",
       "      <td>0.122888</td>\n",
       "      <td>0.117124</td>\n",
       "      <td>0.075079</td>\n",
       "      <td>0.103520</td>\n",
       "      <td>0.115449</td>\n",
       "      <td>5</td>\n",
       "    </tr>\n",
       "    <tr>\n",
       "      <th>1</th>\n",
       "      <td>0.125070</td>\n",
       "      <td>0.126488</td>\n",
       "      <td>0.110762</td>\n",
       "      <td>0.127925</td>\n",
       "      <td>0.134345</td>\n",
       "      <td>0.142301</td>\n",
       "      <td>0.049992</td>\n",
       "      <td>0.126502</td>\n",
       "      <td>6</td>\n",
       "    </tr>\n",
       "    <tr>\n",
       "      <th>2</th>\n",
       "      <td>0.131575</td>\n",
       "      <td>0.050134</td>\n",
       "      <td>0.131820</td>\n",
       "      <td>0.162578</td>\n",
       "      <td>0.131191</td>\n",
       "      <td>0.156637</td>\n",
       "      <td>0.131900</td>\n",
       "      <td>0.149602</td>\n",
       "      <td>1</td>\n",
       "    </tr>\n",
       "    <tr>\n",
       "      <th>3</th>\n",
       "      <td>0.150929</td>\n",
       "      <td>0.118216</td>\n",
       "      <td>0.097341</td>\n",
       "      <td>0.125749</td>\n",
       "      <td>0.132985</td>\n",
       "      <td>0.135650</td>\n",
       "      <td>0.162685</td>\n",
       "      <td>0.085323</td>\n",
       "      <td>7</td>\n",
       "    </tr>\n",
       "    <tr>\n",
       "      <th>4</th>\n",
       "      <td>0.056135</td>\n",
       "      <td>0.148681</td>\n",
       "      <td>0.145854</td>\n",
       "      <td>0.162545</td>\n",
       "      <td>0.168236</td>\n",
       "      <td>0.163960</td>\n",
       "      <td>0.142940</td>\n",
       "      <td>0.164924</td>\n",
       "      <td>0</td>\n",
       "    </tr>\n",
       "  </tbody>\n",
       "</table>\n",
       "</div>"
      ],
      "text/plain": [
       "          0         1         2         3         4         5         6  \\\n",
       "0  0.140392  0.147837  0.104325  0.122888  0.117124  0.075079  0.103520   \n",
       "1  0.125070  0.126488  0.110762  0.127925  0.134345  0.142301  0.049992   \n",
       "2  0.131575  0.050134  0.131820  0.162578  0.131191  0.156637  0.131900   \n",
       "3  0.150929  0.118216  0.097341  0.125749  0.132985  0.135650  0.162685   \n",
       "4  0.056135  0.148681  0.145854  0.162545  0.168236  0.163960  0.142940   \n",
       "\n",
       "          7  cluster  \n",
       "0  0.115449        5  \n",
       "1  0.126502        6  \n",
       "2  0.149602        1  \n",
       "3  0.085323        7  \n",
       "4  0.164924        0  "
      ]
     },
     "execution_count": 138,
     "metadata": {},
     "output_type": "execute_result"
    }
   ],
   "source": [
    "cluster_matrix_df = pd.DataFrame(cluster_matrix)\n",
    "cluster_matrix_df['cluster'] = clusters.labels_\n",
    "cluster_matrix_df.head()"
   ]
  },
  {
   "cell_type": "code",
   "execution_count": 139,
   "metadata": {
    "ExecuteTime": {
     "end_time": "2020-02-28T08:36:59.030620Z",
     "start_time": "2020-02-28T08:36:59.028006Z"
    }
   },
   "outputs": [],
   "source": [
    "indices = pd.Series(text_df['headline'])"
   ]
  },
  {
   "cell_type": "code",
   "execution_count": 140,
   "metadata": {
    "ExecuteTime": {
     "end_time": "2020-02-28T08:36:59.602992Z",
     "start_time": "2020-02-28T08:36:59.597494Z"
    }
   },
   "outputs": [],
   "source": [
    "# recommender by cosine similarity within cluster\n",
    "def recommend_kmeans(headline):\n",
    "    recommended_steelmen = []\n",
    "    # get index of the article headline\n",
    "    idx = indices[indices == headline].index[0]\n",
    "    # get topic of article\n",
    "    topic_of_article = cluster_matrix_df.cluster[idx]\n",
    "    # get all articles of the same topic and drop topic column\n",
    "    topic_set = cluster_matrix_df[cluster_matrix_df.cluster == topic_of_article].drop('cluster', axis=1)\n",
    "    # calculate cosine similarity on data frame and select array for article\n",
    "    cosine_calc = cosine_similarity(topic_set)\n",
    "    # sort values\n",
    "    score_series = pd.Series(cosine_calc[0]).sort_values(ascending = True) # this is returning in order of least similar\n",
    "    top_10_indices = list(score_series.iloc[1:11].index)\n",
    "    \n",
    "    for i in top_10_indices:\n",
    "        #recommended_steelmen.append(list(cluster_df['headline'], cluster_df['snippet'])[i])\n",
    "        recommended_steelmen.append([cluster_df['headline'][i], cluster_df['snippet'][i]])\n",
    "        \n",
    "    return recommended_steelmen"
   ]
  },
  {
   "cell_type": "code",
   "execution_count": 141,
   "metadata": {
    "ExecuteTime": {
     "end_time": "2020-02-28T08:37:01.274519Z",
     "start_time": "2020-02-28T08:37:01.264800Z"
    }
   },
   "outputs": [
    {
     "data": {
      "text/plain": [
       "[['What Now for Europeans Who Love Britain?',\n",
       "  'An Italian who once lived happily there wonders how Brexit will reshape the feelings of others in the E.U. toward the British.'],\n",
       " ['Britain’s Flawed Immigration Strategy',\n",
       "  'Warnings that Britain will be overrun are exaggerated and counterproductive.'],\n",
       " ['Between Folly and Cruelty on Immigration',\n",
       "  'Can right and left break out of their disastrous cycle?'],\n",
       " ['Why Trump Persists',\n",
       "  'Voters are less tolerant, less empathetic and less interested in integrity than many political analysts thought.'],\n",
       " ['The Supreme Court Confronts DACA',\n",
       "  'Will the justices allow the Trump administration to toss out the Dreamers?'],\n",
       " ['Immigration Riddle',\n",
       "  'The Town of Huntington should commit itself to keep some services going for day laborers, and thus keep homelessness, vagrancy and sickness at bay.'],\n",
       " ['An Illegal Immigration Patchwork',\n",
       "  'The Obama administration should urge the Supreme Court to weigh in against the improper splintering of national immigration policy.'],\n",
       " ['What’s Obama’s Plan C for Immigration?',\n",
       "  'The White House can’t let up in its efforts to mend a broken system.'],\n",
       " ['Democrats, Stop Helping Trump', 'The 2020 election is too important.'],\n",
       " ['Watch Out, America — The Supreme Court Is Back in Session',\n",
       "  'And conservatives could be the big winners.']]"
      ]
     },
     "execution_count": 141,
     "metadata": {},
     "output_type": "execute_result"
    }
   ],
   "source": [
    "recommend_kmeans('Slouching Toward Eurabia?')"
   ]
  },
  {
   "cell_type": "markdown",
   "metadata": {
    "ExecuteTime": {
     "end_time": "2020-02-28T06:19:42.250107Z",
     "start_time": "2020-02-28T06:19:42.248052Z"
    }
   },
   "source": [
    "#### NMF and cosine similarity recommender system"
   ]
  },
  {
   "cell_type": "code",
   "execution_count": 97,
   "metadata": {
    "ExecuteTime": {
     "end_time": "2020-02-28T08:19:15.593817Z",
     "start_time": "2020-02-28T08:19:15.588123Z"
    }
   },
   "outputs": [],
   "source": [
    "# recommender by cosine similarity within topic\n",
    "def recommend(headline):\n",
    "    recommended_steelmen = []\n",
    "    # get index of the article headline\n",
    "    idx = indices[indices == headline].index[0]\n",
    "    # get topic of article\n",
    "    topic_of_article = nmf_df.topic[idx]\n",
    "    # get all articles of the same topic and drop topic column\n",
    "    topic_set = nmf_df[nmf_df.topic == topic_of_article].drop('topic', axis=1)\n",
    "    # calculate cosine similarity on data frame and select array for article\n",
    "    cosine_calc = cosine_similarity(topic_set)\n",
    "    # sort values\n",
    "    score_series = pd.Series(cosine_calc[0]).sort_values(ascending = True) # this is returning in order of least similar\n",
    "    top_10_indices = list(score_series.iloc[1:11].index)\n",
    "    \n",
    "    for i in top_10_indices:\n",
    "        #recommended_steelmen.append(list(text_df['headline'])[i])\n",
    "        recommended_steelmen.append([text_df['headline'][i], text_df['snippet'][i]])\n",
    "        \n",
    "    return recommended_steelmen\n",
    "\n",
    "#biggest_topic_set = nmf_df[nmf_df.topic_y == biggest_topic]\n",
    "#cosine_sim = cosine_similarity(nmf_T[biggest_topic_set.index])"
   ]
  },
  {
   "cell_type": "code",
   "execution_count": 117,
   "metadata": {
    "ExecuteTime": {
     "end_time": "2020-02-28T08:33:53.550559Z",
     "start_time": "2020-02-28T08:33:53.541570Z"
    }
   },
   "outputs": [
    {
     "data": {
      "text/plain": [
       "[['Britain’s Flawed Immigration Strategy',\n",
       "  'Warnings that Britain will be overrun are exaggerated and counterproductive.'],\n",
       " ['A Cool Head on Immigration',\n",
       "  'Gov. Janet Napolitano of Arizona would be a solid choice for homeland security secretary. She has a strong understanding of immigration and its political traps.'],\n",
       " ['Immigration and the Elections',\n",
       "  'David Shipley, the Op-Ed editor, speaks with Lawrence Downes, an editorial writer, about the immigration issues that have played out in this election cycle.'],\n",
       " ['Meet Memo, the Marie Kondo of Fitness',\n",
       "  'In a cluttered world of boutique fitness studios and high-end gear, Guillermo Piñeda Morales reminds us that we don’t need much to be our best.'],\n",
       " ['I’m a Liberal Who Thinks Immigration Must Be Restricted',\n",
       "  'Immigration can invigorate the country. But when it is poorly managed, it can cause social division — just as it’s doing right now.'],\n",
       " ['The Immigration Bill Presses On',\n",
       "  'After two weeks of markup, the fundamental support for immigration reform looks strong.'],\n",
       " ['How to Beat Trump on Immigration',\n",
       "  'A generous vision of a multicultural world.'],\n",
       " ['The Next Immigration Challenge',\n",
       "  'We must shift from an immigration policy of keeping newcomers out to an immigrant policy of encouraging migrants and their children to integrate into our social fabric.'],\n",
       " ['Here’s a Way Forward on Facial Recognition',\n",
       "  'The police should be able to use it, but in a very limited way.'],\n",
       " ['A Musical Plea for Immigration Reform',\n",
       "  'In a recent music video, Los Jornaleros del Norte offer a reminder of the toll detention and deportation can take on families.']]"
      ]
     },
     "execution_count": 117,
     "metadata": {},
     "output_type": "execute_result"
    }
   ],
   "source": [
    "recommend('Slouching Toward Eurabia?')"
   ]
  },
  {
   "cell_type": "markdown",
   "metadata": {},
   "source": [
    "#### recommender by cosine similarity only"
   ]
  },
  {
   "cell_type": "code",
   "execution_count": 61,
   "metadata": {
    "ExecuteTime": {
     "end_time": "2020-02-28T07:16:00.839057Z",
     "start_time": "2020-02-28T07:16:00.817491Z"
    }
   },
   "outputs": [],
   "source": [
    "cosine_sim = cosine_similarity(nmf_T)"
   ]
  },
  {
   "cell_type": "code",
   "execution_count": 62,
   "metadata": {
    "ExecuteTime": {
     "end_time": "2020-02-28T07:16:02.254903Z",
     "start_time": "2020-02-28T07:16:02.250652Z"
    }
   },
   "outputs": [],
   "source": [
    "# recommender by cosine similarity only\n",
    "def recommend2(headline, cosine_sim = cosine_sim):\n",
    "    recommended_steelmen = []\n",
    "    idx = indices[indices == headline].index[0]\n",
    "    score_series = pd.Series(cosine_sim[idx]).sort_values(ascending = True) # this is returning in order of least similar\n",
    "    top_10_indices = list(score_series.iloc[0:10].index)\n",
    "    \n",
    "    for i in top_10_indices:\n",
    "        recommended_steelmen.append(list(text_df['headline'])[i])\n",
    "        \n",
    "    return recommended_steelmen"
   ]
  },
  {
   "cell_type": "code",
   "execution_count": 64,
   "metadata": {
    "ExecuteTime": {
     "end_time": "2020-02-28T07:17:20.959834Z",
     "start_time": "2020-02-28T07:17:20.952710Z"
    }
   },
   "outputs": [
    {
     "data": {
      "text/plain": [
       "['The Retro Futurism of Marco Rubio',\n",
       " 'Pulling Back the Immigration Posses',\n",
       " 'Jeb Bush Openly Runs for President, Finally',\n",
       " 'Praise for Bush’s Treasury Choice',\n",
       " 'Could Ted Cruz Win?',\n",
       " 'Donald Trump Is Focus of Attacks in the Republican Debate',\n",
       " 'Could Donald Trump Be Good for Republicans?',\n",
       " 'Georgia Republicans Know Exactly Who’s at Fault for Gridlock',\n",
       " 'California’s Trust Act',\n",
       " 'Confusion Over Secure Communities']"
      ]
     },
     "execution_count": 64,
     "metadata": {},
     "output_type": "execute_result"
    }
   ],
   "source": [
    "recommend2('The Racism at the Heart of Trump’s ‘Travel Ban’')"
   ]
  }
 ],
 "metadata": {
  "kernelspec": {
   "display_name": "Python [conda env:metis] *",
   "language": "python",
   "name": "conda-env-metis-py"
  },
  "language_info": {
   "codemirror_mode": {
    "name": "ipython",
    "version": 3
   },
   "file_extension": ".py",
   "mimetype": "text/x-python",
   "name": "python",
   "nbconvert_exporter": "python",
   "pygments_lexer": "ipython3",
   "version": "3.7.4"
  }
 },
 "nbformat": 4,
 "nbformat_minor": 2
}
